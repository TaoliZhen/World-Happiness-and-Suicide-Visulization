{
 "cells": [
  {
   "cell_type": "code",
   "execution_count": 2,
   "metadata": {
    "collapsed": true
   },
   "outputs": [],
   "source": [
    "import pandas as pd\n"
   ]
  },
  {
   "cell_type": "markdown",
   "source": [
    "## Suicide Rates dataset (2000 - 2019)\n",
    "### File name: 'Suicide rates WHO.csv', 'Crude Suuicide Rates WHO.csv'\n",
    "link: https://www.who.int/data/gho/data/themes/mental-health/suicide-rates\n",
    "\n",
    "#### Age-standardized suicide rate (per 100,000 population)"
   ],
   "metadata": {
    "collapsed": false,
    "pycharm": {
     "name": "#%% md\n"
    }
   }
  },
  {
   "cell_type": "code",
   "execution_count": 50,
   "outputs": [
    {
     "data": {
      "text/plain": "       Year              Country CountryCode ParentCountry ParentCountryCode  \\\n0      2019  Antigua and Barbuda         ATG      Americas               AMR   \n1      2019             Barbados         BRB      Americas               AMR   \n2      2019             Barbados         BRB      Americas               AMR   \n3      2019  Antigua and Barbuda         ATG      Americas               AMR   \n4      2019             Barbados         BRB      Americas               AMR   \n...     ...                  ...         ...           ...               ...   \n10975  2000               Guinea         GIN        Africa               AFR   \n10976  2000                Ghana         GHA        Africa               AFR   \n10977  2000                Malta         MLT        Europe               EUR   \n10978  2000           Seychelles         SYC        Africa               AFR   \n10979  2000           Montenegro         MNE        Europe               EUR   \n\n              Sex SexCode  SuicideRate  SuicideRateLower  SuicideRateUpper  \n0            Male     MLE         0.00              0.00              0.00  \n1          Female    FMLE         0.16              0.11              0.22  \n2      Both sexes    BTSX         0.31              0.22              0.42  \n3      Both sexes    BTSX         0.32              0.22              0.45  \n4            Male     MLE         0.49              0.34              0.65  \n...           ...     ...          ...               ...               ...  \n10975  Both sexes    BTSX         9.73              5.57             15.96  \n10976  Both sexes    BTSX         9.75              6.46             14.30  \n10977        Male     MLE         9.75              7.56             12.29  \n10978  Both sexes    BTSX         9.76              6.60             13.46  \n10979      Female    FMLE         9.82              7.22             12.89  \n\n[10980 rows x 10 columns]",
      "text/html": "<div>\n<style scoped>\n    .dataframe tbody tr th:only-of-type {\n        vertical-align: middle;\n    }\n\n    .dataframe tbody tr th {\n        vertical-align: top;\n    }\n\n    .dataframe thead th {\n        text-align: right;\n    }\n</style>\n<table border=\"1\" class=\"dataframe\">\n  <thead>\n    <tr style=\"text-align: right;\">\n      <th></th>\n      <th>Year</th>\n      <th>Country</th>\n      <th>CountryCode</th>\n      <th>ParentCountry</th>\n      <th>ParentCountryCode</th>\n      <th>Sex</th>\n      <th>SexCode</th>\n      <th>SuicideRate</th>\n      <th>SuicideRateLower</th>\n      <th>SuicideRateUpper</th>\n    </tr>\n  </thead>\n  <tbody>\n    <tr>\n      <th>0</th>\n      <td>2019</td>\n      <td>Antigua and Barbuda</td>\n      <td>ATG</td>\n      <td>Americas</td>\n      <td>AMR</td>\n      <td>Male</td>\n      <td>MLE</td>\n      <td>0.00</td>\n      <td>0.00</td>\n      <td>0.00</td>\n    </tr>\n    <tr>\n      <th>1</th>\n      <td>2019</td>\n      <td>Barbados</td>\n      <td>BRB</td>\n      <td>Americas</td>\n      <td>AMR</td>\n      <td>Female</td>\n      <td>FMLE</td>\n      <td>0.16</td>\n      <td>0.11</td>\n      <td>0.22</td>\n    </tr>\n    <tr>\n      <th>2</th>\n      <td>2019</td>\n      <td>Barbados</td>\n      <td>BRB</td>\n      <td>Americas</td>\n      <td>AMR</td>\n      <td>Both sexes</td>\n      <td>BTSX</td>\n      <td>0.31</td>\n      <td>0.22</td>\n      <td>0.42</td>\n    </tr>\n    <tr>\n      <th>3</th>\n      <td>2019</td>\n      <td>Antigua and Barbuda</td>\n      <td>ATG</td>\n      <td>Americas</td>\n      <td>AMR</td>\n      <td>Both sexes</td>\n      <td>BTSX</td>\n      <td>0.32</td>\n      <td>0.22</td>\n      <td>0.45</td>\n    </tr>\n    <tr>\n      <th>4</th>\n      <td>2019</td>\n      <td>Barbados</td>\n      <td>BRB</td>\n      <td>Americas</td>\n      <td>AMR</td>\n      <td>Male</td>\n      <td>MLE</td>\n      <td>0.49</td>\n      <td>0.34</td>\n      <td>0.65</td>\n    </tr>\n    <tr>\n      <th>...</th>\n      <td>...</td>\n      <td>...</td>\n      <td>...</td>\n      <td>...</td>\n      <td>...</td>\n      <td>...</td>\n      <td>...</td>\n      <td>...</td>\n      <td>...</td>\n      <td>...</td>\n    </tr>\n    <tr>\n      <th>10975</th>\n      <td>2000</td>\n      <td>Guinea</td>\n      <td>GIN</td>\n      <td>Africa</td>\n      <td>AFR</td>\n      <td>Both sexes</td>\n      <td>BTSX</td>\n      <td>9.73</td>\n      <td>5.57</td>\n      <td>15.96</td>\n    </tr>\n    <tr>\n      <th>10976</th>\n      <td>2000</td>\n      <td>Ghana</td>\n      <td>GHA</td>\n      <td>Africa</td>\n      <td>AFR</td>\n      <td>Both sexes</td>\n      <td>BTSX</td>\n      <td>9.75</td>\n      <td>6.46</td>\n      <td>14.30</td>\n    </tr>\n    <tr>\n      <th>10977</th>\n      <td>2000</td>\n      <td>Malta</td>\n      <td>MLT</td>\n      <td>Europe</td>\n      <td>EUR</td>\n      <td>Male</td>\n      <td>MLE</td>\n      <td>9.75</td>\n      <td>7.56</td>\n      <td>12.29</td>\n    </tr>\n    <tr>\n      <th>10978</th>\n      <td>2000</td>\n      <td>Seychelles</td>\n      <td>SYC</td>\n      <td>Africa</td>\n      <td>AFR</td>\n      <td>Both sexes</td>\n      <td>BTSX</td>\n      <td>9.76</td>\n      <td>6.60</td>\n      <td>13.46</td>\n    </tr>\n    <tr>\n      <th>10979</th>\n      <td>2000</td>\n      <td>Montenegro</td>\n      <td>MNE</td>\n      <td>Europe</td>\n      <td>EUR</td>\n      <td>Female</td>\n      <td>FMLE</td>\n      <td>9.82</td>\n      <td>7.22</td>\n      <td>12.89</td>\n    </tr>\n  </tbody>\n</table>\n<p>10980 rows × 10 columns</p>\n</div>"
     },
     "execution_count": 50,
     "metadata": {},
     "output_type": "execute_result"
    }
   ],
   "source": [
    "df_suicide = pd.read_csv('Suicide rates WHO.csv')\n",
    "\n",
    "df_suicide2 = df_suicide[[\"Period\", \"Location\", \"SpatialDimValueCode\", \"ParentLocation\", \"ParentLocationCode\",\n",
    "            \"Dim1\", \"Dim1ValueCode\", \"FactValueNumeric\", \"FactValueNumericLow\", \"FactValueNumericHigh\"]]\n",
    "\n",
    "df_suicide2.columns = [\"Year\", \"Country\", \"CountryCode\", \"ParentCountry\", \"ParentCountryCode\",\n",
    "            \"Sex\", \"SexCode\", \"SuicideRate\", \"SuicideRateLower\", \"SuicideRateUpper\"]\n",
    "\n",
    "df_suicide2"
   ],
   "metadata": {
    "collapsed": false,
    "pycharm": {
     "name": "#%%\n"
    }
   }
  },
  {
   "cell_type": "markdown",
   "source": [
    "### Check NA values"
   ],
   "metadata": {
    "collapsed": false,
    "pycharm": {
     "name": "#%% md\n"
    }
   }
  },
  {
   "cell_type": "code",
   "execution_count": 12,
   "outputs": [
    {
     "data": {
      "text/plain": "Year                 0\nCountry              0\nCountryCode          0\nParentCountry        0\nParentCountryCode    0\nSex                  0\nSexCode              0\nSuicideRate          0\nSuicideRateLower     0\nSuicideRateUpper     0\ndtype: int64"
     },
     "execution_count": 12,
     "metadata": {},
     "output_type": "execute_result"
    }
   ],
   "source": [
    "df_suicide2.isnull().sum()"
   ],
   "metadata": {
    "collapsed": false,
    "pycharm": {
     "name": "#%%\n"
    }
   }
  },
  {
   "cell_type": "code",
   "source": [
    "df_suicide2.dtypes"
   ],
   "metadata": {
    "collapsed": false,
    "pycharm": {
     "name": "#%%\n"
    }
   },
   "execution_count": 13,
   "outputs": [
    {
     "data": {
      "text/plain": "Year                   int64\nCountry               object\nCountryCode           object\nParentCountry         object\nParentCountryCode     object\nSex                   object\nSexCode               object\nSuicideRate          float64\nSuicideRateLower     float64\nSuicideRateUpper     float64\ndtype: object"
     },
     "execution_count": 13,
     "metadata": {},
     "output_type": "execute_result"
    }
   ]
  },
  {
   "cell_type": "markdown",
   "source": [
    "### Strip string columns"
   ],
   "metadata": {
    "collapsed": false,
    "pycharm": {
     "name": "#%% md\n"
    }
   }
  },
  {
   "cell_type": "code",
   "execution_count": 166,
   "outputs": [],
   "source": [
    "df_suicide2 = df_suicide2.apply(lambda x: x.str.strip() if x.dtype == \"object\" else x)\n"
   ],
   "metadata": {
    "collapsed": false,
    "pycharm": {
     "name": "#%%\n"
    }
   }
  },
  {
   "cell_type": "markdown",
   "source": [
    "### Get country region"
   ],
   "metadata": {
    "collapsed": false,
    "pycharm": {
     "name": "#%% md\n"
    }
   }
  },
  {
   "cell_type": "code",
   "execution_count": 169,
   "outputs": [],
   "source": [
    "country_region = pd.read_csv(\"all_country_regions.csv\")\n",
    "#country_region = country_region.rename(columns={\"name\":\"Country\", \"alpha-3\":\"CountryCode\"})\n",
    "#country_region['intermediate-region-code'] = country_region['intermediate-region-code'].fillna(country_region['sub-region-code'])"
   ],
   "metadata": {
    "collapsed": false,
    "pycharm": {
     "name": "#%%\n"
    }
   }
  },
  {
   "cell_type": "code",
   "execution_count": 170,
   "outputs": [
    {
     "data": {
      "text/plain": "   Country CountryCode  country-code     iso_3166-2 region    sub-region  \\\n45   China         CHN           156  ISO 3166-2:CN   Asia  Eastern Asia   \n\n    region-code  sub-region-code  \n45        142.0             30.0  ",
      "text/html": "<div>\n<style scoped>\n    .dataframe tbody tr th:only-of-type {\n        vertical-align: middle;\n    }\n\n    .dataframe tbody tr th {\n        vertical-align: top;\n    }\n\n    .dataframe thead th {\n        text-align: right;\n    }\n</style>\n<table border=\"1\" class=\"dataframe\">\n  <thead>\n    <tr style=\"text-align: right;\">\n      <th></th>\n      <th>Country</th>\n      <th>CountryCode</th>\n      <th>country-code</th>\n      <th>iso_3166-2</th>\n      <th>region</th>\n      <th>sub-region</th>\n      <th>region-code</th>\n      <th>sub-region-code</th>\n    </tr>\n  </thead>\n  <tbody>\n    <tr>\n      <th>45</th>\n      <td>China</td>\n      <td>CHN</td>\n      <td>156</td>\n      <td>ISO 3166-2:CN</td>\n      <td>Asia</td>\n      <td>Eastern Asia</td>\n      <td>142.0</td>\n      <td>30.0</td>\n    </tr>\n  </tbody>\n</table>\n</div>"
     },
     "execution_count": 170,
     "metadata": {},
     "output_type": "execute_result"
    }
   ],
   "source": [
    "country_region.loc[country_region[\"Country\"] == \"China\"]"
   ],
   "metadata": {
    "collapsed": false,
    "pycharm": {
     "name": "#%%\n"
    }
   }
  },
  {
   "cell_type": "code",
   "execution_count": 159,
   "outputs": [
    {
     "data": {
      "text/plain": "       Year              Country CountryCode ParentCountry ParentCountryCode  \\\n0      2019  Antigua and Barbuda         ATG      Americas               AMR   \n1      2019             Barbados         BRB      Americas               AMR   \n2      2019             Barbados         BRB      Americas               AMR   \n3      2019  Antigua and Barbuda         ATG      Americas               AMR   \n4      2019             Barbados         BRB      Americas               AMR   \n...     ...                  ...         ...           ...               ...   \n10975  2000               Guinea         GIN        Africa               AFR   \n10976  2000                Ghana         GHA        Africa               AFR   \n10977  2000                Malta         MLT        Europe               EUR   \n10978  2000           Seychelles         SYC        Africa               AFR   \n10979  2000           Montenegro         MNE        Europe               EUR   \n\n              Sex SexCode  SuicideRate  SuicideRateLower  SuicideRateUpper  \\\n0            Male     MLE         0.00              0.00              0.00   \n1          Female    FMLE         0.16              0.11              0.22   \n2      Both sexes    BTSX         0.31              0.22              0.42   \n3      Both sexes    BTSX         0.32              0.22              0.45   \n4            Male     MLE         0.49              0.34              0.65   \n...           ...     ...          ...               ...               ...   \n10975  Both sexes    BTSX         9.73              5.57             15.96   \n10976  Both sexes    BTSX         9.75              6.46             14.30   \n10977        Male     MLE         9.75              7.56             12.29   \n10978  Both sexes    BTSX         9.76              6.60             13.46   \n10979      Female    FMLE         9.82              7.22             12.89   \n\n               Regional indicator     sub-region_x     sub-region_y  \\\n0                             NaN        Caribbean        Caribbean   \n1                             NaN        Caribbean        Caribbean   \n2                             NaN        Caribbean        Caribbean   \n3                             NaN        Caribbean        Caribbean   \n4                             NaN        Caribbean        Caribbean   \n...                           ...              ...              ...   \n10975          Sub-Saharan Africa   Western Africa   Western Africa   \n10976          Sub-Saharan Africa   Western Africa   Western Africa   \n10977              Western Europe  Southern Europe  Southern Europe   \n10978                         NaN   Eastern Africa   Eastern Africa   \n10979  Central and Eastern Europe  Southern Europe  Southern Europe   \n\n          sub-region_x     sub-region_y       sub-region  \n0            Caribbean        Caribbean        Caribbean  \n1            Caribbean        Caribbean        Caribbean  \n2            Caribbean        Caribbean        Caribbean  \n3            Caribbean        Caribbean        Caribbean  \n4            Caribbean        Caribbean        Caribbean  \n...                ...              ...              ...  \n10975   Western Africa   Western Africa   Western Africa  \n10976   Western Africa   Western Africa   Western Africa  \n10977  Southern Europe  Southern Europe  Southern Europe  \n10978   Eastern Africa   Eastern Africa   Eastern Africa  \n10979  Southern Europe  Southern Europe  Southern Europe  \n\n[10980 rows x 16 columns]",
      "text/html": "<div>\n<style scoped>\n    .dataframe tbody tr th:only-of-type {\n        vertical-align: middle;\n    }\n\n    .dataframe tbody tr th {\n        vertical-align: top;\n    }\n\n    .dataframe thead th {\n        text-align: right;\n    }\n</style>\n<table border=\"1\" class=\"dataframe\">\n  <thead>\n    <tr style=\"text-align: right;\">\n      <th></th>\n      <th>Year</th>\n      <th>Country</th>\n      <th>CountryCode</th>\n      <th>ParentCountry</th>\n      <th>ParentCountryCode</th>\n      <th>Sex</th>\n      <th>SexCode</th>\n      <th>SuicideRate</th>\n      <th>SuicideRateLower</th>\n      <th>SuicideRateUpper</th>\n      <th>Regional indicator</th>\n      <th>sub-region_x</th>\n      <th>sub-region_y</th>\n      <th>sub-region_x</th>\n      <th>sub-region_y</th>\n      <th>sub-region</th>\n    </tr>\n  </thead>\n  <tbody>\n    <tr>\n      <th>0</th>\n      <td>2019</td>\n      <td>Antigua and Barbuda</td>\n      <td>ATG</td>\n      <td>Americas</td>\n      <td>AMR</td>\n      <td>Male</td>\n      <td>MLE</td>\n      <td>0.00</td>\n      <td>0.00</td>\n      <td>0.00</td>\n      <td>NaN</td>\n      <td>Caribbean</td>\n      <td>Caribbean</td>\n      <td>Caribbean</td>\n      <td>Caribbean</td>\n      <td>Caribbean</td>\n    </tr>\n    <tr>\n      <th>1</th>\n      <td>2019</td>\n      <td>Barbados</td>\n      <td>BRB</td>\n      <td>Americas</td>\n      <td>AMR</td>\n      <td>Female</td>\n      <td>FMLE</td>\n      <td>0.16</td>\n      <td>0.11</td>\n      <td>0.22</td>\n      <td>NaN</td>\n      <td>Caribbean</td>\n      <td>Caribbean</td>\n      <td>Caribbean</td>\n      <td>Caribbean</td>\n      <td>Caribbean</td>\n    </tr>\n    <tr>\n      <th>2</th>\n      <td>2019</td>\n      <td>Barbados</td>\n      <td>BRB</td>\n      <td>Americas</td>\n      <td>AMR</td>\n      <td>Both sexes</td>\n      <td>BTSX</td>\n      <td>0.31</td>\n      <td>0.22</td>\n      <td>0.42</td>\n      <td>NaN</td>\n      <td>Caribbean</td>\n      <td>Caribbean</td>\n      <td>Caribbean</td>\n      <td>Caribbean</td>\n      <td>Caribbean</td>\n    </tr>\n    <tr>\n      <th>3</th>\n      <td>2019</td>\n      <td>Antigua and Barbuda</td>\n      <td>ATG</td>\n      <td>Americas</td>\n      <td>AMR</td>\n      <td>Both sexes</td>\n      <td>BTSX</td>\n      <td>0.32</td>\n      <td>0.22</td>\n      <td>0.45</td>\n      <td>NaN</td>\n      <td>Caribbean</td>\n      <td>Caribbean</td>\n      <td>Caribbean</td>\n      <td>Caribbean</td>\n      <td>Caribbean</td>\n    </tr>\n    <tr>\n      <th>4</th>\n      <td>2019</td>\n      <td>Barbados</td>\n      <td>BRB</td>\n      <td>Americas</td>\n      <td>AMR</td>\n      <td>Male</td>\n      <td>MLE</td>\n      <td>0.49</td>\n      <td>0.34</td>\n      <td>0.65</td>\n      <td>NaN</td>\n      <td>Caribbean</td>\n      <td>Caribbean</td>\n      <td>Caribbean</td>\n      <td>Caribbean</td>\n      <td>Caribbean</td>\n    </tr>\n    <tr>\n      <th>...</th>\n      <td>...</td>\n      <td>...</td>\n      <td>...</td>\n      <td>...</td>\n      <td>...</td>\n      <td>...</td>\n      <td>...</td>\n      <td>...</td>\n      <td>...</td>\n      <td>...</td>\n      <td>...</td>\n      <td>...</td>\n      <td>...</td>\n      <td>...</td>\n      <td>...</td>\n      <td>...</td>\n    </tr>\n    <tr>\n      <th>10975</th>\n      <td>2000</td>\n      <td>Guinea</td>\n      <td>GIN</td>\n      <td>Africa</td>\n      <td>AFR</td>\n      <td>Both sexes</td>\n      <td>BTSX</td>\n      <td>9.73</td>\n      <td>5.57</td>\n      <td>15.96</td>\n      <td>Sub-Saharan Africa</td>\n      <td>Western Africa</td>\n      <td>Western Africa</td>\n      <td>Western Africa</td>\n      <td>Western Africa</td>\n      <td>Western Africa</td>\n    </tr>\n    <tr>\n      <th>10976</th>\n      <td>2000</td>\n      <td>Ghana</td>\n      <td>GHA</td>\n      <td>Africa</td>\n      <td>AFR</td>\n      <td>Both sexes</td>\n      <td>BTSX</td>\n      <td>9.75</td>\n      <td>6.46</td>\n      <td>14.30</td>\n      <td>Sub-Saharan Africa</td>\n      <td>Western Africa</td>\n      <td>Western Africa</td>\n      <td>Western Africa</td>\n      <td>Western Africa</td>\n      <td>Western Africa</td>\n    </tr>\n    <tr>\n      <th>10977</th>\n      <td>2000</td>\n      <td>Malta</td>\n      <td>MLT</td>\n      <td>Europe</td>\n      <td>EUR</td>\n      <td>Male</td>\n      <td>MLE</td>\n      <td>9.75</td>\n      <td>7.56</td>\n      <td>12.29</td>\n      <td>Western Europe</td>\n      <td>Southern Europe</td>\n      <td>Southern Europe</td>\n      <td>Southern Europe</td>\n      <td>Southern Europe</td>\n      <td>Southern Europe</td>\n    </tr>\n    <tr>\n      <th>10978</th>\n      <td>2000</td>\n      <td>Seychelles</td>\n      <td>SYC</td>\n      <td>Africa</td>\n      <td>AFR</td>\n      <td>Both sexes</td>\n      <td>BTSX</td>\n      <td>9.76</td>\n      <td>6.60</td>\n      <td>13.46</td>\n      <td>NaN</td>\n      <td>Eastern Africa</td>\n      <td>Eastern Africa</td>\n      <td>Eastern Africa</td>\n      <td>Eastern Africa</td>\n      <td>Eastern Africa</td>\n    </tr>\n    <tr>\n      <th>10979</th>\n      <td>2000</td>\n      <td>Montenegro</td>\n      <td>MNE</td>\n      <td>Europe</td>\n      <td>EUR</td>\n      <td>Female</td>\n      <td>FMLE</td>\n      <td>9.82</td>\n      <td>7.22</td>\n      <td>12.89</td>\n      <td>Central and Eastern Europe</td>\n      <td>Southern Europe</td>\n      <td>Southern Europe</td>\n      <td>Southern Europe</td>\n      <td>Southern Europe</td>\n      <td>Southern Europe</td>\n    </tr>\n  </tbody>\n</table>\n<p>10980 rows × 16 columns</p>\n</div>"
     },
     "execution_count": 159,
     "metadata": {},
     "output_type": "execute_result"
    }
   ],
   "source": [
    "df_suicide2 = df_suicide2.merge(country_region[[\"CountryCode\", \"sub-region\"]], how=\"left\", on=\"CountryCode\")\n",
    "df_suicide2"
   ],
   "metadata": {
    "collapsed": false,
    "pycharm": {
     "name": "#%%\n"
    }
   }
  },
  {
   "cell_type": "markdown",
   "source": [
    "Countries with null in regional indicator"
   ],
   "metadata": {
    "collapsed": false,
    "pycharm": {
     "name": "#%% md\n"
    }
   }
  },
  {
   "cell_type": "code",
   "execution_count": 160,
   "outputs": [
    {
     "data": {
      "text/plain": "0"
     },
     "execution_count": 160,
     "metadata": {},
     "output_type": "execute_result"
    }
   ],
   "source": [
    "len(df_suicide2.loc[df_suicide2[\"sub-region\"].isnull()][\"Country\"].unique())"
   ],
   "metadata": {
    "collapsed": false,
    "pycharm": {
     "name": "#%%\n"
    }
   }
  },
  {
   "cell_type": "markdown",
   "source": [
    "Total Countries in the Suicide data"
   ],
   "metadata": {
    "collapsed": false,
    "pycharm": {
     "name": "#%% md\n"
    }
   }
  },
  {
   "cell_type": "code",
   "execution_count": 144,
   "outputs": [
    {
     "data": {
      "text/plain": "183"
     },
     "execution_count": 144,
     "metadata": {},
     "output_type": "execute_result"
    }
   ],
   "source": [
    "len(df_suicide2[\"Country\"].unique())"
   ],
   "metadata": {
    "collapsed": false,
    "pycharm": {
     "name": "#%%\n"
    }
   }
  },
  {
   "cell_type": "markdown",
   "source": [
    "Country without region names"
   ],
   "metadata": {
    "collapsed": false,
    "pycharm": {
     "name": "#%% md\n"
    }
   }
  },
  {
   "cell_type": "code",
   "execution_count": 146,
   "outputs": [
    {
     "data": {
      "text/plain": "array([\"Democratic People's Republic of Korea\",\n       'The former Yugoslav Republic of Macedonia', 'Republic of Moldova',\n       'Democratic Republic of the Congo', 'Republic of Korea',\n       'United Republic of Tanzania', 'Côte d’Ivoire'], dtype=object)"
     },
     "execution_count": 146,
     "metadata": {},
     "output_type": "execute_result"
    }
   ],
   "source": [
    "df_suicide2.loc[df_suicide2[\"sub-region\"].isnull()][\"Country\"].unique()"
   ],
   "metadata": {
    "collapsed": false,
    "pycharm": {
     "name": "#%%\n"
    }
   }
  },
  {
   "cell_type": "markdown",
   "source": [
    "## Mortality data\n",
    "### File name: 'MortalityDataWHR2021C2CSV.csv'\n",
    "link: https://worldhappiness.report/ed/2021/#appendices-and-data\n",
    "\n",
    "- Population data (2019-2020)\n",
    "- All-cause of death (2017-2020)"
   ],
   "metadata": {
    "collapsed": false,
    "pycharm": {
     "name": "#%% md\n"
    }
   }
  },
  {
   "cell_type": "code",
   "execution_count": 118,
   "outputs": [
    {
     "data": {
      "text/plain": "          Country name  Population 2020  Population 2019  \\\n0        United States      331002647.0      328239523.0   \n1                Egypt      102334403.0      100388073.0   \n2              Morocco       36910558.0       36471769.0   \n3              Lebanon        6825442.0        6855713.0   \n4         Saudi Arabia       34813867.0       34268528.0   \n..                 ...              ...              ...   \n161              Yemen       29825968.0       29161922.0   \n162             Kosovo        1932774.0        1794248.0   \n163  Somaliland region              NaN              NaN   \n164       North Cyprus              NaN              NaN   \n165        South Sudan       11193729.0       11062113.0   \n\n     COVID-19 deaths per 100,000 population in 2020  Median age  Island  \\\n0                                           104.451        38.3       0   \n1                                             7.457        25.3       0   \n2                                            20.016        29.6       0   \n3                                            21.508        31.1       0   \n4                                            17.875        31.9       0   \n..                                              ...         ...     ...   \n161                                           2.045        20.3       0   \n162                                          68.916        35.0       0   \n163                                             NaN         NaN       0   \n164                                             NaN         NaN       0   \n165                                           0.563        19.2       0   \n\n     Index of exposure to COVID-19  infections in other countries as of March 31  \\\n0                                                1.688                             \n1                                                1.627                             \n2                                                2.336                             \n3                                                1.891                             \n4                                                1.250                             \n..                                                 ...                             \n161                                              1.005                             \n162                                              3.134                             \n163                                                NaN                             \n164                                                NaN                             \n165                                              1.076                             \n\n     Log of average distance to SARS countries  WHO Western Pacific Region  \\\n0                                        9.315                           0   \n1                                        9.007                           0   \n2                                        9.226                           0   \n3                                        8.956                           0   \n4                                        8.897                           0   \n..                                         ...                         ...   \n161                                      8.966                           0   \n162                                      9.015                           0   \n163                                        NaN                           0   \n164                                        NaN                           0   \n165                                      9.066                           0   \n\n     Female head of government  Index of institutional trust  \\\n0                            0                         0.250   \n1                            0                         0.446   \n2                            0                         0.397   \n3                            0                         0.107   \n4                            0                         0.651   \n..                         ...                           ...   \n161                          0                         0.267   \n162                          1                         0.169   \n163                          0                           NaN   \n164                          0                         0.305   \n165                          0                         0.179   \n\n     Gini coefficient of income  All-cause death count, 2017  \\\n0                         47.51                    2810927.0   \n1                         31.56                          NaN   \n2                         39.55                          NaN   \n3                         31.83                          NaN   \n4                         45.90                          NaN   \n..                          ...                          ...   \n161                       36.71                          NaN   \n162                       29.01                       8738.0   \n163                         NaN                          NaN   \n164                         NaN                          NaN   \n165                       46.34                          NaN   \n\n     All-cause death count, 2018  All-cause death count, 2019  \\\n0                      2839076.0                    2852747.0   \n1                            NaN                          NaN   \n2                            NaN                          NaN   \n3                            NaN                          NaN   \n4                            NaN                          NaN   \n..                           ...                          ...   \n161                          NaN                          NaN   \n162                       8866.0                       9552.0   \n163                          NaN                          NaN   \n164                          NaN                          NaN   \n165                          NaN                          NaN   \n\n     All-cause death count, 2020  \\\n0                      3424996.0   \n1                            NaN   \n2                            NaN   \n3                            NaN   \n4                            NaN   \n..                           ...   \n161                          NaN   \n162                      11108.0   \n163                          NaN   \n164                          NaN   \n165                          NaN   \n\n     Excess deaths in 2020 per 100,000 population, relative to 2017-2019 average  \n0                                              179.220                            \n1                                                  NaN                            \n2                                                  NaN                            \n3                                                  NaN                            \n4                                                  NaN                            \n..                                                 ...                            \n161                                                NaN                            \n162                                            110.329                            \n163                                                NaN                            \n164                                                NaN                            \n165                                                NaN                            \n\n[166 rows x 17 columns]",
      "text/html": "<div>\n<style scoped>\n    .dataframe tbody tr th:only-of-type {\n        vertical-align: middle;\n    }\n\n    .dataframe tbody tr th {\n        vertical-align: top;\n    }\n\n    .dataframe thead th {\n        text-align: right;\n    }\n</style>\n<table border=\"1\" class=\"dataframe\">\n  <thead>\n    <tr style=\"text-align: right;\">\n      <th></th>\n      <th>Country name</th>\n      <th>Population 2020</th>\n      <th>Population 2019</th>\n      <th>COVID-19 deaths per 100,000 population in 2020</th>\n      <th>Median age</th>\n      <th>Island</th>\n      <th>Index of exposure to COVID-19  infections in other countries as of March 31</th>\n      <th>Log of average distance to SARS countries</th>\n      <th>WHO Western Pacific Region</th>\n      <th>Female head of government</th>\n      <th>Index of institutional trust</th>\n      <th>Gini coefficient of income</th>\n      <th>All-cause death count, 2017</th>\n      <th>All-cause death count, 2018</th>\n      <th>All-cause death count, 2019</th>\n      <th>All-cause death count, 2020</th>\n      <th>Excess deaths in 2020 per 100,000 population, relative to 2017-2019 average</th>\n    </tr>\n  </thead>\n  <tbody>\n    <tr>\n      <th>0</th>\n      <td>United States</td>\n      <td>331002647.0</td>\n      <td>328239523.0</td>\n      <td>104.451</td>\n      <td>38.3</td>\n      <td>0</td>\n      <td>1.688</td>\n      <td>9.315</td>\n      <td>0</td>\n      <td>0</td>\n      <td>0.250</td>\n      <td>47.51</td>\n      <td>2810927.0</td>\n      <td>2839076.0</td>\n      <td>2852747.0</td>\n      <td>3424996.0</td>\n      <td>179.220</td>\n    </tr>\n    <tr>\n      <th>1</th>\n      <td>Egypt</td>\n      <td>102334403.0</td>\n      <td>100388073.0</td>\n      <td>7.457</td>\n      <td>25.3</td>\n      <td>0</td>\n      <td>1.627</td>\n      <td>9.007</td>\n      <td>0</td>\n      <td>0</td>\n      <td>0.446</td>\n      <td>31.56</td>\n      <td>NaN</td>\n      <td>NaN</td>\n      <td>NaN</td>\n      <td>NaN</td>\n      <td>NaN</td>\n    </tr>\n    <tr>\n      <th>2</th>\n      <td>Morocco</td>\n      <td>36910558.0</td>\n      <td>36471769.0</td>\n      <td>20.016</td>\n      <td>29.6</td>\n      <td>0</td>\n      <td>2.336</td>\n      <td>9.226</td>\n      <td>0</td>\n      <td>0</td>\n      <td>0.397</td>\n      <td>39.55</td>\n      <td>NaN</td>\n      <td>NaN</td>\n      <td>NaN</td>\n      <td>NaN</td>\n      <td>NaN</td>\n    </tr>\n    <tr>\n      <th>3</th>\n      <td>Lebanon</td>\n      <td>6825442.0</td>\n      <td>6855713.0</td>\n      <td>21.508</td>\n      <td>31.1</td>\n      <td>0</td>\n      <td>1.891</td>\n      <td>8.956</td>\n      <td>0</td>\n      <td>0</td>\n      <td>0.107</td>\n      <td>31.83</td>\n      <td>NaN</td>\n      <td>NaN</td>\n      <td>NaN</td>\n      <td>NaN</td>\n      <td>NaN</td>\n    </tr>\n    <tr>\n      <th>4</th>\n      <td>Saudi Arabia</td>\n      <td>34813867.0</td>\n      <td>34268528.0</td>\n      <td>17.875</td>\n      <td>31.9</td>\n      <td>0</td>\n      <td>1.250</td>\n      <td>8.897</td>\n      <td>0</td>\n      <td>0</td>\n      <td>0.651</td>\n      <td>45.90</td>\n      <td>NaN</td>\n      <td>NaN</td>\n      <td>NaN</td>\n      <td>NaN</td>\n      <td>NaN</td>\n    </tr>\n    <tr>\n      <th>...</th>\n      <td>...</td>\n      <td>...</td>\n      <td>...</td>\n      <td>...</td>\n      <td>...</td>\n      <td>...</td>\n      <td>...</td>\n      <td>...</td>\n      <td>...</td>\n      <td>...</td>\n      <td>...</td>\n      <td>...</td>\n      <td>...</td>\n      <td>...</td>\n      <td>...</td>\n      <td>...</td>\n      <td>...</td>\n    </tr>\n    <tr>\n      <th>161</th>\n      <td>Yemen</td>\n      <td>29825968.0</td>\n      <td>29161922.0</td>\n      <td>2.045</td>\n      <td>20.3</td>\n      <td>0</td>\n      <td>1.005</td>\n      <td>8.966</td>\n      <td>0</td>\n      <td>0</td>\n      <td>0.267</td>\n      <td>36.71</td>\n      <td>NaN</td>\n      <td>NaN</td>\n      <td>NaN</td>\n      <td>NaN</td>\n      <td>NaN</td>\n    </tr>\n    <tr>\n      <th>162</th>\n      <td>Kosovo</td>\n      <td>1932774.0</td>\n      <td>1794248.0</td>\n      <td>68.916</td>\n      <td>35.0</td>\n      <td>0</td>\n      <td>3.134</td>\n      <td>9.015</td>\n      <td>0</td>\n      <td>1</td>\n      <td>0.169</td>\n      <td>29.01</td>\n      <td>8738.0</td>\n      <td>8866.0</td>\n      <td>9552.0</td>\n      <td>11108.0</td>\n      <td>110.329</td>\n    </tr>\n    <tr>\n      <th>163</th>\n      <td>Somaliland region</td>\n      <td>NaN</td>\n      <td>NaN</td>\n      <td>NaN</td>\n      <td>NaN</td>\n      <td>0</td>\n      <td>NaN</td>\n      <td>NaN</td>\n      <td>0</td>\n      <td>0</td>\n      <td>NaN</td>\n      <td>NaN</td>\n      <td>NaN</td>\n      <td>NaN</td>\n      <td>NaN</td>\n      <td>NaN</td>\n      <td>NaN</td>\n    </tr>\n    <tr>\n      <th>164</th>\n      <td>North Cyprus</td>\n      <td>NaN</td>\n      <td>NaN</td>\n      <td>NaN</td>\n      <td>NaN</td>\n      <td>0</td>\n      <td>NaN</td>\n      <td>NaN</td>\n      <td>0</td>\n      <td>0</td>\n      <td>0.305</td>\n      <td>NaN</td>\n      <td>NaN</td>\n      <td>NaN</td>\n      <td>NaN</td>\n      <td>NaN</td>\n      <td>NaN</td>\n    </tr>\n    <tr>\n      <th>165</th>\n      <td>South Sudan</td>\n      <td>11193729.0</td>\n      <td>11062113.0</td>\n      <td>0.563</td>\n      <td>19.2</td>\n      <td>0</td>\n      <td>1.076</td>\n      <td>9.066</td>\n      <td>0</td>\n      <td>0</td>\n      <td>0.179</td>\n      <td>46.34</td>\n      <td>NaN</td>\n      <td>NaN</td>\n      <td>NaN</td>\n      <td>NaN</td>\n      <td>NaN</td>\n    </tr>\n  </tbody>\n</table>\n<p>166 rows × 17 columns</p>\n</div>"
     },
     "execution_count": 118,
     "metadata": {},
     "output_type": "execute_result"
    }
   ],
   "source": [
    "df_morta = pd.read_csv(\"MortalityDataWHR2021C2CSV.csv\")\n",
    "df_morta[\"Country name\"] = df_morta[\"Country name\"].str.strip()\n",
    "df_morta"
   ],
   "metadata": {
    "collapsed": false,
    "pycharm": {
     "name": "#%%\n"
    }
   }
  },
  {
   "cell_type": "code",
   "execution_count": 119,
   "outputs": [],
   "source": [
    "population = df_morta[['Country name', 'Population 2020', 'Population 2019']]\n",
    "population_t = pd.melt(population[:-1],\n",
    "        id_vars=\"Country name\",\n",
    "        value_vars = list(population.columns[1:]),\n",
    "        var_name='Year',\n",
    "        value_name='Population')\n",
    "\n",
    "population_t[\"Year\"] = population_t[\"Year\"].apply(lambda x: x.strip().replace(\"Population \", \"\")).astype(\"int64\")"
   ],
   "metadata": {
    "collapsed": false,
    "pycharm": {
     "name": "#%%\n"
    }
   }
  },
  {
   "cell_type": "code",
   "execution_count": 120,
   "outputs": [
    {
     "data": {
      "text/plain": "          Country name  Year   Population\n0        United States  2020  331002647.0\n1                Egypt  2020  102334403.0\n2              Morocco  2020   36910558.0\n3              Lebanon  2020    6825442.0\n4         Saudi Arabia  2020   34813867.0\n..                 ...   ...          ...\n325         Uzbekistan  2019   33580650.0\n326              Yemen  2019   29161922.0\n327             Kosovo  2019    1794248.0\n328  Somaliland region  2019          NaN\n329       North Cyprus  2019          NaN\n\n[330 rows x 3 columns]",
      "text/html": "<div>\n<style scoped>\n    .dataframe tbody tr th:only-of-type {\n        vertical-align: middle;\n    }\n\n    .dataframe tbody tr th {\n        vertical-align: top;\n    }\n\n    .dataframe thead th {\n        text-align: right;\n    }\n</style>\n<table border=\"1\" class=\"dataframe\">\n  <thead>\n    <tr style=\"text-align: right;\">\n      <th></th>\n      <th>Country name</th>\n      <th>Year</th>\n      <th>Population</th>\n    </tr>\n  </thead>\n  <tbody>\n    <tr>\n      <th>0</th>\n      <td>United States</td>\n      <td>2020</td>\n      <td>331002647.0</td>\n    </tr>\n    <tr>\n      <th>1</th>\n      <td>Egypt</td>\n      <td>2020</td>\n      <td>102334403.0</td>\n    </tr>\n    <tr>\n      <th>2</th>\n      <td>Morocco</td>\n      <td>2020</td>\n      <td>36910558.0</td>\n    </tr>\n    <tr>\n      <th>3</th>\n      <td>Lebanon</td>\n      <td>2020</td>\n      <td>6825442.0</td>\n    </tr>\n    <tr>\n      <th>4</th>\n      <td>Saudi Arabia</td>\n      <td>2020</td>\n      <td>34813867.0</td>\n    </tr>\n    <tr>\n      <th>...</th>\n      <td>...</td>\n      <td>...</td>\n      <td>...</td>\n    </tr>\n    <tr>\n      <th>325</th>\n      <td>Uzbekistan</td>\n      <td>2019</td>\n      <td>33580650.0</td>\n    </tr>\n    <tr>\n      <th>326</th>\n      <td>Yemen</td>\n      <td>2019</td>\n      <td>29161922.0</td>\n    </tr>\n    <tr>\n      <th>327</th>\n      <td>Kosovo</td>\n      <td>2019</td>\n      <td>1794248.0</td>\n    </tr>\n    <tr>\n      <th>328</th>\n      <td>Somaliland region</td>\n      <td>2019</td>\n      <td>NaN</td>\n    </tr>\n    <tr>\n      <th>329</th>\n      <td>North Cyprus</td>\n      <td>2019</td>\n      <td>NaN</td>\n    </tr>\n  </tbody>\n</table>\n<p>330 rows × 3 columns</p>\n</div>"
     },
     "execution_count": 120,
     "metadata": {},
     "output_type": "execute_result"
    }
   ],
   "source": [
    "population_t"
   ],
   "metadata": {
    "collapsed": false,
    "pycharm": {
     "name": "#%%\n"
    }
   }
  },
  {
   "cell_type": "code",
   "execution_count": 121,
   "outputs": [],
   "source": [
    "all_cause_death = df_morta[[\"Country name\", \"All-cause death count, 2017\", \"All-cause death count, 2018\",\n",
    "                         \"All-cause death count, 2019\", \"All-cause death count, 2020\"]]\n",
    "all_cause_death_t = pd.melt(all_cause_death[:-1],\n",
    "                        id_vars=\"Country name\",\n",
    "                        value_vars = list(all_cause_death.columns[1:]),\n",
    "                        var_name='Year',\n",
    "                        value_name='count')\n",
    "\n",
    "all_cause_death_t[\"Year\"] = all_cause_death_t[\"Year\"].apply(lambda x: x.strip().replace(\"All-cause death count, \", \"\")).astype(\"int64\")"
   ],
   "metadata": {
    "collapsed": false,
    "pycharm": {
     "name": "#%%\n"
    }
   }
  },
  {
   "cell_type": "code",
   "execution_count": 122,
   "outputs": [
    {
     "data": {
      "text/plain": "          Country name  Year      count\n0        United States  2017  2810927.0\n1                Egypt  2017        NaN\n2              Morocco  2017        NaN\n3              Lebanon  2017        NaN\n4         Saudi Arabia  2017        NaN\n..                 ...   ...        ...\n655         Uzbekistan  2020   175637.0\n656              Yemen  2020        NaN\n657             Kosovo  2020    11108.0\n658  Somaliland region  2020        NaN\n659       North Cyprus  2020        NaN\n\n[660 rows x 3 columns]",
      "text/html": "<div>\n<style scoped>\n    .dataframe tbody tr th:only-of-type {\n        vertical-align: middle;\n    }\n\n    .dataframe tbody tr th {\n        vertical-align: top;\n    }\n\n    .dataframe thead th {\n        text-align: right;\n    }\n</style>\n<table border=\"1\" class=\"dataframe\">\n  <thead>\n    <tr style=\"text-align: right;\">\n      <th></th>\n      <th>Country name</th>\n      <th>Year</th>\n      <th>count</th>\n    </tr>\n  </thead>\n  <tbody>\n    <tr>\n      <th>0</th>\n      <td>United States</td>\n      <td>2017</td>\n      <td>2810927.0</td>\n    </tr>\n    <tr>\n      <th>1</th>\n      <td>Egypt</td>\n      <td>2017</td>\n      <td>NaN</td>\n    </tr>\n    <tr>\n      <th>2</th>\n      <td>Morocco</td>\n      <td>2017</td>\n      <td>NaN</td>\n    </tr>\n    <tr>\n      <th>3</th>\n      <td>Lebanon</td>\n      <td>2017</td>\n      <td>NaN</td>\n    </tr>\n    <tr>\n      <th>4</th>\n      <td>Saudi Arabia</td>\n      <td>2017</td>\n      <td>NaN</td>\n    </tr>\n    <tr>\n      <th>...</th>\n      <td>...</td>\n      <td>...</td>\n      <td>...</td>\n    </tr>\n    <tr>\n      <th>655</th>\n      <td>Uzbekistan</td>\n      <td>2020</td>\n      <td>175637.0</td>\n    </tr>\n    <tr>\n      <th>656</th>\n      <td>Yemen</td>\n      <td>2020</td>\n      <td>NaN</td>\n    </tr>\n    <tr>\n      <th>657</th>\n      <td>Kosovo</td>\n      <td>2020</td>\n      <td>11108.0</td>\n    </tr>\n    <tr>\n      <th>658</th>\n      <td>Somaliland region</td>\n      <td>2020</td>\n      <td>NaN</td>\n    </tr>\n    <tr>\n      <th>659</th>\n      <td>North Cyprus</td>\n      <td>2020</td>\n      <td>NaN</td>\n    </tr>\n  </tbody>\n</table>\n<p>660 rows × 3 columns</p>\n</div>"
     },
     "execution_count": 122,
     "metadata": {},
     "output_type": "execute_result"
    }
   ],
   "source": [
    "all_cause_death_t"
   ],
   "metadata": {
    "collapsed": false,
    "pycharm": {
     "name": "#%%\n"
    }
   }
  },
  {
   "cell_type": "code",
   "execution_count": 123,
   "outputs": [
    {
     "data": {
      "text/plain": "          Country name  Median age  Island  Female head of government  \\\n0        United States        38.3       0                          0   \n1                Egypt        25.3       0                          0   \n2              Morocco        29.6       0                          0   \n3              Lebanon        31.1       0                          0   \n4         Saudi Arabia        31.9       0                          0   \n..                 ...         ...     ...                        ...   \n161              Yemen        20.3       0                          0   \n162             Kosovo        35.0       0                          1   \n163  Somaliland region         NaN       0                          0   \n164       North Cyprus         NaN       0                          0   \n165        South Sudan        19.2       0                          0   \n\n     Index of institutional trust  Gini coefficient of income  \\\n0                           0.250                       47.51   \n1                           0.446                       31.56   \n2                           0.397                       39.55   \n3                           0.107                       31.83   \n4                           0.651                       45.90   \n..                            ...                         ...   \n161                         0.267                       36.71   \n162                         0.169                       29.01   \n163                           NaN                         NaN   \n164                         0.305                         NaN   \n165                         0.179                       46.34   \n\n     Index of exposure to COVID-19  infections in other countries as of March 31  \\\n0                                                1.688                             \n1                                                1.627                             \n2                                                2.336                             \n3                                                1.891                             \n4                                                1.250                             \n..                                                 ...                             \n161                                              1.005                             \n162                                              3.134                             \n163                                                NaN                             \n164                                                NaN                             \n165                                              1.076                             \n\n     COVID-19 deaths per 100,000 population in 2020  \n0                                           104.451  \n1                                             7.457  \n2                                            20.016  \n3                                            21.508  \n4                                            17.875  \n..                                              ...  \n161                                           2.045  \n162                                          68.916  \n163                                             NaN  \n164                                             NaN  \n165                                           0.563  \n\n[166 rows x 8 columns]",
      "text/html": "<div>\n<style scoped>\n    .dataframe tbody tr th:only-of-type {\n        vertical-align: middle;\n    }\n\n    .dataframe tbody tr th {\n        vertical-align: top;\n    }\n\n    .dataframe thead th {\n        text-align: right;\n    }\n</style>\n<table border=\"1\" class=\"dataframe\">\n  <thead>\n    <tr style=\"text-align: right;\">\n      <th></th>\n      <th>Country name</th>\n      <th>Median age</th>\n      <th>Island</th>\n      <th>Female head of government</th>\n      <th>Index of institutional trust</th>\n      <th>Gini coefficient of income</th>\n      <th>Index of exposure to COVID-19  infections in other countries as of March 31</th>\n      <th>COVID-19 deaths per 100,000 population in 2020</th>\n    </tr>\n  </thead>\n  <tbody>\n    <tr>\n      <th>0</th>\n      <td>United States</td>\n      <td>38.3</td>\n      <td>0</td>\n      <td>0</td>\n      <td>0.250</td>\n      <td>47.51</td>\n      <td>1.688</td>\n      <td>104.451</td>\n    </tr>\n    <tr>\n      <th>1</th>\n      <td>Egypt</td>\n      <td>25.3</td>\n      <td>0</td>\n      <td>0</td>\n      <td>0.446</td>\n      <td>31.56</td>\n      <td>1.627</td>\n      <td>7.457</td>\n    </tr>\n    <tr>\n      <th>2</th>\n      <td>Morocco</td>\n      <td>29.6</td>\n      <td>0</td>\n      <td>0</td>\n      <td>0.397</td>\n      <td>39.55</td>\n      <td>2.336</td>\n      <td>20.016</td>\n    </tr>\n    <tr>\n      <th>3</th>\n      <td>Lebanon</td>\n      <td>31.1</td>\n      <td>0</td>\n      <td>0</td>\n      <td>0.107</td>\n      <td>31.83</td>\n      <td>1.891</td>\n      <td>21.508</td>\n    </tr>\n    <tr>\n      <th>4</th>\n      <td>Saudi Arabia</td>\n      <td>31.9</td>\n      <td>0</td>\n      <td>0</td>\n      <td>0.651</td>\n      <td>45.90</td>\n      <td>1.250</td>\n      <td>17.875</td>\n    </tr>\n    <tr>\n      <th>...</th>\n      <td>...</td>\n      <td>...</td>\n      <td>...</td>\n      <td>...</td>\n      <td>...</td>\n      <td>...</td>\n      <td>...</td>\n      <td>...</td>\n    </tr>\n    <tr>\n      <th>161</th>\n      <td>Yemen</td>\n      <td>20.3</td>\n      <td>0</td>\n      <td>0</td>\n      <td>0.267</td>\n      <td>36.71</td>\n      <td>1.005</td>\n      <td>2.045</td>\n    </tr>\n    <tr>\n      <th>162</th>\n      <td>Kosovo</td>\n      <td>35.0</td>\n      <td>0</td>\n      <td>1</td>\n      <td>0.169</td>\n      <td>29.01</td>\n      <td>3.134</td>\n      <td>68.916</td>\n    </tr>\n    <tr>\n      <th>163</th>\n      <td>Somaliland region</td>\n      <td>NaN</td>\n      <td>0</td>\n      <td>0</td>\n      <td>NaN</td>\n      <td>NaN</td>\n      <td>NaN</td>\n      <td>NaN</td>\n    </tr>\n    <tr>\n      <th>164</th>\n      <td>North Cyprus</td>\n      <td>NaN</td>\n      <td>0</td>\n      <td>0</td>\n      <td>0.305</td>\n      <td>NaN</td>\n      <td>NaN</td>\n      <td>NaN</td>\n    </tr>\n    <tr>\n      <th>165</th>\n      <td>South Sudan</td>\n      <td>19.2</td>\n      <td>0</td>\n      <td>0</td>\n      <td>0.179</td>\n      <td>46.34</td>\n      <td>1.076</td>\n      <td>0.563</td>\n    </tr>\n  </tbody>\n</table>\n<p>166 rows × 8 columns</p>\n</div>"
     },
     "execution_count": 123,
     "metadata": {},
     "output_type": "execute_result"
    }
   ],
   "source": [
    "morta_other_features = df_morta[[\"Country name\", \"Median age\", \"Island\", \"Female head of government\",\n",
    "                        \"Index of institutional trust\", \"Gini coefficient of income\",\n",
    "                        \"Index of exposure to COVID-19  infections in other countries as of March 31\",\n",
    "                        \"COVID-19 deaths per 100,000 population in 2020\"]]\n",
    "morta_other_features"
   ],
   "metadata": {
    "collapsed": false,
    "pycharm": {
     "name": "#%%\n"
    }
   }
  },
  {
   "cell_type": "code",
   "execution_count": null,
   "outputs": [],
   "source": [],
   "metadata": {
    "collapsed": false,
    "pycharm": {
     "name": "#%%\n"
    }
   }
  }
 ],
 "metadata": {
  "kernelspec": {
   "display_name": "Python 3",
   "language": "python",
   "name": "python3"
  },
  "language_info": {
   "codemirror_mode": {
    "name": "ipython",
    "version": 2
   },
   "file_extension": ".py",
   "mimetype": "text/x-python",
   "name": "python",
   "nbconvert_exporter": "python",
   "pygments_lexer": "ipython2",
   "version": "2.7.6"
  }
 },
 "nbformat": 4,
 "nbformat_minor": 0
}