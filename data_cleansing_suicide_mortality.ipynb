{
 "cells": [
  {
   "cell_type": "code",
   "execution_count": 1,
   "metadata": {
    "collapsed": true
   },
   "outputs": [],
   "source": [
    "import pandas as pd\n",
    "import country_converter as coco"
   ]
  },
  {
   "cell_type": "markdown",
   "source": [
    "### The Country region dataset"
   ],
   "metadata": {
    "collapsed": false
   }
  },
  {
   "cell_type": "code",
   "execution_count": 22,
   "outputs": [],
   "source": [
    "country_region = pd.read_csv(\"all_country_regions.csv\")\n",
    "#country_region = country_region.rename(columns={\"name\":\"Country\", \"alpha-3\":\"CountryCode\"})\n",
    "#country_region['intermediate-region-code'] = country_region['intermediate-region-code'].fillna(country_region['sub-region-code'])\n",
    "country_region[\"Country\"] = coco.convert(names = country_region[\"Country\"], to=\"name_short\")\n",
    "country_region.to_csv(\"cleaned_data/all_country_regions.csv\", index=\"False\")"
   ],
   "metadata": {
    "collapsed": false,
    "pycharm": {
     "name": "#%%\n"
    }
   }
  },
  {
   "cell_type": "code",
   "execution_count": 274,
   "outputs": [
    {
     "data": {
      "text/plain": "           Country CountryCode  country-code     iso_3166-2    region  \\\n235  United States         USA           840  ISO 3166-2:US  Americas   \n\n           sub-region  region-code  sub-region-code  \n235  Northern America         19.0             21.0  ",
      "text/html": "<div>\n<style scoped>\n    .dataframe tbody tr th:only-of-type {\n        vertical-align: middle;\n    }\n\n    .dataframe tbody tr th {\n        vertical-align: top;\n    }\n\n    .dataframe thead th {\n        text-align: right;\n    }\n</style>\n<table border=\"1\" class=\"dataframe\">\n  <thead>\n    <tr style=\"text-align: right;\">\n      <th></th>\n      <th>Country</th>\n      <th>CountryCode</th>\n      <th>country-code</th>\n      <th>iso_3166-2</th>\n      <th>region</th>\n      <th>sub-region</th>\n      <th>region-code</th>\n      <th>sub-region-code</th>\n    </tr>\n  </thead>\n  <tbody>\n    <tr>\n      <th>235</th>\n      <td>United States</td>\n      <td>USA</td>\n      <td>840</td>\n      <td>ISO 3166-2:US</td>\n      <td>Americas</td>\n      <td>Northern America</td>\n      <td>19.0</td>\n      <td>21.0</td>\n    </tr>\n  </tbody>\n</table>\n</div>"
     },
     "execution_count": 274,
     "metadata": {},
     "output_type": "execute_result"
    }
   ],
   "source": [
    "country_region.loc[country_region[\"CountryCode\"] == \"USA\"]"
   ],
   "metadata": {
    "collapsed": false,
    "pycharm": {
     "name": "#%%\n"
    }
   }
  },
  {
   "cell_type": "markdown",
   "source": [
    "## Suicide Rates dataset (2000 - 2019)\n",
    "### File name: 'Suicide rates WHO.csv', 'Crude Suuicide Rates WHO.csv'\n",
    "link: https://www.who.int/data/gho/data/themes/mental-health/suicide-rates\n",
    "\n",
    "#### Age-standardized suicide rate (per 100,000 population)"
   ],
   "metadata": {
    "collapsed": false,
    "pycharm": {
     "name": "#%% md\n"
    }
   }
  },
  {
   "cell_type": "code",
   "execution_count": 24,
   "outputs": [
    {
     "name": "stderr",
     "output_type": "stream",
     "text": [
      "<ipython-input-24-b096b0c44730>:9: SettingWithCopyWarning: \n",
      "A value is trying to be set on a copy of a slice from a DataFrame.\n",
      "Try using .loc[row_indexer,col_indexer] = value instead\n",
      "\n",
      "See the caveats in the documentation: https://pandas.pydata.org/pandas-docs/stable/user_guide/indexing.html#returning-a-view-versus-a-copy\n",
      "  df_suicide2[\"Country\"] = coco.convert(names = df_suicide2[\"Country\"], to=\"name_short\")\n"
     ]
    },
    {
     "data": {
      "text/plain": "       Year              Country CountryCode ParentCountry ParentCountryCode  \\\n0      2019  Antigua and Barbuda         ATG      Americas               AMR   \n1      2019             Barbados         BRB      Americas               AMR   \n2      2019             Barbados         BRB      Americas               AMR   \n3      2019  Antigua and Barbuda         ATG      Americas               AMR   \n4      2019             Barbados         BRB      Americas               AMR   \n...     ...                  ...         ...           ...               ...   \n10975  2000               Guinea         GIN        Africa               AFR   \n10976  2000                Ghana         GHA        Africa               AFR   \n10977  2000                Malta         MLT        Europe               EUR   \n10978  2000           Seychelles         SYC        Africa               AFR   \n10979  2000           Montenegro         MNE        Europe               EUR   \n\n              Sex SexCode  SuicideRate  SuicideRateLower  SuicideRateUpper  \n0            Male     MLE         0.00              0.00              0.00  \n1          Female    FMLE         0.16              0.11              0.22  \n2      Both sexes    BTSX         0.31              0.22              0.42  \n3      Both sexes    BTSX         0.32              0.22              0.45  \n4            Male     MLE         0.49              0.34              0.65  \n...           ...     ...          ...               ...               ...  \n10975  Both sexes    BTSX         9.73              5.57             15.96  \n10976  Both sexes    BTSX         9.75              6.46             14.30  \n10977        Male     MLE         9.75              7.56             12.29  \n10978  Both sexes    BTSX         9.76              6.60             13.46  \n10979      Female    FMLE         9.82              7.22             12.89  \n\n[10980 rows x 10 columns]",
      "text/html": "<div>\n<style scoped>\n    .dataframe tbody tr th:only-of-type {\n        vertical-align: middle;\n    }\n\n    .dataframe tbody tr th {\n        vertical-align: top;\n    }\n\n    .dataframe thead th {\n        text-align: right;\n    }\n</style>\n<table border=\"1\" class=\"dataframe\">\n  <thead>\n    <tr style=\"text-align: right;\">\n      <th></th>\n      <th>Year</th>\n      <th>Country</th>\n      <th>CountryCode</th>\n      <th>ParentCountry</th>\n      <th>ParentCountryCode</th>\n      <th>Sex</th>\n      <th>SexCode</th>\n      <th>SuicideRate</th>\n      <th>SuicideRateLower</th>\n      <th>SuicideRateUpper</th>\n    </tr>\n  </thead>\n  <tbody>\n    <tr>\n      <th>0</th>\n      <td>2019</td>\n      <td>Antigua and Barbuda</td>\n      <td>ATG</td>\n      <td>Americas</td>\n      <td>AMR</td>\n      <td>Male</td>\n      <td>MLE</td>\n      <td>0.00</td>\n      <td>0.00</td>\n      <td>0.00</td>\n    </tr>\n    <tr>\n      <th>1</th>\n      <td>2019</td>\n      <td>Barbados</td>\n      <td>BRB</td>\n      <td>Americas</td>\n      <td>AMR</td>\n      <td>Female</td>\n      <td>FMLE</td>\n      <td>0.16</td>\n      <td>0.11</td>\n      <td>0.22</td>\n    </tr>\n    <tr>\n      <th>2</th>\n      <td>2019</td>\n      <td>Barbados</td>\n      <td>BRB</td>\n      <td>Americas</td>\n      <td>AMR</td>\n      <td>Both sexes</td>\n      <td>BTSX</td>\n      <td>0.31</td>\n      <td>0.22</td>\n      <td>0.42</td>\n    </tr>\n    <tr>\n      <th>3</th>\n      <td>2019</td>\n      <td>Antigua and Barbuda</td>\n      <td>ATG</td>\n      <td>Americas</td>\n      <td>AMR</td>\n      <td>Both sexes</td>\n      <td>BTSX</td>\n      <td>0.32</td>\n      <td>0.22</td>\n      <td>0.45</td>\n    </tr>\n    <tr>\n      <th>4</th>\n      <td>2019</td>\n      <td>Barbados</td>\n      <td>BRB</td>\n      <td>Americas</td>\n      <td>AMR</td>\n      <td>Male</td>\n      <td>MLE</td>\n      <td>0.49</td>\n      <td>0.34</td>\n      <td>0.65</td>\n    </tr>\n    <tr>\n      <th>...</th>\n      <td>...</td>\n      <td>...</td>\n      <td>...</td>\n      <td>...</td>\n      <td>...</td>\n      <td>...</td>\n      <td>...</td>\n      <td>...</td>\n      <td>...</td>\n      <td>...</td>\n    </tr>\n    <tr>\n      <th>10975</th>\n      <td>2000</td>\n      <td>Guinea</td>\n      <td>GIN</td>\n      <td>Africa</td>\n      <td>AFR</td>\n      <td>Both sexes</td>\n      <td>BTSX</td>\n      <td>9.73</td>\n      <td>5.57</td>\n      <td>15.96</td>\n    </tr>\n    <tr>\n      <th>10976</th>\n      <td>2000</td>\n      <td>Ghana</td>\n      <td>GHA</td>\n      <td>Africa</td>\n      <td>AFR</td>\n      <td>Both sexes</td>\n      <td>BTSX</td>\n      <td>9.75</td>\n      <td>6.46</td>\n      <td>14.30</td>\n    </tr>\n    <tr>\n      <th>10977</th>\n      <td>2000</td>\n      <td>Malta</td>\n      <td>MLT</td>\n      <td>Europe</td>\n      <td>EUR</td>\n      <td>Male</td>\n      <td>MLE</td>\n      <td>9.75</td>\n      <td>7.56</td>\n      <td>12.29</td>\n    </tr>\n    <tr>\n      <th>10978</th>\n      <td>2000</td>\n      <td>Seychelles</td>\n      <td>SYC</td>\n      <td>Africa</td>\n      <td>AFR</td>\n      <td>Both sexes</td>\n      <td>BTSX</td>\n      <td>9.76</td>\n      <td>6.60</td>\n      <td>13.46</td>\n    </tr>\n    <tr>\n      <th>10979</th>\n      <td>2000</td>\n      <td>Montenegro</td>\n      <td>MNE</td>\n      <td>Europe</td>\n      <td>EUR</td>\n      <td>Female</td>\n      <td>FMLE</td>\n      <td>9.82</td>\n      <td>7.22</td>\n      <td>12.89</td>\n    </tr>\n  </tbody>\n</table>\n<p>10980 rows × 10 columns</p>\n</div>"
     },
     "execution_count": 24,
     "metadata": {},
     "output_type": "execute_result"
    }
   ],
   "source": [
    "df_suicide = pd.read_csv('Suicide rates WHO.csv')\n",
    "\n",
    "df_suicide2 = df_suicide[[\"Period\", \"Location\", \"SpatialDimValueCode\", \"ParentLocation\", \"ParentLocationCode\",\n",
    "            \"Dim1\", \"Dim1ValueCode\", \"FactValueNumeric\", \"FactValueNumericLow\", \"FactValueNumericHigh\"]]\n",
    "\n",
    "df_suicide2.columns = [\"Year\", \"Country\", \"CountryCode\", \"ParentCountry\", \"ParentCountryCode\",\n",
    "            \"Sex\", \"SexCode\", \"SuicideRate\", \"SuicideRateLower\", \"SuicideRateUpper\"]\n",
    "\n",
    "df_suicide2[\"Country\"] = coco.convert(names = df_suicide2[\"Country\"], to=\"name_short\")\n",
    "df_suicide2"
   ],
   "metadata": {
    "collapsed": false,
    "pycharm": {
     "name": "#%%\n"
    }
   }
  },
  {
   "cell_type": "markdown",
   "source": [
    "### Check NA values"
   ],
   "metadata": {
    "collapsed": false,
    "pycharm": {
     "name": "#%% md\n"
    }
   }
  },
  {
   "cell_type": "code",
   "execution_count": 25,
   "outputs": [
    {
     "data": {
      "text/plain": "Year                 0\nCountry              0\nCountryCode          0\nParentCountry        0\nParentCountryCode    0\nSex                  0\nSexCode              0\nSuicideRate          0\nSuicideRateLower     0\nSuicideRateUpper     0\ndtype: int64"
     },
     "execution_count": 25,
     "metadata": {},
     "output_type": "execute_result"
    }
   ],
   "source": [
    "df_suicide2.isnull().sum()"
   ],
   "metadata": {
    "collapsed": false,
    "pycharm": {
     "name": "#%%\n"
    }
   }
  },
  {
   "cell_type": "code",
   "source": [
    "df_suicide2.dtypes"
   ],
   "metadata": {
    "collapsed": false,
    "pycharm": {
     "name": "#%%\n"
    }
   },
   "execution_count": 26,
   "outputs": [
    {
     "data": {
      "text/plain": "Year                   int64\nCountry               object\nCountryCode           object\nParentCountry         object\nParentCountryCode     object\nSex                   object\nSexCode               object\nSuicideRate          float64\nSuicideRateLower     float64\nSuicideRateUpper     float64\ndtype: object"
     },
     "execution_count": 26,
     "metadata": {},
     "output_type": "execute_result"
    }
   ]
  },
  {
   "cell_type": "markdown",
   "source": [
    "### Strip string columns"
   ],
   "metadata": {
    "collapsed": false,
    "pycharm": {
     "name": "#%% md\n"
    }
   }
  },
  {
   "cell_type": "code",
   "execution_count": 27,
   "outputs": [],
   "source": [
    "df_suicide2 = df_suicide2.apply(lambda x: x.str.strip() if x.dtype == \"object\" else x)"
   ],
   "metadata": {
    "collapsed": false,
    "pycharm": {
     "name": "#%%\n"
    }
   }
  },
  {
   "cell_type": "markdown",
   "source": [
    "Join with \"all_country_regions.csv\" to get regions data"
   ],
   "metadata": {
    "collapsed": false,
    "pycharm": {
     "name": "#%% md\n"
    }
   }
  },
  {
   "cell_type": "code",
   "execution_count": 28,
   "outputs": [],
   "source": [
    "#df_suicide2 = df_suicide2.merge(country_region[[\"Country\", \"CountryCode\", \"sub-region\"]], how=\"left\", on=\"Country\")\n",
    "#df_suicide2"
   ],
   "metadata": {
    "collapsed": false,
    "pycharm": {
     "name": "#%%\n"
    }
   }
  },
  {
   "cell_type": "markdown",
   "source": [
    "Countries with null in regional indicator"
   ],
   "metadata": {
    "collapsed": false,
    "pycharm": {
     "name": "#%% md\n"
    }
   }
  },
  {
   "cell_type": "code",
   "execution_count": 32,
   "outputs": [],
   "source": [
    "#len(df_suicide2.loc[df_suicide2[\"sub-region\"].isnull()][\"Country\"].unique())"
   ],
   "metadata": {
    "collapsed": false,
    "pycharm": {
     "name": "#%%\n"
    }
   }
  },
  {
   "cell_type": "code",
   "execution_count": 31,
   "outputs": [],
   "source": [
    "df_suicide2.to_csv(\"cleaned_data/suicide.csv\", index=False)"
   ],
   "metadata": {
    "collapsed": false,
    "pycharm": {
     "name": "#%%\n"
    }
   }
  },
  {
   "cell_type": "markdown",
   "source": [
    "## Suicide Rates dataset (2000 - 2019)\n",
    "#### Age-standardized suicide rate (per 100,000 population)"
   ],
   "metadata": {
    "collapsed": false,
    "pycharm": {
     "name": "#%% md\n"
    }
   }
  },
  {
   "cell_type": "code",
   "execution_count": 33,
   "outputs": [
    {
     "data": {
      "text/plain": "     IndicatorCode                                     Indicator ValueType  \\\n0       SDGSUICIDE  Crude suicide rates (per 100 000 population)      text   \n1       SDGSUICIDE  Crude suicide rates (per 100 000 population)      text   \n2       SDGSUICIDE  Crude suicide rates (per 100 000 population)      text   \n3       SDGSUICIDE  Crude suicide rates (per 100 000 population)      text   \n4       SDGSUICIDE  Crude suicide rates (per 100 000 population)      text   \n...            ...                                           ...       ...   \n4387    SDGSUICIDE  Crude suicide rates (per 100 000 population)      text   \n4388    SDGSUICIDE  Crude suicide rates (per 100 000 population)      text   \n4389    SDGSUICIDE  Crude suicide rates (per 100 000 population)      text   \n4390    SDGSUICIDE  Crude suicide rates (per 100 000 population)      text   \n4391    SDGSUICIDE  Crude suicide rates (per 100 000 population)      text   \n\n     ParentLocationCode ParentLocation Location type SpatialDimValueCode  \\\n0                   AMR       Americas       Country                 ATG   \n1                   AMR       Americas       Country                 ATG   \n2                   AMR       Americas       Country                 ATG   \n3                   AMR       Americas       Country                 ATG   \n4                   AMR       Americas       Country                 ATG   \n...                 ...            ...           ...                 ...   \n4387                AFR         Africa       Country                 BDI   \n4388                EUR         Europe       Country                 MKD   \n4389                EUR         Europe       Country                 LTU   \n4390                AFR         Africa       Country                 ETH   \n4391                AFR         Africa       Country                 TGO   \n\n                                       Location Period type  Period  ...  \\\n0                           Antigua and Barbuda        Year    2019  ...   \n1                           Antigua and Barbuda        Year    2019  ...   \n2                           Antigua and Barbuda        Year    2019  ...   \n3                           Antigua and Barbuda        Year    2019  ...   \n4                           Antigua and Barbuda        Year    2019  ...   \n...                                         ...         ...     ...  ...   \n4387                                    Burundi        Year    2019  ...   \n4388  The former Yugoslav Republic of Macedonia        Year    2019  ...   \n4389                                  Lithuania        Year    2019  ...   \n4390                                   Ethiopia        Year    2019  ...   \n4391                                       Togo        Year    2019  ...   \n\n      FactValueUoM FactValueNumericLowPrefix FactValueNumericLow  \\\n0              NaN                       NaN                 NaN   \n1              NaN                       NaN                 NaN   \n2              NaN                       NaN                 NaN   \n3              NaN                       NaN                 NaN   \n4              NaN                       NaN                 NaN   \n...            ...                       ...                 ...   \n4387           NaN                       NaN                 NaN   \n4388           NaN                       NaN                 NaN   \n4389           NaN                       NaN                 NaN   \n4390           NaN                       NaN                 NaN   \n4391           NaN                       NaN                 NaN   \n\n     FactValueNumericHighPrefix FactValueNumericHigh  Value  \\\n0                           NaN                  NaN   0.00   \n1                           NaN                  NaN   0.00   \n2                           NaN                  NaN   0.00   \n3                           NaN                  NaN   0.00   \n4                           NaN                  NaN   0.00   \n...                         ...                  ...    ...   \n4387                        NaN                  NaN  97.84   \n4388                        NaN                  NaN  98.13   \n4389                        NaN                  NaN  98.72   \n4390                        NaN                  NaN  99.05   \n4391                        NaN                  NaN  99.69   \n\n     FactValueTranslationID  FactComments  Language              DateModified  \n0                       NaN           NaN        EN  2021-07-06T07:00:00.000Z  \n1                       NaN           NaN        EN  2021-07-06T07:00:00.000Z  \n2                       NaN           NaN        EN  2021-07-06T07:00:00.000Z  \n3                       NaN           NaN        EN  2021-07-06T07:00:00.000Z  \n4                       NaN           NaN        EN  2021-07-06T07:00:00.000Z  \n...                     ...           ...       ...                       ...  \n4387                    NaN           NaN        EN  2021-07-06T07:00:00.000Z  \n4388                    NaN           NaN        EN  2021-07-06T07:00:00.000Z  \n4389                    NaN           NaN        EN  2021-07-06T07:00:00.000Z  \n4390                    NaN           NaN        EN  2021-07-06T07:00:00.000Z  \n4391                    NaN           NaN        EN  2021-07-06T07:00:00.000Z  \n\n[4392 rows x 34 columns]",
      "text/html": "<div>\n<style scoped>\n    .dataframe tbody tr th:only-of-type {\n        vertical-align: middle;\n    }\n\n    .dataframe tbody tr th {\n        vertical-align: top;\n    }\n\n    .dataframe thead th {\n        text-align: right;\n    }\n</style>\n<table border=\"1\" class=\"dataframe\">\n  <thead>\n    <tr style=\"text-align: right;\">\n      <th></th>\n      <th>IndicatorCode</th>\n      <th>Indicator</th>\n      <th>ValueType</th>\n      <th>ParentLocationCode</th>\n      <th>ParentLocation</th>\n      <th>Location type</th>\n      <th>SpatialDimValueCode</th>\n      <th>Location</th>\n      <th>Period type</th>\n      <th>Period</th>\n      <th>...</th>\n      <th>FactValueUoM</th>\n      <th>FactValueNumericLowPrefix</th>\n      <th>FactValueNumericLow</th>\n      <th>FactValueNumericHighPrefix</th>\n      <th>FactValueNumericHigh</th>\n      <th>Value</th>\n      <th>FactValueTranslationID</th>\n      <th>FactComments</th>\n      <th>Language</th>\n      <th>DateModified</th>\n    </tr>\n  </thead>\n  <tbody>\n    <tr>\n      <th>0</th>\n      <td>SDGSUICIDE</td>\n      <td>Crude suicide rates (per 100 000 population)</td>\n      <td>text</td>\n      <td>AMR</td>\n      <td>Americas</td>\n      <td>Country</td>\n      <td>ATG</td>\n      <td>Antigua and Barbuda</td>\n      <td>Year</td>\n      <td>2019</td>\n      <td>...</td>\n      <td>NaN</td>\n      <td>NaN</td>\n      <td>NaN</td>\n      <td>NaN</td>\n      <td>NaN</td>\n      <td>0.00</td>\n      <td>NaN</td>\n      <td>NaN</td>\n      <td>EN</td>\n      <td>2021-07-06T07:00:00.000Z</td>\n    </tr>\n    <tr>\n      <th>1</th>\n      <td>SDGSUICIDE</td>\n      <td>Crude suicide rates (per 100 000 population)</td>\n      <td>text</td>\n      <td>AMR</td>\n      <td>Americas</td>\n      <td>Country</td>\n      <td>ATG</td>\n      <td>Antigua and Barbuda</td>\n      <td>Year</td>\n      <td>2019</td>\n      <td>...</td>\n      <td>NaN</td>\n      <td>NaN</td>\n      <td>NaN</td>\n      <td>NaN</td>\n      <td>NaN</td>\n      <td>0.00</td>\n      <td>NaN</td>\n      <td>NaN</td>\n      <td>EN</td>\n      <td>2021-07-06T07:00:00.000Z</td>\n    </tr>\n    <tr>\n      <th>2</th>\n      <td>SDGSUICIDE</td>\n      <td>Crude suicide rates (per 100 000 population)</td>\n      <td>text</td>\n      <td>AMR</td>\n      <td>Americas</td>\n      <td>Country</td>\n      <td>ATG</td>\n      <td>Antigua and Barbuda</td>\n      <td>Year</td>\n      <td>2019</td>\n      <td>...</td>\n      <td>NaN</td>\n      <td>NaN</td>\n      <td>NaN</td>\n      <td>NaN</td>\n      <td>NaN</td>\n      <td>0.00</td>\n      <td>NaN</td>\n      <td>NaN</td>\n      <td>EN</td>\n      <td>2021-07-06T07:00:00.000Z</td>\n    </tr>\n    <tr>\n      <th>3</th>\n      <td>SDGSUICIDE</td>\n      <td>Crude suicide rates (per 100 000 population)</td>\n      <td>text</td>\n      <td>AMR</td>\n      <td>Americas</td>\n      <td>Country</td>\n      <td>ATG</td>\n      <td>Antigua and Barbuda</td>\n      <td>Year</td>\n      <td>2019</td>\n      <td>...</td>\n      <td>NaN</td>\n      <td>NaN</td>\n      <td>NaN</td>\n      <td>NaN</td>\n      <td>NaN</td>\n      <td>0.00</td>\n      <td>NaN</td>\n      <td>NaN</td>\n      <td>EN</td>\n      <td>2021-07-06T07:00:00.000Z</td>\n    </tr>\n    <tr>\n      <th>4</th>\n      <td>SDGSUICIDE</td>\n      <td>Crude suicide rates (per 100 000 population)</td>\n      <td>text</td>\n      <td>AMR</td>\n      <td>Americas</td>\n      <td>Country</td>\n      <td>ATG</td>\n      <td>Antigua and Barbuda</td>\n      <td>Year</td>\n      <td>2019</td>\n      <td>...</td>\n      <td>NaN</td>\n      <td>NaN</td>\n      <td>NaN</td>\n      <td>NaN</td>\n      <td>NaN</td>\n      <td>0.00</td>\n      <td>NaN</td>\n      <td>NaN</td>\n      <td>EN</td>\n      <td>2021-07-06T07:00:00.000Z</td>\n    </tr>\n    <tr>\n      <th>...</th>\n      <td>...</td>\n      <td>...</td>\n      <td>...</td>\n      <td>...</td>\n      <td>...</td>\n      <td>...</td>\n      <td>...</td>\n      <td>...</td>\n      <td>...</td>\n      <td>...</td>\n      <td>...</td>\n      <td>...</td>\n      <td>...</td>\n      <td>...</td>\n      <td>...</td>\n      <td>...</td>\n      <td>...</td>\n      <td>...</td>\n      <td>...</td>\n      <td>...</td>\n      <td>...</td>\n    </tr>\n    <tr>\n      <th>4387</th>\n      <td>SDGSUICIDE</td>\n      <td>Crude suicide rates (per 100 000 population)</td>\n      <td>text</td>\n      <td>AFR</td>\n      <td>Africa</td>\n      <td>Country</td>\n      <td>BDI</td>\n      <td>Burundi</td>\n      <td>Year</td>\n      <td>2019</td>\n      <td>...</td>\n      <td>NaN</td>\n      <td>NaN</td>\n      <td>NaN</td>\n      <td>NaN</td>\n      <td>NaN</td>\n      <td>97.84</td>\n      <td>NaN</td>\n      <td>NaN</td>\n      <td>EN</td>\n      <td>2021-07-06T07:00:00.000Z</td>\n    </tr>\n    <tr>\n      <th>4388</th>\n      <td>SDGSUICIDE</td>\n      <td>Crude suicide rates (per 100 000 population)</td>\n      <td>text</td>\n      <td>EUR</td>\n      <td>Europe</td>\n      <td>Country</td>\n      <td>MKD</td>\n      <td>The former Yugoslav Republic of Macedonia</td>\n      <td>Year</td>\n      <td>2019</td>\n      <td>...</td>\n      <td>NaN</td>\n      <td>NaN</td>\n      <td>NaN</td>\n      <td>NaN</td>\n      <td>NaN</td>\n      <td>98.13</td>\n      <td>NaN</td>\n      <td>NaN</td>\n      <td>EN</td>\n      <td>2021-07-06T07:00:00.000Z</td>\n    </tr>\n    <tr>\n      <th>4389</th>\n      <td>SDGSUICIDE</td>\n      <td>Crude suicide rates (per 100 000 population)</td>\n      <td>text</td>\n      <td>EUR</td>\n      <td>Europe</td>\n      <td>Country</td>\n      <td>LTU</td>\n      <td>Lithuania</td>\n      <td>Year</td>\n      <td>2019</td>\n      <td>...</td>\n      <td>NaN</td>\n      <td>NaN</td>\n      <td>NaN</td>\n      <td>NaN</td>\n      <td>NaN</td>\n      <td>98.72</td>\n      <td>NaN</td>\n      <td>NaN</td>\n      <td>EN</td>\n      <td>2021-07-06T07:00:00.000Z</td>\n    </tr>\n    <tr>\n      <th>4390</th>\n      <td>SDGSUICIDE</td>\n      <td>Crude suicide rates (per 100 000 population)</td>\n      <td>text</td>\n      <td>AFR</td>\n      <td>Africa</td>\n      <td>Country</td>\n      <td>ETH</td>\n      <td>Ethiopia</td>\n      <td>Year</td>\n      <td>2019</td>\n      <td>...</td>\n      <td>NaN</td>\n      <td>NaN</td>\n      <td>NaN</td>\n      <td>NaN</td>\n      <td>NaN</td>\n      <td>99.05</td>\n      <td>NaN</td>\n      <td>NaN</td>\n      <td>EN</td>\n      <td>2021-07-06T07:00:00.000Z</td>\n    </tr>\n    <tr>\n      <th>4391</th>\n      <td>SDGSUICIDE</td>\n      <td>Crude suicide rates (per 100 000 population)</td>\n      <td>text</td>\n      <td>AFR</td>\n      <td>Africa</td>\n      <td>Country</td>\n      <td>TGO</td>\n      <td>Togo</td>\n      <td>Year</td>\n      <td>2019</td>\n      <td>...</td>\n      <td>NaN</td>\n      <td>NaN</td>\n      <td>NaN</td>\n      <td>NaN</td>\n      <td>NaN</td>\n      <td>99.69</td>\n      <td>NaN</td>\n      <td>NaN</td>\n      <td>EN</td>\n      <td>2021-07-06T07:00:00.000Z</td>\n    </tr>\n  </tbody>\n</table>\n<p>4392 rows × 34 columns</p>\n</div>"
     },
     "execution_count": 33,
     "metadata": {},
     "output_type": "execute_result"
    }
   ],
   "source": [
    "df_csuicide = pd.read_csv('Crude Suuicide rates WHO.csv')\n",
    "df_csuicide"
   ],
   "metadata": {
    "collapsed": false,
    "pycharm": {
     "name": "#%%\n"
    }
   }
  },
  {
   "cell_type": "code",
   "execution_count": 34,
   "outputs": [
    {
     "name": "stderr",
     "output_type": "stream",
     "text": [
      "<ipython-input-34-8345bdc70238>:9: SettingWithCopyWarning: \n",
      "A value is trying to be set on a copy of a slice from a DataFrame.\n",
      "Try using .loc[row_indexer,col_indexer] = value instead\n",
      "\n",
      "See the caveats in the documentation: https://pandas.pydata.org/pandas-docs/stable/user_guide/indexing.html#returning-a-view-versus-a-copy\n",
      "  df_csuicide[\"Country\"] = coco.convert(names = df_csuicide[\"Country\"], to=\"name_short\")\n"
     ]
    },
    {
     "data": {
      "text/plain": "      Year              Country CountryCode ParentCountry ParentCountryCode  \\\n0     2019  Antigua and Barbuda         ATG      Americas               AMR   \n1     2019  Antigua and Barbuda         ATG      Americas               AMR   \n2     2019  Antigua and Barbuda         ATG      Americas               AMR   \n3     2019  Antigua and Barbuda         ATG      Americas               AMR   \n4     2019  Antigua and Barbuda         ATG      Americas               AMR   \n...    ...                  ...         ...           ...               ...   \n4387  2019              Burundi         BDI        Africa               AFR   \n4388  2019            Macedonia         MKD        Europe               EUR   \n4389  2019            Lithuania         LTU        Europe               EUR   \n4390  2019             Ethiopia         ETH        Africa               AFR   \n4391  2019                 Togo         TGO        Africa               AFR   \n\n             Sex SexCode     AgeGroup AgeGroupCode  SuicideRate  \n0     Both sexes    BTSX  15-24 years   YEARS15-24         0.00  \n1     Both sexes    BTSX  25-34 years   YEARS25-34         0.00  \n2     Both sexes    BTSX  35-44 years   YEARS35-44         0.00  \n3     Both sexes    BTSX  45-54 years   YEARS45-54         0.00  \n4     Both sexes    BTSX  65-74 years   YEARS65-74         0.00  \n...          ...     ...          ...          ...          ...  \n4387        Male     MLE  75-84 years   YEARS75-84        97.84  \n4388        Male     MLE    85+ years  YEARS85PLUS        98.13  \n4389        Male     MLE    85+ years  YEARS85PLUS        98.72  \n4390        Male     MLE  75-84 years   YEARS75-84        99.05  \n4391      Female    FMLE    85+ years  YEARS85PLUS        99.69  \n\n[4392 rows x 10 columns]",
      "text/html": "<div>\n<style scoped>\n    .dataframe tbody tr th:only-of-type {\n        vertical-align: middle;\n    }\n\n    .dataframe tbody tr th {\n        vertical-align: top;\n    }\n\n    .dataframe thead th {\n        text-align: right;\n    }\n</style>\n<table border=\"1\" class=\"dataframe\">\n  <thead>\n    <tr style=\"text-align: right;\">\n      <th></th>\n      <th>Year</th>\n      <th>Country</th>\n      <th>CountryCode</th>\n      <th>ParentCountry</th>\n      <th>ParentCountryCode</th>\n      <th>Sex</th>\n      <th>SexCode</th>\n      <th>AgeGroup</th>\n      <th>AgeGroupCode</th>\n      <th>SuicideRate</th>\n    </tr>\n  </thead>\n  <tbody>\n    <tr>\n      <th>0</th>\n      <td>2019</td>\n      <td>Antigua and Barbuda</td>\n      <td>ATG</td>\n      <td>Americas</td>\n      <td>AMR</td>\n      <td>Both sexes</td>\n      <td>BTSX</td>\n      <td>15-24 years</td>\n      <td>YEARS15-24</td>\n      <td>0.00</td>\n    </tr>\n    <tr>\n      <th>1</th>\n      <td>2019</td>\n      <td>Antigua and Barbuda</td>\n      <td>ATG</td>\n      <td>Americas</td>\n      <td>AMR</td>\n      <td>Both sexes</td>\n      <td>BTSX</td>\n      <td>25-34 years</td>\n      <td>YEARS25-34</td>\n      <td>0.00</td>\n    </tr>\n    <tr>\n      <th>2</th>\n      <td>2019</td>\n      <td>Antigua and Barbuda</td>\n      <td>ATG</td>\n      <td>Americas</td>\n      <td>AMR</td>\n      <td>Both sexes</td>\n      <td>BTSX</td>\n      <td>35-44 years</td>\n      <td>YEARS35-44</td>\n      <td>0.00</td>\n    </tr>\n    <tr>\n      <th>3</th>\n      <td>2019</td>\n      <td>Antigua and Barbuda</td>\n      <td>ATG</td>\n      <td>Americas</td>\n      <td>AMR</td>\n      <td>Both sexes</td>\n      <td>BTSX</td>\n      <td>45-54 years</td>\n      <td>YEARS45-54</td>\n      <td>0.00</td>\n    </tr>\n    <tr>\n      <th>4</th>\n      <td>2019</td>\n      <td>Antigua and Barbuda</td>\n      <td>ATG</td>\n      <td>Americas</td>\n      <td>AMR</td>\n      <td>Both sexes</td>\n      <td>BTSX</td>\n      <td>65-74 years</td>\n      <td>YEARS65-74</td>\n      <td>0.00</td>\n    </tr>\n    <tr>\n      <th>...</th>\n      <td>...</td>\n      <td>...</td>\n      <td>...</td>\n      <td>...</td>\n      <td>...</td>\n      <td>...</td>\n      <td>...</td>\n      <td>...</td>\n      <td>...</td>\n      <td>...</td>\n    </tr>\n    <tr>\n      <th>4387</th>\n      <td>2019</td>\n      <td>Burundi</td>\n      <td>BDI</td>\n      <td>Africa</td>\n      <td>AFR</td>\n      <td>Male</td>\n      <td>MLE</td>\n      <td>75-84 years</td>\n      <td>YEARS75-84</td>\n      <td>97.84</td>\n    </tr>\n    <tr>\n      <th>4388</th>\n      <td>2019</td>\n      <td>Macedonia</td>\n      <td>MKD</td>\n      <td>Europe</td>\n      <td>EUR</td>\n      <td>Male</td>\n      <td>MLE</td>\n      <td>85+ years</td>\n      <td>YEARS85PLUS</td>\n      <td>98.13</td>\n    </tr>\n    <tr>\n      <th>4389</th>\n      <td>2019</td>\n      <td>Lithuania</td>\n      <td>LTU</td>\n      <td>Europe</td>\n      <td>EUR</td>\n      <td>Male</td>\n      <td>MLE</td>\n      <td>85+ years</td>\n      <td>YEARS85PLUS</td>\n      <td>98.72</td>\n    </tr>\n    <tr>\n      <th>4390</th>\n      <td>2019</td>\n      <td>Ethiopia</td>\n      <td>ETH</td>\n      <td>Africa</td>\n      <td>AFR</td>\n      <td>Male</td>\n      <td>MLE</td>\n      <td>75-84 years</td>\n      <td>YEARS75-84</td>\n      <td>99.05</td>\n    </tr>\n    <tr>\n      <th>4391</th>\n      <td>2019</td>\n      <td>Togo</td>\n      <td>TGO</td>\n      <td>Africa</td>\n      <td>AFR</td>\n      <td>Female</td>\n      <td>FMLE</td>\n      <td>85+ years</td>\n      <td>YEARS85PLUS</td>\n      <td>99.69</td>\n    </tr>\n  </tbody>\n</table>\n<p>4392 rows × 10 columns</p>\n</div>"
     },
     "execution_count": 34,
     "metadata": {},
     "output_type": "execute_result"
    }
   ],
   "source": [
    "df_csuicide = df_csuicide[[\"Period\", \"Location\", \"SpatialDimValueCode\", \"ParentLocation\", \"ParentLocationCode\",\n",
    "                          \"Dim1\", \"Dim1ValueCode\", \"Dim2\", \"Dim2ValueCode\", \"FactValueNumeric\"]]\n",
    "\n",
    "df_csuicide.columns = [\"Year\", \"Country\", \"CountryCode\", \"ParentCountry\", \"ParentCountryCode\",\n",
    "                       \"Sex\", \"SexCode\", \"AgeGroup\", \"AgeGroupCode\", \"SuicideRate\"]\n",
    "\n",
    "df_csuicide.apply(lambda x: x.str.strip() if x.dtype == \"object\" else x)\n",
    "\n",
    "df_csuicide[\"Country\"] = coco.convert(names = df_csuicide[\"Country\"], to=\"name_short\")\n",
    "df_csuicide"
   ],
   "metadata": {
    "collapsed": false,
    "pycharm": {
     "name": "#%%\n"
    }
   }
  },
  {
   "cell_type": "code",
   "execution_count": 35,
   "outputs": [
    {
     "data": {
      "text/plain": "Year                 0\nCountry              0\nCountryCode          0\nParentCountry        0\nParentCountryCode    0\nSex                  0\nSexCode              0\nAgeGroup             0\nAgeGroupCode         0\nSuicideRate          0\ndtype: int64"
     },
     "execution_count": 35,
     "metadata": {},
     "output_type": "execute_result"
    }
   ],
   "source": [
    "df_csuicide.isnull().sum()"
   ],
   "metadata": {
    "collapsed": false,
    "pycharm": {
     "name": "#%%\n"
    }
   }
  },
  {
   "cell_type": "code",
   "execution_count": 52,
   "outputs": [],
   "source": [
    "df_csuicide.to_csv(\"cleaned_data/crude_suicide.csv\", index=False)"
   ],
   "metadata": {
    "collapsed": false,
    "pycharm": {
     "name": "#%%\n"
    }
   }
  },
  {
   "cell_type": "markdown",
   "source": [
    "## Mortality data\n",
    "### File name: 'MortalityDataWHR2021C2CSV.csv'\n",
    "link: https://worldhappiness.report/ed/2021/#appendices-and-data\n",
    "\n",
    "- Population data (2019-2020)\n",
    "- All-cause of death (2017-2020)"
   ],
   "metadata": {
    "collapsed": false,
    "pycharm": {
     "name": "#%% md\n"
    }
   }
  },
  {
   "cell_type": "code",
   "execution_count": 36,
   "outputs": [],
   "source": [
    "df_morta = pd.read_csv(\"MortalityDataWHR2021C2CSV.csv\")\n",
    "df_morta[\"Country name\"] = df_morta[\"Country name\"].str.strip()\n",
    "df_morta = df_morta.rename(columns={\"Country name\":\"Country\"})\n",
    "df_morta[\"Country\"] = coco.convert(names = df_morta[\"Country\"], to=\"name_short\")"
   ],
   "metadata": {
    "collapsed": false,
    "pycharm": {
     "name": "#%%\n"
    }
   }
  },
  {
   "cell_type": "markdown",
   "source": [
    "### Population dataset"
   ],
   "metadata": {
    "collapsed": false,
    "pycharm": {
     "name": "#%% md\n"
    }
   }
  },
  {
   "cell_type": "code",
   "execution_count": 44,
   "outputs": [
    {
     "data": {
      "text/plain": "Country       0\nYear          0\nPopulation    4\ndtype: int64"
     },
     "execution_count": 44,
     "metadata": {},
     "output_type": "execute_result"
    }
   ],
   "source": [
    "population = df_morta[['Country', 'Population 2020', 'Population 2019']]\n",
    "population_t = pd.melt(population[:-1],\n",
    "        id_vars=\"Country\",\n",
    "        value_vars = list(population.columns[1:]),\n",
    "        var_name='Year',\n",
    "        value_name='Population')\n",
    "\n",
    "#population_t = population_t.apply(lambda x: x.str.strip() if x.dtype == \"object\" else x)\n",
    "\n",
    "population_t[\"Year\"] = population_t[\"Year\"].apply(lambda x: x.strip().replace(\"Population \", \"\")).astype(\"int64\")\n",
    "\n",
    "#population_t = population_t.merge(country_region[[\"Country\", \"CountryCode\", \"sub-region\"]], how=\"left\", on=\"Country\")\n",
    "population_t.isnull().sum()"
   ],
   "metadata": {
    "collapsed": false,
    "pycharm": {
     "name": "#%%\n"
    }
   }
  },
  {
   "cell_type": "code",
   "execution_count": 45,
   "outputs": [],
   "source": [
    "population_t.to_csv(\"cleaned_data/population.csv\", index=False)"
   ],
   "metadata": {
    "collapsed": false,
    "pycharm": {
     "name": "#%%\n"
    }
   }
  },
  {
   "cell_type": "markdown",
   "source": [
    "### All cause of death dataset"
   ],
   "metadata": {
    "collapsed": false,
    "pycharm": {
     "name": "#%% md\n"
    }
   }
  },
  {
   "cell_type": "code",
   "execution_count": 46,
   "outputs": [
    {
     "data": {
      "text/plain": "Country      0\nYear         0\ncount      404\ndtype: int64"
     },
     "execution_count": 46,
     "metadata": {},
     "output_type": "execute_result"
    }
   ],
   "source": [
    "all_cause_death = df_morta[[\"Country\", \"All-cause death count, 2017\", \"All-cause death count, 2018\",\n",
    "                         \"All-cause death count, 2019\", \"All-cause death count, 2020\"]]\n",
    "all_cause_death_t = pd.melt(all_cause_death[:-1],\n",
    "                        id_vars=\"Country\",\n",
    "                        value_vars = list(all_cause_death.columns[1:]),\n",
    "                        var_name='Year',\n",
    "                        value_name='count')\n",
    "\n",
    "all_cause_death_t[\"Year\"] = all_cause_death_t[\"Year\"].apply(lambda x: x.strip().replace(\"All-cause death count, \", \"\")).astype(\"int64\")\n",
    "all_cause_death_t"
   ],
   "metadata": {
    "collapsed": false,
    "pycharm": {
     "name": "#%%\n"
    }
   }
  },
  {
   "cell_type": "code",
   "execution_count": null,
   "outputs": [],
   "source": [
    "all_cause_death_t.isnull().sum()"
   ],
   "metadata": {
    "collapsed": false,
    "pycharm": {
     "name": "#%%\n"
    }
   }
  },
  {
   "cell_type": "code",
   "execution_count": 47,
   "outputs": [],
   "source": [
    "all_cause_death_t.to_csv(\"cleaned_data/all_cause_death.csv\", index=False)"
   ],
   "metadata": {
    "collapsed": false,
    "pycharm": {
     "name": "#%%\n"
    }
   }
  },
  {
   "cell_type": "markdown",
   "source": [
    "### Other features from the mortality dataset"
   ],
   "metadata": {
    "collapsed": false,
    "pycharm": {
     "name": "#%% md\n"
    }
   }
  },
  {
   "cell_type": "code",
   "execution_count": 48,
   "outputs": [
    {
     "data": {
      "text/plain": "           Country  Median age  Island  Female head of government  \\\n0    United States        38.3       0                          0   \n1            Egypt        25.3       0                          0   \n2          Morocco        29.6       0                          0   \n3          Lebanon        31.1       0                          0   \n4     Saudi Arabia        31.9       0                          0   \n..             ...         ...     ...                        ...   \n161          Yemen        20.3       0                          0   \n162         Kosovo        35.0       0                          1   \n163        Somalia         NaN       0                          0   \n164         Cyprus         NaN       0                          0   \n165    South Sudan        19.2       0                          0   \n\n     Index of institutional trust  Gini coefficient of income  \\\n0                           0.250                       47.51   \n1                           0.446                       31.56   \n2                           0.397                       39.55   \n3                           0.107                       31.83   \n4                           0.651                       45.90   \n..                            ...                         ...   \n161                         0.267                       36.71   \n162                         0.169                       29.01   \n163                           NaN                         NaN   \n164                         0.305                         NaN   \n165                         0.179                       46.34   \n\n     Index of exposure to COVID-19  infections in other countries as of March 31  \\\n0                                                1.688                             \n1                                                1.627                             \n2                                                2.336                             \n3                                                1.891                             \n4                                                1.250                             \n..                                                 ...                             \n161                                              1.005                             \n162                                              3.134                             \n163                                                NaN                             \n164                                                NaN                             \n165                                              1.076                             \n\n     COVID-19 deaths per 100,000 population in 2020  \n0                                           104.451  \n1                                             7.457  \n2                                            20.016  \n3                                            21.508  \n4                                            17.875  \n..                                              ...  \n161                                           2.045  \n162                                          68.916  \n163                                             NaN  \n164                                             NaN  \n165                                           0.563  \n\n[166 rows x 8 columns]",
      "text/html": "<div>\n<style scoped>\n    .dataframe tbody tr th:only-of-type {\n        vertical-align: middle;\n    }\n\n    .dataframe tbody tr th {\n        vertical-align: top;\n    }\n\n    .dataframe thead th {\n        text-align: right;\n    }\n</style>\n<table border=\"1\" class=\"dataframe\">\n  <thead>\n    <tr style=\"text-align: right;\">\n      <th></th>\n      <th>Country</th>\n      <th>Median age</th>\n      <th>Island</th>\n      <th>Female head of government</th>\n      <th>Index of institutional trust</th>\n      <th>Gini coefficient of income</th>\n      <th>Index of exposure to COVID-19  infections in other countries as of March 31</th>\n      <th>COVID-19 deaths per 100,000 population in 2020</th>\n    </tr>\n  </thead>\n  <tbody>\n    <tr>\n      <th>0</th>\n      <td>United States</td>\n      <td>38.3</td>\n      <td>0</td>\n      <td>0</td>\n      <td>0.250</td>\n      <td>47.51</td>\n      <td>1.688</td>\n      <td>104.451</td>\n    </tr>\n    <tr>\n      <th>1</th>\n      <td>Egypt</td>\n      <td>25.3</td>\n      <td>0</td>\n      <td>0</td>\n      <td>0.446</td>\n      <td>31.56</td>\n      <td>1.627</td>\n      <td>7.457</td>\n    </tr>\n    <tr>\n      <th>2</th>\n      <td>Morocco</td>\n      <td>29.6</td>\n      <td>0</td>\n      <td>0</td>\n      <td>0.397</td>\n      <td>39.55</td>\n      <td>2.336</td>\n      <td>20.016</td>\n    </tr>\n    <tr>\n      <th>3</th>\n      <td>Lebanon</td>\n      <td>31.1</td>\n      <td>0</td>\n      <td>0</td>\n      <td>0.107</td>\n      <td>31.83</td>\n      <td>1.891</td>\n      <td>21.508</td>\n    </tr>\n    <tr>\n      <th>4</th>\n      <td>Saudi Arabia</td>\n      <td>31.9</td>\n      <td>0</td>\n      <td>0</td>\n      <td>0.651</td>\n      <td>45.90</td>\n      <td>1.250</td>\n      <td>17.875</td>\n    </tr>\n    <tr>\n      <th>...</th>\n      <td>...</td>\n      <td>...</td>\n      <td>...</td>\n      <td>...</td>\n      <td>...</td>\n      <td>...</td>\n      <td>...</td>\n      <td>...</td>\n    </tr>\n    <tr>\n      <th>161</th>\n      <td>Yemen</td>\n      <td>20.3</td>\n      <td>0</td>\n      <td>0</td>\n      <td>0.267</td>\n      <td>36.71</td>\n      <td>1.005</td>\n      <td>2.045</td>\n    </tr>\n    <tr>\n      <th>162</th>\n      <td>Kosovo</td>\n      <td>35.0</td>\n      <td>0</td>\n      <td>1</td>\n      <td>0.169</td>\n      <td>29.01</td>\n      <td>3.134</td>\n      <td>68.916</td>\n    </tr>\n    <tr>\n      <th>163</th>\n      <td>Somalia</td>\n      <td>NaN</td>\n      <td>0</td>\n      <td>0</td>\n      <td>NaN</td>\n      <td>NaN</td>\n      <td>NaN</td>\n      <td>NaN</td>\n    </tr>\n    <tr>\n      <th>164</th>\n      <td>Cyprus</td>\n      <td>NaN</td>\n      <td>0</td>\n      <td>0</td>\n      <td>0.305</td>\n      <td>NaN</td>\n      <td>NaN</td>\n      <td>NaN</td>\n    </tr>\n    <tr>\n      <th>165</th>\n      <td>South Sudan</td>\n      <td>19.2</td>\n      <td>0</td>\n      <td>0</td>\n      <td>0.179</td>\n      <td>46.34</td>\n      <td>1.076</td>\n      <td>0.563</td>\n    </tr>\n  </tbody>\n</table>\n<p>166 rows × 8 columns</p>\n</div>"
     },
     "execution_count": 48,
     "metadata": {},
     "output_type": "execute_result"
    }
   ],
   "source": [
    "morta_other_features = df_morta[[\"Country\", \"Median age\", \"Island\", \"Female head of government\",\n",
    "                        \"Index of institutional trust\", \"Gini coefficient of income\",\n",
    "                        \"Index of exposure to COVID-19  infections in other countries as of March 31\",\n",
    "                        \"COVID-19 deaths per 100,000 population in 2020\"]]\n",
    "morta_other_features"
   ],
   "metadata": {
    "collapsed": false,
    "pycharm": {
     "name": "#%%\n"
    }
   }
  },
  {
   "cell_type": "code",
   "execution_count": 50,
   "outputs": [
    {
     "data": {
      "text/plain": "Country                                                                        0\nMedian age                                                                     3\nIsland                                                                         0\nFemale head of government                                                      0\nIndex of institutional trust                                                   1\nGini coefficient of income                                                     2\nIndex of exposure to COVID-19  infections in other countries as of March 31    2\nCOVID-19 deaths per 100,000 population in 2020                                 3\ndtype: int64"
     },
     "execution_count": 50,
     "metadata": {},
     "output_type": "execute_result"
    }
   ],
   "source": [
    "morta_other_features.isnull().sum()"
   ],
   "metadata": {
    "collapsed": false,
    "pycharm": {
     "name": "#%%\n"
    }
   }
  },
  {
   "cell_type": "code",
   "execution_count": 51,
   "outputs": [],
   "source": [
    "morta_other_features.to_csv(\"cleaned_data/mortality_other.csv\", index=False)\n"
   ],
   "metadata": {
    "collapsed": false,
    "pycharm": {
     "name": "#%%\n"
    }
   }
  },
  {
   "cell_type": "markdown",
   "source": [
    "## Better Life Index Pivot (long to wide)"
   ],
   "metadata": {
    "collapsed": false,
    "pycharm": {
     "name": "#%% md\n"
    }
   }
  },
  {
   "cell_type": "code",
   "execution_count": 2,
   "outputs": [],
   "source": [
    "bli = pd.read_csv(\"cleaned_data/betterlifeindex_final.csv\")"
   ],
   "metadata": {
    "collapsed": false,
    "pycharm": {
     "name": "#%%\n"
    }
   }
  },
  {
   "cell_type": "code",
   "execution_count": 4,
   "outputs": [],
   "source": [
    "bli = bli[[\"CountryName\", \"Indicator\", \"Inequality\", \"Value\"]].copy()"
   ],
   "metadata": {
    "collapsed": false,
    "pycharm": {
     "name": "#%%\n"
    }
   }
  },
  {
   "cell_type": "code",
   "execution_count": 5,
   "outputs": [
    {
     "data": {
      "text/plain": "         CountryName                          Indicator Inequality  Value\n0          Australia           Labour market insecurity      Total   5.40\n1            Austria           Labour market insecurity      Total   3.50\n2            Belgium           Labour market insecurity      Total   3.70\n3             Canada           Labour market insecurity      Total   6.00\n4     Czech Republic           Labour market insecurity      Total   3.10\n...              ...                                ...        ...    ...\n2300       Lithuania  Employees working very long hours      Total   0.54\n2301        Colombia  Employees working very long hours        Men  32.09\n2302       Lithuania  Employees working very long hours        Men   0.67\n2303        Colombia  Employees working very long hours      Women  19.37\n2304       Lithuania  Employees working very long hours      Women   0.43\n\n[2305 rows x 4 columns]",
      "text/html": "<div>\n<style scoped>\n    .dataframe tbody tr th:only-of-type {\n        vertical-align: middle;\n    }\n\n    .dataframe tbody tr th {\n        vertical-align: top;\n    }\n\n    .dataframe thead th {\n        text-align: right;\n    }\n</style>\n<table border=\"1\" class=\"dataframe\">\n  <thead>\n    <tr style=\"text-align: right;\">\n      <th></th>\n      <th>CountryName</th>\n      <th>Indicator</th>\n      <th>Inequality</th>\n      <th>Value</th>\n    </tr>\n  </thead>\n  <tbody>\n    <tr>\n      <th>0</th>\n      <td>Australia</td>\n      <td>Labour market insecurity</td>\n      <td>Total</td>\n      <td>5.40</td>\n    </tr>\n    <tr>\n      <th>1</th>\n      <td>Austria</td>\n      <td>Labour market insecurity</td>\n      <td>Total</td>\n      <td>3.50</td>\n    </tr>\n    <tr>\n      <th>2</th>\n      <td>Belgium</td>\n      <td>Labour market insecurity</td>\n      <td>Total</td>\n      <td>3.70</td>\n    </tr>\n    <tr>\n      <th>3</th>\n      <td>Canada</td>\n      <td>Labour market insecurity</td>\n      <td>Total</td>\n      <td>6.00</td>\n    </tr>\n    <tr>\n      <th>4</th>\n      <td>Czech Republic</td>\n      <td>Labour market insecurity</td>\n      <td>Total</td>\n      <td>3.10</td>\n    </tr>\n    <tr>\n      <th>...</th>\n      <td>...</td>\n      <td>...</td>\n      <td>...</td>\n      <td>...</td>\n    </tr>\n    <tr>\n      <th>2300</th>\n      <td>Lithuania</td>\n      <td>Employees working very long hours</td>\n      <td>Total</td>\n      <td>0.54</td>\n    </tr>\n    <tr>\n      <th>2301</th>\n      <td>Colombia</td>\n      <td>Employees working very long hours</td>\n      <td>Men</td>\n      <td>32.09</td>\n    </tr>\n    <tr>\n      <th>2302</th>\n      <td>Lithuania</td>\n      <td>Employees working very long hours</td>\n      <td>Men</td>\n      <td>0.67</td>\n    </tr>\n    <tr>\n      <th>2303</th>\n      <td>Colombia</td>\n      <td>Employees working very long hours</td>\n      <td>Women</td>\n      <td>19.37</td>\n    </tr>\n    <tr>\n      <th>2304</th>\n      <td>Lithuania</td>\n      <td>Employees working very long hours</td>\n      <td>Women</td>\n      <td>0.43</td>\n    </tr>\n  </tbody>\n</table>\n<p>2305 rows × 4 columns</p>\n</div>"
     },
     "execution_count": 5,
     "metadata": {},
     "output_type": "execute_result"
    }
   ],
   "source": [
    "bli"
   ],
   "metadata": {
    "collapsed": false,
    "pycharm": {
     "name": "#%%\n"
    }
   }
  },
  {
   "cell_type": "code",
   "execution_count": 8,
   "outputs": [],
   "source": [
    "bli_pivoted = bli.pivot_table(index=[\"CountryName\", \"Inequality\"],\n",
    "                columns= \"Indicator\",\n",
    "                values= \"Value\").reset_index()"
   ],
   "metadata": {
    "collapsed": false,
    "pycharm": {
     "name": "#%%\n"
    }
   }
  },
  {
   "cell_type": "code",
   "execution_count": 9,
   "outputs": [],
   "source": [
    "bli_pivoted.to_csv(\"cleaned_data/betterlifeindex_final_pivoted.csv\")"
   ],
   "metadata": {
    "collapsed": false,
    "pycharm": {
     "name": "#%%\n"
    }
   }
  },
  {
   "cell_type": "markdown",
   "source": [
    "## Joining the Happiness with better life"
   ],
   "metadata": {
    "collapsed": false,
    "pycharm": {
     "name": "#%% md\n"
    }
   }
  },
  {
   "cell_type": "code",
   "execution_count": 66,
   "outputs": [],
   "source": [
    "df_h = pd.read_csv(\"cleaned_data/happiness_combined_final.csv\")\n",
    "df_bl = pd.read_csv(\"cleaned_data/better_life_pivoted_combined.csv\")\n"
   ],
   "metadata": {
    "collapsed": false,
    "pycharm": {
     "name": "#%%\n"
    }
   }
  },
  {
   "cell_type": "code",
   "execution_count": 67,
   "outputs": [],
   "source": [
    "df_h = df_h[df_h[\"year\"] == 2019].drop(columns=[\"F1\",\"region\", \"sub-region\", \"year\"])"
   ],
   "metadata": {
    "collapsed": false,
    "pycharm": {
     "name": "#%%\n"
    }
   }
  },
  {
   "cell_type": "code",
   "execution_count": 68,
   "outputs": [
    {
     "data": {
      "text/plain": "     Country name  Life Ladder  Log GDP per capita  Social support  \\\n0          Jordan        4.453               9.201           0.793   \n1           Niger        5.004               7.106           0.677   \n2     New Zealand        7.205              10.666           0.939   \n3          Canada        7.109              10.800           0.925   \n4         Austria        7.195              10.939           0.964   \n...           ...          ...                 ...             ...   \n145        Norway        7.442              11.061           0.942   \n1863       Kosovo        6.425               9.339           0.843   \n1915    Palestine        4.483                 NaN           0.833   \n1930       Taiwan        6.537                 NaN           0.893   \n1952    Hong Kong        5.659              11.000           0.856   \n\n      Healthy life expectancy at birth  Freedom to make life choices  \\\n0                                 67.0                         0.726   \n1                                 54.0                         0.831   \n2                                 73.4                         0.912   \n3                                 73.8                         0.912   \n4                                 73.3                         0.903   \n...                                ...                           ...   \n145                               73.3                         0.954   \n1863                               NaN                         0.841   \n1915                               NaN                         0.653   \n1930                               NaN                         0.814   \n1952                               NaN                         0.727   \n\n      Generosity  Perceptions of corruption  Positive affect  Negative affect  \\\n0         -0.165                        NaN              NaN              NaN   \n1          0.026                      0.729            0.816            0.304   \n2          0.157                      0.234            0.816            0.191   \n3          0.112                      0.436            0.822            0.285   \n4          0.060                      0.457            0.774            0.205   \n...          ...                        ...              ...              ...   \n145        0.111                      0.271            0.823            0.195   \n1863       0.247                      0.920            0.749            0.141   \n1915         NaN                      0.829            0.625            0.400   \n1930         NaN                      0.718            0.860            0.093   \n1952       0.067                      0.432            0.599            0.358   \n\n      SuicideRate  Population  death_rate_perc  \n0            1.98  10101694.0              NaN  \n1           10.15  23310715.0              NaN  \n2           10.30   4917000.0         0.693268  \n3           10.34  37589262.0              NaN  \n4           10.40   8877067.0         0.918738  \n...           ...         ...              ...  \n145          9.91   5347896.0         0.757307  \n1863          NaN   1794248.0         0.532368  \n1915          NaN   4685306.0              NaN  \n1930          NaN  23780000.0         0.741362  \n1952          NaN   7451000.0         0.653684  \n\n[150 rows x 13 columns]",
      "text/html": "<div>\n<style scoped>\n    .dataframe tbody tr th:only-of-type {\n        vertical-align: middle;\n    }\n\n    .dataframe tbody tr th {\n        vertical-align: top;\n    }\n\n    .dataframe thead th {\n        text-align: right;\n    }\n</style>\n<table border=\"1\" class=\"dataframe\">\n  <thead>\n    <tr style=\"text-align: right;\">\n      <th></th>\n      <th>Country name</th>\n      <th>Life Ladder</th>\n      <th>Log GDP per capita</th>\n      <th>Social support</th>\n      <th>Healthy life expectancy at birth</th>\n      <th>Freedom to make life choices</th>\n      <th>Generosity</th>\n      <th>Perceptions of corruption</th>\n      <th>Positive affect</th>\n      <th>Negative affect</th>\n      <th>SuicideRate</th>\n      <th>Population</th>\n      <th>death_rate_perc</th>\n    </tr>\n  </thead>\n  <tbody>\n    <tr>\n      <th>0</th>\n      <td>Jordan</td>\n      <td>4.453</td>\n      <td>9.201</td>\n      <td>0.793</td>\n      <td>67.0</td>\n      <td>0.726</td>\n      <td>-0.165</td>\n      <td>NaN</td>\n      <td>NaN</td>\n      <td>NaN</td>\n      <td>1.98</td>\n      <td>10101694.0</td>\n      <td>NaN</td>\n    </tr>\n    <tr>\n      <th>1</th>\n      <td>Niger</td>\n      <td>5.004</td>\n      <td>7.106</td>\n      <td>0.677</td>\n      <td>54.0</td>\n      <td>0.831</td>\n      <td>0.026</td>\n      <td>0.729</td>\n      <td>0.816</td>\n      <td>0.304</td>\n      <td>10.15</td>\n      <td>23310715.0</td>\n      <td>NaN</td>\n    </tr>\n    <tr>\n      <th>2</th>\n      <td>New Zealand</td>\n      <td>7.205</td>\n      <td>10.666</td>\n      <td>0.939</td>\n      <td>73.4</td>\n      <td>0.912</td>\n      <td>0.157</td>\n      <td>0.234</td>\n      <td>0.816</td>\n      <td>0.191</td>\n      <td>10.30</td>\n      <td>4917000.0</td>\n      <td>0.693268</td>\n    </tr>\n    <tr>\n      <th>3</th>\n      <td>Canada</td>\n      <td>7.109</td>\n      <td>10.800</td>\n      <td>0.925</td>\n      <td>73.8</td>\n      <td>0.912</td>\n      <td>0.112</td>\n      <td>0.436</td>\n      <td>0.822</td>\n      <td>0.285</td>\n      <td>10.34</td>\n      <td>37589262.0</td>\n      <td>NaN</td>\n    </tr>\n    <tr>\n      <th>4</th>\n      <td>Austria</td>\n      <td>7.195</td>\n      <td>10.939</td>\n      <td>0.964</td>\n      <td>73.3</td>\n      <td>0.903</td>\n      <td>0.060</td>\n      <td>0.457</td>\n      <td>0.774</td>\n      <td>0.205</td>\n      <td>10.40</td>\n      <td>8877067.0</td>\n      <td>0.918738</td>\n    </tr>\n    <tr>\n      <th>...</th>\n      <td>...</td>\n      <td>...</td>\n      <td>...</td>\n      <td>...</td>\n      <td>...</td>\n      <td>...</td>\n      <td>...</td>\n      <td>...</td>\n      <td>...</td>\n      <td>...</td>\n      <td>...</td>\n      <td>...</td>\n      <td>...</td>\n    </tr>\n    <tr>\n      <th>145</th>\n      <td>Norway</td>\n      <td>7.442</td>\n      <td>11.061</td>\n      <td>0.942</td>\n      <td>73.3</td>\n      <td>0.954</td>\n      <td>0.111</td>\n      <td>0.271</td>\n      <td>0.823</td>\n      <td>0.195</td>\n      <td>9.91</td>\n      <td>5347896.0</td>\n      <td>0.757307</td>\n    </tr>\n    <tr>\n      <th>1863</th>\n      <td>Kosovo</td>\n      <td>6.425</td>\n      <td>9.339</td>\n      <td>0.843</td>\n      <td>NaN</td>\n      <td>0.841</td>\n      <td>0.247</td>\n      <td>0.920</td>\n      <td>0.749</td>\n      <td>0.141</td>\n      <td>NaN</td>\n      <td>1794248.0</td>\n      <td>0.532368</td>\n    </tr>\n    <tr>\n      <th>1915</th>\n      <td>Palestine</td>\n      <td>4.483</td>\n      <td>NaN</td>\n      <td>0.833</td>\n      <td>NaN</td>\n      <td>0.653</td>\n      <td>NaN</td>\n      <td>0.829</td>\n      <td>0.625</td>\n      <td>0.400</td>\n      <td>NaN</td>\n      <td>4685306.0</td>\n      <td>NaN</td>\n    </tr>\n    <tr>\n      <th>1930</th>\n      <td>Taiwan</td>\n      <td>6.537</td>\n      <td>NaN</td>\n      <td>0.893</td>\n      <td>NaN</td>\n      <td>0.814</td>\n      <td>NaN</td>\n      <td>0.718</td>\n      <td>0.860</td>\n      <td>0.093</td>\n      <td>NaN</td>\n      <td>23780000.0</td>\n      <td>0.741362</td>\n    </tr>\n    <tr>\n      <th>1952</th>\n      <td>Hong Kong</td>\n      <td>5.659</td>\n      <td>11.000</td>\n      <td>0.856</td>\n      <td>NaN</td>\n      <td>0.727</td>\n      <td>0.067</td>\n      <td>0.432</td>\n      <td>0.599</td>\n      <td>0.358</td>\n      <td>NaN</td>\n      <td>7451000.0</td>\n      <td>0.653684</td>\n    </tr>\n  </tbody>\n</table>\n<p>150 rows × 13 columns</p>\n</div>"
     },
     "execution_count": 68,
     "metadata": {},
     "output_type": "execute_result"
    }
   ],
   "source": [
    "df_h"
   ],
   "metadata": {
    "collapsed": false,
    "pycharm": {
     "name": "#%%\n"
    }
   }
  },
  {
   "cell_type": "code",
   "execution_count": 69,
   "outputs": [],
   "source": [
    "df_bl = df_bl[df_bl[\"Inequality\"] == \"Total\"].drop(columns=[\"F1\", \"Inequality\"])"
   ],
   "metadata": {
    "collapsed": false,
    "pycharm": {
     "name": "#%%\n"
    }
   }
  },
  {
   "cell_type": "code",
   "execution_count": 70,
   "outputs": [
    {
     "data": {
      "text/plain": "        CountryName    region                 sub-region  Air pollution  \\\n1         Australia   Oceania  Australia and New Zealand            5.0   \n6           Austria    Europe             Western Europe           16.0   \n11          Belgium    Europe             Western Europe           15.0   \n16           Brazil  Americas              South America           10.0   \n21           Canada  Americas           Northern America            7.0   \n26            Chile  Americas              South America           16.0   \n31         Colombia  Americas              South America           10.0   \n36   Czech Republic    Europe             Eastern Europe           20.0   \n41          Denmark    Europe            Northern Europe            9.0   \n46          Estonia    Europe            Northern Europe            8.0   \n51          Finland    Europe            Northern Europe            6.0   \n56           France    Europe             Western Europe           13.0   \n61          Germany    Europe             Western Europe           14.0   \n66           Greece    Europe            Southern Europe           18.0   \n71          Hungary    Europe             Eastern Europe           19.0   \n76          Iceland    Europe            Northern Europe            3.0   \n81          Ireland    Europe            Northern Europe            7.0   \n86           Israel      Asia               Western Asia           21.0   \n91            Italy    Europe            Southern Europe           18.0   \n96            Japan      Asia               Eastern Asia           14.0   \n101     South Korea      Asia               Eastern Asia           28.0   \n106          Latvia    Europe            Northern Europe           11.0   \n111       Lithuania    Europe            Northern Europe           14.0   \n116      Luxembourg    Europe             Western Europe           12.0   \n121          Mexico  Americas            Central America           16.0   \n126     Netherlands    Europe             Western Europe           14.0   \n131     New Zealand   Oceania  Australia and New Zealand            5.0   \n136          Norway    Europe            Northern Europe            5.0   \n141          Poland    Europe             Eastern Europe           22.0   \n146        Portugal    Europe            Southern Europe           10.0   \n151          Russia    Europe             Eastern Europe           15.0   \n156        Slovakia    Europe             Eastern Europe           21.0   \n161        Slovenia    Europe            Southern Europe           16.0   \n166    South Africa    Africa            Southern Africa           22.0   \n169           Spain    Europe            Southern Europe           11.0   \n174          Sweden    Europe            Northern Europe            6.0   \n179     Switzerland    Europe             Western Europe           15.0   \n184          Turkey      Asia               Western Asia           20.0   \n189  United Kingdom    Europe            Northern Europe           11.0   \n194   United States  Americas           Northern America           10.0   \n\n     Dwellings without basic facilities  Educational attainment  \\\n1                                   NaN                    81.0   \n6                                   0.9                    85.0   \n11                                  1.9                    77.0   \n16                                  6.7                    49.0   \n21                                  0.2                    91.0   \n26                                  9.4                    65.0   \n31                                 23.9                    54.0   \n36                                  0.7                    94.0   \n41                                  0.5                    81.0   \n46                                  7.0                    89.0   \n51                                  0.5                    88.0   \n56                                  0.5                    78.0   \n61                                  0.2                    87.0   \n66                                  0.5                    73.0   \n71                                  4.7                    84.0   \n76                                  0.0                    77.0   \n81                                  1.0                    82.0   \n86                                  NaN                    87.0   \n91                                  0.7                    61.0   \n96                                  6.4                     NaN   \n101                                 2.5                    88.0   \n106                                13.9                    88.0   \n111                                13.6                    93.0   \n116                                 0.5                    77.0   \n121                                25.5                    38.0   \n126                                 0.1                    78.0   \n131                                 NaN                    79.0   \n136                                 0.0                    82.0   \n141                                 3.0                    92.0   \n146                                 1.0                    48.0   \n151                                14.8                    94.0   \n156                                 1.2                    91.0   \n161                                 0.4                    88.0   \n166                                37.0                    73.0   \n169                                 0.1                    59.0   \n174                                 0.0                    83.0   \n179                                 0.1                    88.0   \n184                                 8.0                    39.0   \n189                                 0.3                    81.0   \n194                                 0.1                    91.0   \n\n     Employees working very long hours  Employment rate  \\\n1                                13.04             73.0   \n6                                 6.66             72.0   \n11                                4.75             63.0   \n16                                7.13             61.0   \n21                                3.69             73.0   \n26                                9.72             63.0   \n31                               26.56             67.0   \n36                                5.65             74.0   \n41                                2.34             74.0   \n46                                2.42             74.0   \n51                                3.81             70.0   \n56                                7.67             65.0   \n61                                4.26             75.0   \n66                                6.42             53.0   \n71                                3.03             68.0   \n76                               15.06             86.0   \n81                                5.25             67.0   \n86                               15.45             69.0   \n91                                4.11             58.0   \n96                                 NaN             75.0   \n101                                NaN             67.0   \n106                               1.27             70.0   \n111                               0.54             70.0   \n116                               3.82             66.0   \n121                              28.70             61.0   \n126                               0.42             76.0   \n131                              15.11             77.0   \n136                               2.93             74.0   \n141                               5.95             66.0   \n146                               8.27             68.0   \n151                               0.14             70.0   \n156                               4.14             66.0   \n161                               4.39             69.0   \n166                              18.12             43.0   \n169                               4.01             62.0   \n174                               1.07             77.0   \n179                               0.37             80.0   \n184                              32.64             52.0   \n189                              12.15             75.0   \n194                              11.09             70.0   \n\n     Feeling safe walking alone at night  Homicide rate  ...  \\\n1                                   63.5            1.1  ...   \n6                                   80.6            0.5  ...   \n11                                  70.1            1.0  ...   \n16                                  35.6           26.7  ...   \n21                                  82.2            1.3  ...   \n26                                  47.9            4.2  ...   \n31                                  44.4           24.5  ...   \n36                                  72.3            0.5  ...   \n41                                  83.5            0.6  ...   \n46                                  69.0            3.1  ...   \n51                                  85.1            1.3  ...   \n56                                  70.5            0.5  ...   \n61                                  72.5            0.5  ...   \n66                                  60.0            0.8  ...   \n71                                  56.3            1.0  ...   \n76                                  86.0            0.5  ...   \n81                                  75.9            0.7  ...   \n86                                  69.8            1.8  ...   \n91                                  58.4            0.6  ...   \n96                                  72.5            0.2  ...   \n101                                 66.6            1.0  ...   \n106                                 62.4            4.8  ...   \n111                                 55.9            3.4  ...   \n116                                 75.8            0.6  ...   \n121                                 41.8           18.1  ...   \n126                                 82.0            0.6  ...   \n131                                 65.7            1.3  ...   \n136                                 90.1            0.4  ...   \n141                                 67.3            0.7  ...   \n146                                 73.4            1.0  ...   \n151                                 52.8            9.6  ...   \n156                                 63.5            0.8  ...   \n161                                 86.1            0.6  ...   \n166                                 36.1           13.7  ...   \n169                                 82.1            0.6  ...   \n174                                 75.6            0.9  ...   \n179                                 85.3            0.6  ...   \n184                                 59.8            1.4  ...   \n189                                 77.7            0.2  ...   \n194                                 73.9            5.5  ...   \n\n     Personal earnings  Quality of support network  Rooms per person  \\\n1              49126.0                        95.0               NaN   \n6              50349.0                        92.0               1.6   \n11             49675.0                        91.0               2.2   \n16                 NaN                        90.0               NaN   \n21             47622.0                        93.0               2.6   \n26             25879.0                        85.0               1.2   \n31                 NaN                        89.0               1.2   \n36             25372.0                        91.0               1.4   \n41             51466.0                        95.0               1.9   \n46             24336.0                        92.0               1.6   \n51             42964.0                        95.0               1.9   \n56             43755.0                        90.0               1.8   \n61             47585.0                        90.0               1.8   \n66             26064.0                        80.0               1.2   \n71             22576.0                        86.0               1.2   \n76             61787.0                        98.0               1.6   \n81             47653.0                        95.0               2.1   \n86             35067.0                        88.0               1.2   \n91             36658.0                        92.0               1.4   \n96             40863.0                        89.0               1.9   \n101            35191.0                        78.0               1.5   \n106            23683.0                        86.0               1.2   \n111            24287.0                        88.0               1.5   \n116            63062.0                        93.0               1.9   \n121            15314.0                        81.0               1.0   \n126            52877.0                        91.0               1.9   \n131            40043.0                        96.0               2.4   \n136            51212.0                        94.0               2.1   \n141            27046.0                        86.0               1.1   \n146            25367.0                        88.0               1.7   \n151                NaN                        89.0               0.9   \n156            24328.0                        91.0               1.1   \n161            34933.0                        92.0               1.5   \n166                NaN                        88.0               NaN   \n169            38507.0                        93.0               1.9   \n174            42393.0                        91.0               1.7   \n179            62283.0                        93.0               1.9   \n184                NaN                        86.0               1.0   \n189            43732.0                        94.0               1.9   \n194            60558.0                        91.0               2.4   \n\n     Self-reported health  Stakeholder engagement for developing regulations  \\\n1                    85.0                                                2.7   \n6                    70.0                                                1.3   \n11                   74.0                                                2.0   \n16                    NaN                                                2.2   \n21                   88.0                                                2.9   \n26                   57.0                                                1.3   \n31                    NaN                                                1.4   \n36                   60.0                                                1.6   \n41                   71.0                                                2.0   \n46                   53.0                                                2.7   \n51                   70.0                                                2.2   \n56                   66.0                                                2.1   \n61                   65.0                                                1.8   \n66                   74.0                                                1.8   \n71                   60.0                                                1.2   \n76                   76.0                                                2.1   \n81                   83.0                                                1.3   \n86                   84.0                                                2.5   \n91                   71.0                                                2.5   \n96                   36.0                                                1.4   \n101                  33.0                                                2.9   \n106                  47.0                                                2.2   \n111                  43.0                                                2.4   \n116                  69.0                                                1.7   \n121                  66.0                                                3.2   \n126                  76.0                                                2.6   \n131                  88.0                                                2.5   \n136                  77.0                                                2.2   \n141                  58.0                                                2.6   \n146                  48.0                                                1.5   \n151                  43.0                                                NaN   \n156                  66.0                                                3.0   \n161                  64.0                                                2.5   \n166                   NaN                                                NaN   \n169                  72.0                                                1.8   \n174                  75.0                                                2.0   \n179                  78.0                                                2.3   \n184                  69.0                                                1.5   \n189                  69.0                                                3.1   \n194                  88.0                                                3.1   \n\n     Student skills  Time devoted to leisure and personal care  Voter turnout  \\\n1             502.0                                      14.35           91.0   \n6             492.0                                      14.55           80.0   \n11            503.0                                      15.70           89.0   \n16            395.0                                        NaN           79.0   \n21            523.0                                      14.56           68.0   \n26            443.0                                        NaN           47.0   \n31            410.0                                        NaN           53.0   \n36            491.0                                        NaN           61.0   \n41            504.0                                      15.87           86.0   \n46            524.0                                      14.90           64.0   \n51            523.0                                      15.17           67.0   \n56            496.0                                      16.36           75.0   \n61            508.0                                      15.62           76.0   \n66            458.0                                        NaN           64.0   \n71            474.0                                        NaN           70.0   \n76            481.0                                        NaN           79.0   \n81            509.0                                        NaN           65.0   \n86            472.0                                        NaN           72.0   \n91            485.0                                      16.47           73.0   \n96            529.0                                        NaN           53.0   \n101           519.0                                      14.70           77.0   \n106           487.0                                      13.83           59.0   \n111           475.0                                        NaN           51.0   \n116           483.0                                        NaN           91.0   \n121           416.0                                        NaN           63.0   \n126           508.0                                        NaN           82.0   \n131           506.0                                      14.87           80.0   \n136           504.0                                      15.56           78.0   \n141           504.0                                      14.42           55.0   \n146           497.0                                        NaN           56.0   \n151           492.0                                        NaN           68.0   \n156           463.0                                        NaN           60.0   \n161           509.0                                      14.75           53.0   \n166             NaN                                      14.92           73.0   \n169           491.0                                      15.93           70.0   \n174           496.0                                      15.18           86.0   \n179           506.0                                        NaN           49.0   \n184           425.0                                      14.79           86.0   \n189           500.0                                      14.92           69.0   \n194           488.0                                      14.44           65.0   \n\n     Water quality  Years in education  \n1             93.0                21.0  \n6             92.0                17.0  \n11            84.0                19.3  \n16            73.0                16.2  \n21            91.0                17.3  \n26            71.0                17.5  \n31            75.0                14.1  \n36            87.0                17.9  \n41            95.0                19.5  \n46            84.0                17.7  \n51            95.0                19.8  \n56            81.0                16.5  \n61            91.0                18.1  \n66            69.0                19.0  \n71            77.0                16.4  \n76            99.0                19.0  \n81            85.0                18.1  \n86            67.0                15.6  \n91            71.0                16.6  \n96            87.0                16.4  \n101           76.0                17.3  \n106           79.0                18.0  \n111           81.0                18.4  \n116           84.0                15.1  \n121           68.0                15.2  \n126           93.0                18.7  \n131           89.0                17.7  \n136           98.0                18.3  \n141           82.0                17.6  \n146           86.0                16.9  \n151           55.0                16.2  \n156           85.0                15.8  \n161           90.0                18.3  \n166           67.0                 NaN  \n169           72.0                17.9  \n174           96.0                19.3  \n179           95.0                17.5  \n184           65.0                18.3  \n189           84.0                17.5  \n194           83.0                17.2  \n\n[40 rows x 27 columns]",
      "text/html": "<div>\n<style scoped>\n    .dataframe tbody tr th:only-of-type {\n        vertical-align: middle;\n    }\n\n    .dataframe tbody tr th {\n        vertical-align: top;\n    }\n\n    .dataframe thead th {\n        text-align: right;\n    }\n</style>\n<table border=\"1\" class=\"dataframe\">\n  <thead>\n    <tr style=\"text-align: right;\">\n      <th></th>\n      <th>CountryName</th>\n      <th>region</th>\n      <th>sub-region</th>\n      <th>Air pollution</th>\n      <th>Dwellings without basic facilities</th>\n      <th>Educational attainment</th>\n      <th>Employees working very long hours</th>\n      <th>Employment rate</th>\n      <th>Feeling safe walking alone at night</th>\n      <th>Homicide rate</th>\n      <th>...</th>\n      <th>Personal earnings</th>\n      <th>Quality of support network</th>\n      <th>Rooms per person</th>\n      <th>Self-reported health</th>\n      <th>Stakeholder engagement for developing regulations</th>\n      <th>Student skills</th>\n      <th>Time devoted to leisure and personal care</th>\n      <th>Voter turnout</th>\n      <th>Water quality</th>\n      <th>Years in education</th>\n    </tr>\n  </thead>\n  <tbody>\n    <tr>\n      <th>1</th>\n      <td>Australia</td>\n      <td>Oceania</td>\n      <td>Australia and New Zealand</td>\n      <td>5.0</td>\n      <td>NaN</td>\n      <td>81.0</td>\n      <td>13.04</td>\n      <td>73.0</td>\n      <td>63.5</td>\n      <td>1.1</td>\n      <td>...</td>\n      <td>49126.0</td>\n      <td>95.0</td>\n      <td>NaN</td>\n      <td>85.0</td>\n      <td>2.7</td>\n      <td>502.0</td>\n      <td>14.35</td>\n      <td>91.0</td>\n      <td>93.0</td>\n      <td>21.0</td>\n    </tr>\n    <tr>\n      <th>6</th>\n      <td>Austria</td>\n      <td>Europe</td>\n      <td>Western Europe</td>\n      <td>16.0</td>\n      <td>0.9</td>\n      <td>85.0</td>\n      <td>6.66</td>\n      <td>72.0</td>\n      <td>80.6</td>\n      <td>0.5</td>\n      <td>...</td>\n      <td>50349.0</td>\n      <td>92.0</td>\n      <td>1.6</td>\n      <td>70.0</td>\n      <td>1.3</td>\n      <td>492.0</td>\n      <td>14.55</td>\n      <td>80.0</td>\n      <td>92.0</td>\n      <td>17.0</td>\n    </tr>\n    <tr>\n      <th>11</th>\n      <td>Belgium</td>\n      <td>Europe</td>\n      <td>Western Europe</td>\n      <td>15.0</td>\n      <td>1.9</td>\n      <td>77.0</td>\n      <td>4.75</td>\n      <td>63.0</td>\n      <td>70.1</td>\n      <td>1.0</td>\n      <td>...</td>\n      <td>49675.0</td>\n      <td>91.0</td>\n      <td>2.2</td>\n      <td>74.0</td>\n      <td>2.0</td>\n      <td>503.0</td>\n      <td>15.70</td>\n      <td>89.0</td>\n      <td>84.0</td>\n      <td>19.3</td>\n    </tr>\n    <tr>\n      <th>16</th>\n      <td>Brazil</td>\n      <td>Americas</td>\n      <td>South America</td>\n      <td>10.0</td>\n      <td>6.7</td>\n      <td>49.0</td>\n      <td>7.13</td>\n      <td>61.0</td>\n      <td>35.6</td>\n      <td>26.7</td>\n      <td>...</td>\n      <td>NaN</td>\n      <td>90.0</td>\n      <td>NaN</td>\n      <td>NaN</td>\n      <td>2.2</td>\n      <td>395.0</td>\n      <td>NaN</td>\n      <td>79.0</td>\n      <td>73.0</td>\n      <td>16.2</td>\n    </tr>\n    <tr>\n      <th>21</th>\n      <td>Canada</td>\n      <td>Americas</td>\n      <td>Northern America</td>\n      <td>7.0</td>\n      <td>0.2</td>\n      <td>91.0</td>\n      <td>3.69</td>\n      <td>73.0</td>\n      <td>82.2</td>\n      <td>1.3</td>\n      <td>...</td>\n      <td>47622.0</td>\n      <td>93.0</td>\n      <td>2.6</td>\n      <td>88.0</td>\n      <td>2.9</td>\n      <td>523.0</td>\n      <td>14.56</td>\n      <td>68.0</td>\n      <td>91.0</td>\n      <td>17.3</td>\n    </tr>\n    <tr>\n      <th>26</th>\n      <td>Chile</td>\n      <td>Americas</td>\n      <td>South America</td>\n      <td>16.0</td>\n      <td>9.4</td>\n      <td>65.0</td>\n      <td>9.72</td>\n      <td>63.0</td>\n      <td>47.9</td>\n      <td>4.2</td>\n      <td>...</td>\n      <td>25879.0</td>\n      <td>85.0</td>\n      <td>1.2</td>\n      <td>57.0</td>\n      <td>1.3</td>\n      <td>443.0</td>\n      <td>NaN</td>\n      <td>47.0</td>\n      <td>71.0</td>\n      <td>17.5</td>\n    </tr>\n    <tr>\n      <th>31</th>\n      <td>Colombia</td>\n      <td>Americas</td>\n      <td>South America</td>\n      <td>10.0</td>\n      <td>23.9</td>\n      <td>54.0</td>\n      <td>26.56</td>\n      <td>67.0</td>\n      <td>44.4</td>\n      <td>24.5</td>\n      <td>...</td>\n      <td>NaN</td>\n      <td>89.0</td>\n      <td>1.2</td>\n      <td>NaN</td>\n      <td>1.4</td>\n      <td>410.0</td>\n      <td>NaN</td>\n      <td>53.0</td>\n      <td>75.0</td>\n      <td>14.1</td>\n    </tr>\n    <tr>\n      <th>36</th>\n      <td>Czech Republic</td>\n      <td>Europe</td>\n      <td>Eastern Europe</td>\n      <td>20.0</td>\n      <td>0.7</td>\n      <td>94.0</td>\n      <td>5.65</td>\n      <td>74.0</td>\n      <td>72.3</td>\n      <td>0.5</td>\n      <td>...</td>\n      <td>25372.0</td>\n      <td>91.0</td>\n      <td>1.4</td>\n      <td>60.0</td>\n      <td>1.6</td>\n      <td>491.0</td>\n      <td>NaN</td>\n      <td>61.0</td>\n      <td>87.0</td>\n      <td>17.9</td>\n    </tr>\n    <tr>\n      <th>41</th>\n      <td>Denmark</td>\n      <td>Europe</td>\n      <td>Northern Europe</td>\n      <td>9.0</td>\n      <td>0.5</td>\n      <td>81.0</td>\n      <td>2.34</td>\n      <td>74.0</td>\n      <td>83.5</td>\n      <td>0.6</td>\n      <td>...</td>\n      <td>51466.0</td>\n      <td>95.0</td>\n      <td>1.9</td>\n      <td>71.0</td>\n      <td>2.0</td>\n      <td>504.0</td>\n      <td>15.87</td>\n      <td>86.0</td>\n      <td>95.0</td>\n      <td>19.5</td>\n    </tr>\n    <tr>\n      <th>46</th>\n      <td>Estonia</td>\n      <td>Europe</td>\n      <td>Northern Europe</td>\n      <td>8.0</td>\n      <td>7.0</td>\n      <td>89.0</td>\n      <td>2.42</td>\n      <td>74.0</td>\n      <td>69.0</td>\n      <td>3.1</td>\n      <td>...</td>\n      <td>24336.0</td>\n      <td>92.0</td>\n      <td>1.6</td>\n      <td>53.0</td>\n      <td>2.7</td>\n      <td>524.0</td>\n      <td>14.90</td>\n      <td>64.0</td>\n      <td>84.0</td>\n      <td>17.7</td>\n    </tr>\n    <tr>\n      <th>51</th>\n      <td>Finland</td>\n      <td>Europe</td>\n      <td>Northern Europe</td>\n      <td>6.0</td>\n      <td>0.5</td>\n      <td>88.0</td>\n      <td>3.81</td>\n      <td>70.0</td>\n      <td>85.1</td>\n      <td>1.3</td>\n      <td>...</td>\n      <td>42964.0</td>\n      <td>95.0</td>\n      <td>1.9</td>\n      <td>70.0</td>\n      <td>2.2</td>\n      <td>523.0</td>\n      <td>15.17</td>\n      <td>67.0</td>\n      <td>95.0</td>\n      <td>19.8</td>\n    </tr>\n    <tr>\n      <th>56</th>\n      <td>France</td>\n      <td>Europe</td>\n      <td>Western Europe</td>\n      <td>13.0</td>\n      <td>0.5</td>\n      <td>78.0</td>\n      <td>7.67</td>\n      <td>65.0</td>\n      <td>70.5</td>\n      <td>0.5</td>\n      <td>...</td>\n      <td>43755.0</td>\n      <td>90.0</td>\n      <td>1.8</td>\n      <td>66.0</td>\n      <td>2.1</td>\n      <td>496.0</td>\n      <td>16.36</td>\n      <td>75.0</td>\n      <td>81.0</td>\n      <td>16.5</td>\n    </tr>\n    <tr>\n      <th>61</th>\n      <td>Germany</td>\n      <td>Europe</td>\n      <td>Western Europe</td>\n      <td>14.0</td>\n      <td>0.2</td>\n      <td>87.0</td>\n      <td>4.26</td>\n      <td>75.0</td>\n      <td>72.5</td>\n      <td>0.5</td>\n      <td>...</td>\n      <td>47585.0</td>\n      <td>90.0</td>\n      <td>1.8</td>\n      <td>65.0</td>\n      <td>1.8</td>\n      <td>508.0</td>\n      <td>15.62</td>\n      <td>76.0</td>\n      <td>91.0</td>\n      <td>18.1</td>\n    </tr>\n    <tr>\n      <th>66</th>\n      <td>Greece</td>\n      <td>Europe</td>\n      <td>Southern Europe</td>\n      <td>18.0</td>\n      <td>0.5</td>\n      <td>73.0</td>\n      <td>6.42</td>\n      <td>53.0</td>\n      <td>60.0</td>\n      <td>0.8</td>\n      <td>...</td>\n      <td>26064.0</td>\n      <td>80.0</td>\n      <td>1.2</td>\n      <td>74.0</td>\n      <td>1.8</td>\n      <td>458.0</td>\n      <td>NaN</td>\n      <td>64.0</td>\n      <td>69.0</td>\n      <td>19.0</td>\n    </tr>\n    <tr>\n      <th>71</th>\n      <td>Hungary</td>\n      <td>Europe</td>\n      <td>Eastern Europe</td>\n      <td>19.0</td>\n      <td>4.7</td>\n      <td>84.0</td>\n      <td>3.03</td>\n      <td>68.0</td>\n      <td>56.3</td>\n      <td>1.0</td>\n      <td>...</td>\n      <td>22576.0</td>\n      <td>86.0</td>\n      <td>1.2</td>\n      <td>60.0</td>\n      <td>1.2</td>\n      <td>474.0</td>\n      <td>NaN</td>\n      <td>70.0</td>\n      <td>77.0</td>\n      <td>16.4</td>\n    </tr>\n    <tr>\n      <th>76</th>\n      <td>Iceland</td>\n      <td>Europe</td>\n      <td>Northern Europe</td>\n      <td>3.0</td>\n      <td>0.0</td>\n      <td>77.0</td>\n      <td>15.06</td>\n      <td>86.0</td>\n      <td>86.0</td>\n      <td>0.5</td>\n      <td>...</td>\n      <td>61787.0</td>\n      <td>98.0</td>\n      <td>1.6</td>\n      <td>76.0</td>\n      <td>2.1</td>\n      <td>481.0</td>\n      <td>NaN</td>\n      <td>79.0</td>\n      <td>99.0</td>\n      <td>19.0</td>\n    </tr>\n    <tr>\n      <th>81</th>\n      <td>Ireland</td>\n      <td>Europe</td>\n      <td>Northern Europe</td>\n      <td>7.0</td>\n      <td>1.0</td>\n      <td>82.0</td>\n      <td>5.25</td>\n      <td>67.0</td>\n      <td>75.9</td>\n      <td>0.7</td>\n      <td>...</td>\n      <td>47653.0</td>\n      <td>95.0</td>\n      <td>2.1</td>\n      <td>83.0</td>\n      <td>1.3</td>\n      <td>509.0</td>\n      <td>NaN</td>\n      <td>65.0</td>\n      <td>85.0</td>\n      <td>18.1</td>\n    </tr>\n    <tr>\n      <th>86</th>\n      <td>Israel</td>\n      <td>Asia</td>\n      <td>Western Asia</td>\n      <td>21.0</td>\n      <td>NaN</td>\n      <td>87.0</td>\n      <td>15.45</td>\n      <td>69.0</td>\n      <td>69.8</td>\n      <td>1.8</td>\n      <td>...</td>\n      <td>35067.0</td>\n      <td>88.0</td>\n      <td>1.2</td>\n      <td>84.0</td>\n      <td>2.5</td>\n      <td>472.0</td>\n      <td>NaN</td>\n      <td>72.0</td>\n      <td>67.0</td>\n      <td>15.6</td>\n    </tr>\n    <tr>\n      <th>91</th>\n      <td>Italy</td>\n      <td>Europe</td>\n      <td>Southern Europe</td>\n      <td>18.0</td>\n      <td>0.7</td>\n      <td>61.0</td>\n      <td>4.11</td>\n      <td>58.0</td>\n      <td>58.4</td>\n      <td>0.6</td>\n      <td>...</td>\n      <td>36658.0</td>\n      <td>92.0</td>\n      <td>1.4</td>\n      <td>71.0</td>\n      <td>2.5</td>\n      <td>485.0</td>\n      <td>16.47</td>\n      <td>73.0</td>\n      <td>71.0</td>\n      <td>16.6</td>\n    </tr>\n    <tr>\n      <th>96</th>\n      <td>Japan</td>\n      <td>Asia</td>\n      <td>Eastern Asia</td>\n      <td>14.0</td>\n      <td>6.4</td>\n      <td>NaN</td>\n      <td>NaN</td>\n      <td>75.0</td>\n      <td>72.5</td>\n      <td>0.2</td>\n      <td>...</td>\n      <td>40863.0</td>\n      <td>89.0</td>\n      <td>1.9</td>\n      <td>36.0</td>\n      <td>1.4</td>\n      <td>529.0</td>\n      <td>NaN</td>\n      <td>53.0</td>\n      <td>87.0</td>\n      <td>16.4</td>\n    </tr>\n    <tr>\n      <th>101</th>\n      <td>South Korea</td>\n      <td>Asia</td>\n      <td>Eastern Asia</td>\n      <td>28.0</td>\n      <td>2.5</td>\n      <td>88.0</td>\n      <td>NaN</td>\n      <td>67.0</td>\n      <td>66.6</td>\n      <td>1.0</td>\n      <td>...</td>\n      <td>35191.0</td>\n      <td>78.0</td>\n      <td>1.5</td>\n      <td>33.0</td>\n      <td>2.9</td>\n      <td>519.0</td>\n      <td>14.70</td>\n      <td>77.0</td>\n      <td>76.0</td>\n      <td>17.3</td>\n    </tr>\n    <tr>\n      <th>106</th>\n      <td>Latvia</td>\n      <td>Europe</td>\n      <td>Northern Europe</td>\n      <td>11.0</td>\n      <td>13.9</td>\n      <td>88.0</td>\n      <td>1.27</td>\n      <td>70.0</td>\n      <td>62.4</td>\n      <td>4.8</td>\n      <td>...</td>\n      <td>23683.0</td>\n      <td>86.0</td>\n      <td>1.2</td>\n      <td>47.0</td>\n      <td>2.2</td>\n      <td>487.0</td>\n      <td>13.83</td>\n      <td>59.0</td>\n      <td>79.0</td>\n      <td>18.0</td>\n    </tr>\n    <tr>\n      <th>111</th>\n      <td>Lithuania</td>\n      <td>Europe</td>\n      <td>Northern Europe</td>\n      <td>14.0</td>\n      <td>13.6</td>\n      <td>93.0</td>\n      <td>0.54</td>\n      <td>70.0</td>\n      <td>55.9</td>\n      <td>3.4</td>\n      <td>...</td>\n      <td>24287.0</td>\n      <td>88.0</td>\n      <td>1.5</td>\n      <td>43.0</td>\n      <td>2.4</td>\n      <td>475.0</td>\n      <td>NaN</td>\n      <td>51.0</td>\n      <td>81.0</td>\n      <td>18.4</td>\n    </tr>\n    <tr>\n      <th>116</th>\n      <td>Luxembourg</td>\n      <td>Europe</td>\n      <td>Western Europe</td>\n      <td>12.0</td>\n      <td>0.5</td>\n      <td>77.0</td>\n      <td>3.82</td>\n      <td>66.0</td>\n      <td>75.8</td>\n      <td>0.6</td>\n      <td>...</td>\n      <td>63062.0</td>\n      <td>93.0</td>\n      <td>1.9</td>\n      <td>69.0</td>\n      <td>1.7</td>\n      <td>483.0</td>\n      <td>NaN</td>\n      <td>91.0</td>\n      <td>84.0</td>\n      <td>15.1</td>\n    </tr>\n    <tr>\n      <th>121</th>\n      <td>Mexico</td>\n      <td>Americas</td>\n      <td>Central America</td>\n      <td>16.0</td>\n      <td>25.5</td>\n      <td>38.0</td>\n      <td>28.70</td>\n      <td>61.0</td>\n      <td>41.8</td>\n      <td>18.1</td>\n      <td>...</td>\n      <td>15314.0</td>\n      <td>81.0</td>\n      <td>1.0</td>\n      <td>66.0</td>\n      <td>3.2</td>\n      <td>416.0</td>\n      <td>NaN</td>\n      <td>63.0</td>\n      <td>68.0</td>\n      <td>15.2</td>\n    </tr>\n    <tr>\n      <th>126</th>\n      <td>Netherlands</td>\n      <td>Europe</td>\n      <td>Western Europe</td>\n      <td>14.0</td>\n      <td>0.1</td>\n      <td>78.0</td>\n      <td>0.42</td>\n      <td>76.0</td>\n      <td>82.0</td>\n      <td>0.6</td>\n      <td>...</td>\n      <td>52877.0</td>\n      <td>91.0</td>\n      <td>1.9</td>\n      <td>76.0</td>\n      <td>2.6</td>\n      <td>508.0</td>\n      <td>NaN</td>\n      <td>82.0</td>\n      <td>93.0</td>\n      <td>18.7</td>\n    </tr>\n    <tr>\n      <th>131</th>\n      <td>New Zealand</td>\n      <td>Oceania</td>\n      <td>Australia and New Zealand</td>\n      <td>5.0</td>\n      <td>NaN</td>\n      <td>79.0</td>\n      <td>15.11</td>\n      <td>77.0</td>\n      <td>65.7</td>\n      <td>1.3</td>\n      <td>...</td>\n      <td>40043.0</td>\n      <td>96.0</td>\n      <td>2.4</td>\n      <td>88.0</td>\n      <td>2.5</td>\n      <td>506.0</td>\n      <td>14.87</td>\n      <td>80.0</td>\n      <td>89.0</td>\n      <td>17.7</td>\n    </tr>\n    <tr>\n      <th>136</th>\n      <td>Norway</td>\n      <td>Europe</td>\n      <td>Northern Europe</td>\n      <td>5.0</td>\n      <td>0.0</td>\n      <td>82.0</td>\n      <td>2.93</td>\n      <td>74.0</td>\n      <td>90.1</td>\n      <td>0.4</td>\n      <td>...</td>\n      <td>51212.0</td>\n      <td>94.0</td>\n      <td>2.1</td>\n      <td>77.0</td>\n      <td>2.2</td>\n      <td>504.0</td>\n      <td>15.56</td>\n      <td>78.0</td>\n      <td>98.0</td>\n      <td>18.3</td>\n    </tr>\n    <tr>\n      <th>141</th>\n      <td>Poland</td>\n      <td>Europe</td>\n      <td>Eastern Europe</td>\n      <td>22.0</td>\n      <td>3.0</td>\n      <td>92.0</td>\n      <td>5.95</td>\n      <td>66.0</td>\n      <td>67.3</td>\n      <td>0.7</td>\n      <td>...</td>\n      <td>27046.0</td>\n      <td>86.0</td>\n      <td>1.1</td>\n      <td>58.0</td>\n      <td>2.6</td>\n      <td>504.0</td>\n      <td>14.42</td>\n      <td>55.0</td>\n      <td>82.0</td>\n      <td>17.6</td>\n    </tr>\n    <tr>\n      <th>146</th>\n      <td>Portugal</td>\n      <td>Europe</td>\n      <td>Southern Europe</td>\n      <td>10.0</td>\n      <td>1.0</td>\n      <td>48.0</td>\n      <td>8.27</td>\n      <td>68.0</td>\n      <td>73.4</td>\n      <td>1.0</td>\n      <td>...</td>\n      <td>25367.0</td>\n      <td>88.0</td>\n      <td>1.7</td>\n      <td>48.0</td>\n      <td>1.5</td>\n      <td>497.0</td>\n      <td>NaN</td>\n      <td>56.0</td>\n      <td>86.0</td>\n      <td>16.9</td>\n    </tr>\n    <tr>\n      <th>151</th>\n      <td>Russia</td>\n      <td>Europe</td>\n      <td>Eastern Europe</td>\n      <td>15.0</td>\n      <td>14.8</td>\n      <td>94.0</td>\n      <td>0.14</td>\n      <td>70.0</td>\n      <td>52.8</td>\n      <td>9.6</td>\n      <td>...</td>\n      <td>NaN</td>\n      <td>89.0</td>\n      <td>0.9</td>\n      <td>43.0</td>\n      <td>NaN</td>\n      <td>492.0</td>\n      <td>NaN</td>\n      <td>68.0</td>\n      <td>55.0</td>\n      <td>16.2</td>\n    </tr>\n    <tr>\n      <th>156</th>\n      <td>Slovakia</td>\n      <td>Europe</td>\n      <td>Eastern Europe</td>\n      <td>21.0</td>\n      <td>1.2</td>\n      <td>91.0</td>\n      <td>4.14</td>\n      <td>66.0</td>\n      <td>63.5</td>\n      <td>0.8</td>\n      <td>...</td>\n      <td>24328.0</td>\n      <td>91.0</td>\n      <td>1.1</td>\n      <td>66.0</td>\n      <td>3.0</td>\n      <td>463.0</td>\n      <td>NaN</td>\n      <td>60.0</td>\n      <td>85.0</td>\n      <td>15.8</td>\n    </tr>\n    <tr>\n      <th>161</th>\n      <td>Slovenia</td>\n      <td>Europe</td>\n      <td>Southern Europe</td>\n      <td>16.0</td>\n      <td>0.4</td>\n      <td>88.0</td>\n      <td>4.39</td>\n      <td>69.0</td>\n      <td>86.1</td>\n      <td>0.6</td>\n      <td>...</td>\n      <td>34933.0</td>\n      <td>92.0</td>\n      <td>1.5</td>\n      <td>64.0</td>\n      <td>2.5</td>\n      <td>509.0</td>\n      <td>14.75</td>\n      <td>53.0</td>\n      <td>90.0</td>\n      <td>18.3</td>\n    </tr>\n    <tr>\n      <th>166</th>\n      <td>South Africa</td>\n      <td>Africa</td>\n      <td>Southern Africa</td>\n      <td>22.0</td>\n      <td>37.0</td>\n      <td>73.0</td>\n      <td>18.12</td>\n      <td>43.0</td>\n      <td>36.1</td>\n      <td>13.7</td>\n      <td>...</td>\n      <td>NaN</td>\n      <td>88.0</td>\n      <td>NaN</td>\n      <td>NaN</td>\n      <td>NaN</td>\n      <td>NaN</td>\n      <td>14.92</td>\n      <td>73.0</td>\n      <td>67.0</td>\n      <td>NaN</td>\n    </tr>\n    <tr>\n      <th>169</th>\n      <td>Spain</td>\n      <td>Europe</td>\n      <td>Southern Europe</td>\n      <td>11.0</td>\n      <td>0.1</td>\n      <td>59.0</td>\n      <td>4.01</td>\n      <td>62.0</td>\n      <td>82.1</td>\n      <td>0.6</td>\n      <td>...</td>\n      <td>38507.0</td>\n      <td>93.0</td>\n      <td>1.9</td>\n      <td>72.0</td>\n      <td>1.8</td>\n      <td>491.0</td>\n      <td>15.93</td>\n      <td>70.0</td>\n      <td>72.0</td>\n      <td>17.9</td>\n    </tr>\n    <tr>\n      <th>174</th>\n      <td>Sweden</td>\n      <td>Europe</td>\n      <td>Northern Europe</td>\n      <td>6.0</td>\n      <td>0.0</td>\n      <td>83.0</td>\n      <td>1.07</td>\n      <td>77.0</td>\n      <td>75.6</td>\n      <td>0.9</td>\n      <td>...</td>\n      <td>42393.0</td>\n      <td>91.0</td>\n      <td>1.7</td>\n      <td>75.0</td>\n      <td>2.0</td>\n      <td>496.0</td>\n      <td>15.18</td>\n      <td>86.0</td>\n      <td>96.0</td>\n      <td>19.3</td>\n    </tr>\n    <tr>\n      <th>179</th>\n      <td>Switzerland</td>\n      <td>Europe</td>\n      <td>Western Europe</td>\n      <td>15.0</td>\n      <td>0.1</td>\n      <td>88.0</td>\n      <td>0.37</td>\n      <td>80.0</td>\n      <td>85.3</td>\n      <td>0.6</td>\n      <td>...</td>\n      <td>62283.0</td>\n      <td>93.0</td>\n      <td>1.9</td>\n      <td>78.0</td>\n      <td>2.3</td>\n      <td>506.0</td>\n      <td>NaN</td>\n      <td>49.0</td>\n      <td>95.0</td>\n      <td>17.5</td>\n    </tr>\n    <tr>\n      <th>184</th>\n      <td>Turkey</td>\n      <td>Asia</td>\n      <td>Western Asia</td>\n      <td>20.0</td>\n      <td>8.0</td>\n      <td>39.0</td>\n      <td>32.64</td>\n      <td>52.0</td>\n      <td>59.8</td>\n      <td>1.4</td>\n      <td>...</td>\n      <td>NaN</td>\n      <td>86.0</td>\n      <td>1.0</td>\n      <td>69.0</td>\n      <td>1.5</td>\n      <td>425.0</td>\n      <td>14.79</td>\n      <td>86.0</td>\n      <td>65.0</td>\n      <td>18.3</td>\n    </tr>\n    <tr>\n      <th>189</th>\n      <td>United Kingdom</td>\n      <td>Europe</td>\n      <td>Northern Europe</td>\n      <td>11.0</td>\n      <td>0.3</td>\n      <td>81.0</td>\n      <td>12.15</td>\n      <td>75.0</td>\n      <td>77.7</td>\n      <td>0.2</td>\n      <td>...</td>\n      <td>43732.0</td>\n      <td>94.0</td>\n      <td>1.9</td>\n      <td>69.0</td>\n      <td>3.1</td>\n      <td>500.0</td>\n      <td>14.92</td>\n      <td>69.0</td>\n      <td>84.0</td>\n      <td>17.5</td>\n    </tr>\n    <tr>\n      <th>194</th>\n      <td>United States</td>\n      <td>Americas</td>\n      <td>Northern America</td>\n      <td>10.0</td>\n      <td>0.1</td>\n      <td>91.0</td>\n      <td>11.09</td>\n      <td>70.0</td>\n      <td>73.9</td>\n      <td>5.5</td>\n      <td>...</td>\n      <td>60558.0</td>\n      <td>91.0</td>\n      <td>2.4</td>\n      <td>88.0</td>\n      <td>3.1</td>\n      <td>488.0</td>\n      <td>14.44</td>\n      <td>65.0</td>\n      <td>83.0</td>\n      <td>17.2</td>\n    </tr>\n  </tbody>\n</table>\n<p>40 rows × 27 columns</p>\n</div>"
     },
     "execution_count": 70,
     "metadata": {},
     "output_type": "execute_result"
    }
   ],
   "source": [
    "df_bl"
   ],
   "metadata": {
    "collapsed": false,
    "pycharm": {
     "name": "#%%\n"
    }
   }
  },
  {
   "cell_type": "code",
   "execution_count": 77,
   "outputs": [],
   "source": [
    "df_bl = df_h.merge(df_bl, how = \"right\", left_on=\"Country name\", right_on= \"CountryName\")"
   ],
   "metadata": {
    "collapsed": false,
    "pycharm": {
     "name": "#%%\n"
    }
   }
  },
  {
   "cell_type": "code",
   "execution_count": 81,
   "outputs": [],
   "source": [
    "df_bl.to_csv(\"cleaned_data/better_life_happiness_merged_final.csv\")"
   ],
   "metadata": {
    "collapsed": false,
    "pycharm": {
     "name": "#%%\n"
    }
   }
  },
  {
   "cell_type": "code",
   "execution_count": null,
   "outputs": [],
   "source": [],
   "metadata": {
    "collapsed": false,
    "pycharm": {
     "name": "#%%\n"
    }
   }
  }
 ],
 "metadata": {
  "kernelspec": {
   "display_name": "Python 3",
   "language": "python",
   "name": "python3"
  },
  "language_info": {
   "codemirror_mode": {
    "name": "ipython",
    "version": 2
   },
   "file_extension": ".py",
   "mimetype": "text/x-python",
   "name": "python",
   "nbconvert_exporter": "python",
   "pygments_lexer": "ipython2",
   "version": "2.7.6"
  }
 },
 "nbformat": 4,
 "nbformat_minor": 0
}