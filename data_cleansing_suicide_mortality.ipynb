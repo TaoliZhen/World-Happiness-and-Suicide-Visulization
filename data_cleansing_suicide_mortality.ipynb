{
 "cells": [
  {
   "cell_type": "code",
   "execution_count": 2,
   "metadata": {
    "collapsed": true
   },
   "outputs": [],
   "source": [
    "import pandas as pd\n",
    "import country_converter as coco"
   ]
  },
  {
   "cell_type": "markdown",
   "source": [
    "### The Country region dataset"
   ],
   "metadata": {
    "collapsed": false
   }
  },
  {
   "cell_type": "code",
   "execution_count": 22,
   "outputs": [],
   "source": [
    "country_region = pd.read_csv(\"all_country_regions.csv\")\n",
    "#country_region = country_region.rename(columns={\"name\":\"Country\", \"alpha-3\":\"CountryCode\"})\n",
    "#country_region['intermediate-region-code'] = country_region['intermediate-region-code'].fillna(country_region['sub-region-code'])\n",
    "country_region[\"Country\"] = coco.convert(names = country_region[\"Country\"], to=\"name_short\")\n",
    "country_region.to_csv(\"cleaned_data/all_country_regions.csv\", index=\"False\")"
   ],
   "metadata": {
    "collapsed": false,
    "pycharm": {
     "name": "#%%\n"
    }
   }
  },
  {
   "cell_type": "code",
   "execution_count": 274,
   "outputs": [
    {
     "data": {
      "text/plain": "           Country CountryCode  country-code     iso_3166-2    region  \\\n235  United States         USA           840  ISO 3166-2:US  Americas   \n\n           sub-region  region-code  sub-region-code  \n235  Northern America         19.0             21.0  ",
      "text/html": "<div>\n<style scoped>\n    .dataframe tbody tr th:only-of-type {\n        vertical-align: middle;\n    }\n\n    .dataframe tbody tr th {\n        vertical-align: top;\n    }\n\n    .dataframe thead th {\n        text-align: right;\n    }\n</style>\n<table border=\"1\" class=\"dataframe\">\n  <thead>\n    <tr style=\"text-align: right;\">\n      <th></th>\n      <th>Country</th>\n      <th>CountryCode</th>\n      <th>country-code</th>\n      <th>iso_3166-2</th>\n      <th>region</th>\n      <th>sub-region</th>\n      <th>region-code</th>\n      <th>sub-region-code</th>\n    </tr>\n  </thead>\n  <tbody>\n    <tr>\n      <th>235</th>\n      <td>United States</td>\n      <td>USA</td>\n      <td>840</td>\n      <td>ISO 3166-2:US</td>\n      <td>Americas</td>\n      <td>Northern America</td>\n      <td>19.0</td>\n      <td>21.0</td>\n    </tr>\n  </tbody>\n</table>\n</div>"
     },
     "execution_count": 274,
     "metadata": {},
     "output_type": "execute_result"
    }
   ],
   "source": [
    "country_region.loc[country_region[\"CountryCode\"] == \"USA\"]"
   ],
   "metadata": {
    "collapsed": false,
    "pycharm": {
     "name": "#%%\n"
    }
   }
  },
  {
   "cell_type": "markdown",
   "source": [
    "## Suicide Rates dataset (2000 - 2019)\n",
    "### File name: 'Suicide rates WHO.csv', 'Crude Suuicide Rates WHO.csv'\n",
    "link: https://www.who.int/data/gho/data/themes/mental-health/suicide-rates\n",
    "\n",
    "#### Age-standardized suicide rate (per 100,000 population)"
   ],
   "metadata": {
    "collapsed": false,
    "pycharm": {
     "name": "#%% md\n"
    }
   }
  },
  {
   "cell_type": "code",
   "execution_count": 24,
   "outputs": [
    {
     "name": "stderr",
     "output_type": "stream",
     "text": [
      "<ipython-input-24-b096b0c44730>:9: SettingWithCopyWarning: \n",
      "A value is trying to be set on a copy of a slice from a DataFrame.\n",
      "Try using .loc[row_indexer,col_indexer] = value instead\n",
      "\n",
      "See the caveats in the documentation: https://pandas.pydata.org/pandas-docs/stable/user_guide/indexing.html#returning-a-view-versus-a-copy\n",
      "  df_suicide2[\"Country\"] = coco.convert(names = df_suicide2[\"Country\"], to=\"name_short\")\n"
     ]
    },
    {
     "data": {
      "text/plain": "       Year              Country CountryCode ParentCountry ParentCountryCode  \\\n0      2019  Antigua and Barbuda         ATG      Americas               AMR   \n1      2019             Barbados         BRB      Americas               AMR   \n2      2019             Barbados         BRB      Americas               AMR   \n3      2019  Antigua and Barbuda         ATG      Americas               AMR   \n4      2019             Barbados         BRB      Americas               AMR   \n...     ...                  ...         ...           ...               ...   \n10975  2000               Guinea         GIN        Africa               AFR   \n10976  2000                Ghana         GHA        Africa               AFR   \n10977  2000                Malta         MLT        Europe               EUR   \n10978  2000           Seychelles         SYC        Africa               AFR   \n10979  2000           Montenegro         MNE        Europe               EUR   \n\n              Sex SexCode  SuicideRate  SuicideRateLower  SuicideRateUpper  \n0            Male     MLE         0.00              0.00              0.00  \n1          Female    FMLE         0.16              0.11              0.22  \n2      Both sexes    BTSX         0.31              0.22              0.42  \n3      Both sexes    BTSX         0.32              0.22              0.45  \n4            Male     MLE         0.49              0.34              0.65  \n...           ...     ...          ...               ...               ...  \n10975  Both sexes    BTSX         9.73              5.57             15.96  \n10976  Both sexes    BTSX         9.75              6.46             14.30  \n10977        Male     MLE         9.75              7.56             12.29  \n10978  Both sexes    BTSX         9.76              6.60             13.46  \n10979      Female    FMLE         9.82              7.22             12.89  \n\n[10980 rows x 10 columns]",
      "text/html": "<div>\n<style scoped>\n    .dataframe tbody tr th:only-of-type {\n        vertical-align: middle;\n    }\n\n    .dataframe tbody tr th {\n        vertical-align: top;\n    }\n\n    .dataframe thead th {\n        text-align: right;\n    }\n</style>\n<table border=\"1\" class=\"dataframe\">\n  <thead>\n    <tr style=\"text-align: right;\">\n      <th></th>\n      <th>Year</th>\n      <th>Country</th>\n      <th>CountryCode</th>\n      <th>ParentCountry</th>\n      <th>ParentCountryCode</th>\n      <th>Sex</th>\n      <th>SexCode</th>\n      <th>SuicideRate</th>\n      <th>SuicideRateLower</th>\n      <th>SuicideRateUpper</th>\n    </tr>\n  </thead>\n  <tbody>\n    <tr>\n      <th>0</th>\n      <td>2019</td>\n      <td>Antigua and Barbuda</td>\n      <td>ATG</td>\n      <td>Americas</td>\n      <td>AMR</td>\n      <td>Male</td>\n      <td>MLE</td>\n      <td>0.00</td>\n      <td>0.00</td>\n      <td>0.00</td>\n    </tr>\n    <tr>\n      <th>1</th>\n      <td>2019</td>\n      <td>Barbados</td>\n      <td>BRB</td>\n      <td>Americas</td>\n      <td>AMR</td>\n      <td>Female</td>\n      <td>FMLE</td>\n      <td>0.16</td>\n      <td>0.11</td>\n      <td>0.22</td>\n    </tr>\n    <tr>\n      <th>2</th>\n      <td>2019</td>\n      <td>Barbados</td>\n      <td>BRB</td>\n      <td>Americas</td>\n      <td>AMR</td>\n      <td>Both sexes</td>\n      <td>BTSX</td>\n      <td>0.31</td>\n      <td>0.22</td>\n      <td>0.42</td>\n    </tr>\n    <tr>\n      <th>3</th>\n      <td>2019</td>\n      <td>Antigua and Barbuda</td>\n      <td>ATG</td>\n      <td>Americas</td>\n      <td>AMR</td>\n      <td>Both sexes</td>\n      <td>BTSX</td>\n      <td>0.32</td>\n      <td>0.22</td>\n      <td>0.45</td>\n    </tr>\n    <tr>\n      <th>4</th>\n      <td>2019</td>\n      <td>Barbados</td>\n      <td>BRB</td>\n      <td>Americas</td>\n      <td>AMR</td>\n      <td>Male</td>\n      <td>MLE</td>\n      <td>0.49</td>\n      <td>0.34</td>\n      <td>0.65</td>\n    </tr>\n    <tr>\n      <th>...</th>\n      <td>...</td>\n      <td>...</td>\n      <td>...</td>\n      <td>...</td>\n      <td>...</td>\n      <td>...</td>\n      <td>...</td>\n      <td>...</td>\n      <td>...</td>\n      <td>...</td>\n    </tr>\n    <tr>\n      <th>10975</th>\n      <td>2000</td>\n      <td>Guinea</td>\n      <td>GIN</td>\n      <td>Africa</td>\n      <td>AFR</td>\n      <td>Both sexes</td>\n      <td>BTSX</td>\n      <td>9.73</td>\n      <td>5.57</td>\n      <td>15.96</td>\n    </tr>\n    <tr>\n      <th>10976</th>\n      <td>2000</td>\n      <td>Ghana</td>\n      <td>GHA</td>\n      <td>Africa</td>\n      <td>AFR</td>\n      <td>Both sexes</td>\n      <td>BTSX</td>\n      <td>9.75</td>\n      <td>6.46</td>\n      <td>14.30</td>\n    </tr>\n    <tr>\n      <th>10977</th>\n      <td>2000</td>\n      <td>Malta</td>\n      <td>MLT</td>\n      <td>Europe</td>\n      <td>EUR</td>\n      <td>Male</td>\n      <td>MLE</td>\n      <td>9.75</td>\n      <td>7.56</td>\n      <td>12.29</td>\n    </tr>\n    <tr>\n      <th>10978</th>\n      <td>2000</td>\n      <td>Seychelles</td>\n      <td>SYC</td>\n      <td>Africa</td>\n      <td>AFR</td>\n      <td>Both sexes</td>\n      <td>BTSX</td>\n      <td>9.76</td>\n      <td>6.60</td>\n      <td>13.46</td>\n    </tr>\n    <tr>\n      <th>10979</th>\n      <td>2000</td>\n      <td>Montenegro</td>\n      <td>MNE</td>\n      <td>Europe</td>\n      <td>EUR</td>\n      <td>Female</td>\n      <td>FMLE</td>\n      <td>9.82</td>\n      <td>7.22</td>\n      <td>12.89</td>\n    </tr>\n  </tbody>\n</table>\n<p>10980 rows × 10 columns</p>\n</div>"
     },
     "execution_count": 24,
     "metadata": {},
     "output_type": "execute_result"
    }
   ],
   "source": [
    "df_suicide = pd.read_csv('Suicide rates WHO.csv')\n",
    "\n",
    "df_suicide2 = df_suicide[[\"Period\", \"Location\", \"SpatialDimValueCode\", \"ParentLocation\", \"ParentLocationCode\",\n",
    "            \"Dim1\", \"Dim1ValueCode\", \"FactValueNumeric\", \"FactValueNumericLow\", \"FactValueNumericHigh\"]]\n",
    "\n",
    "df_suicide2.columns = [\"Year\", \"Country\", \"CountryCode\", \"ParentCountry\", \"ParentCountryCode\",\n",
    "            \"Sex\", \"SexCode\", \"SuicideRate\", \"SuicideRateLower\", \"SuicideRateUpper\"]\n",
    "\n",
    "df_suicide2[\"Country\"] = coco.convert(names = df_suicide2[\"Country\"], to=\"name_short\")\n",
    "df_suicide2"
   ],
   "metadata": {
    "collapsed": false,
    "pycharm": {
     "name": "#%%\n"
    }
   }
  },
  {
   "cell_type": "markdown",
   "source": [
    "### Check NA values"
   ],
   "metadata": {
    "collapsed": false,
    "pycharm": {
     "name": "#%% md\n"
    }
   }
  },
  {
   "cell_type": "code",
   "execution_count": 25,
   "outputs": [
    {
     "data": {
      "text/plain": "Year                 0\nCountry              0\nCountryCode          0\nParentCountry        0\nParentCountryCode    0\nSex                  0\nSexCode              0\nSuicideRate          0\nSuicideRateLower     0\nSuicideRateUpper     0\ndtype: int64"
     },
     "execution_count": 25,
     "metadata": {},
     "output_type": "execute_result"
    }
   ],
   "source": [
    "df_suicide2.isnull().sum()"
   ],
   "metadata": {
    "collapsed": false,
    "pycharm": {
     "name": "#%%\n"
    }
   }
  },
  {
   "cell_type": "code",
   "source": [
    "df_suicide2.dtypes"
   ],
   "metadata": {
    "collapsed": false,
    "pycharm": {
     "name": "#%%\n"
    }
   },
   "execution_count": 26,
   "outputs": [
    {
     "data": {
      "text/plain": "Year                   int64\nCountry               object\nCountryCode           object\nParentCountry         object\nParentCountryCode     object\nSex                   object\nSexCode               object\nSuicideRate          float64\nSuicideRateLower     float64\nSuicideRateUpper     float64\ndtype: object"
     },
     "execution_count": 26,
     "metadata": {},
     "output_type": "execute_result"
    }
   ]
  },
  {
   "cell_type": "markdown",
   "source": [
    "### Strip string columns"
   ],
   "metadata": {
    "collapsed": false,
    "pycharm": {
     "name": "#%% md\n"
    }
   }
  },
  {
   "cell_type": "code",
   "execution_count": 27,
   "outputs": [],
   "source": [
    "df_suicide2 = df_suicide2.apply(lambda x: x.str.strip() if x.dtype == \"object\" else x)"
   ],
   "metadata": {
    "collapsed": false,
    "pycharm": {
     "name": "#%%\n"
    }
   }
  },
  {
   "cell_type": "markdown",
   "source": [
    "Join with \"all_country_regions.csv\" to get regions data"
   ],
   "metadata": {
    "collapsed": false,
    "pycharm": {
     "name": "#%% md\n"
    }
   }
  },
  {
   "cell_type": "code",
   "execution_count": 28,
   "outputs": [],
   "source": [
    "#df_suicide2 = df_suicide2.merge(country_region[[\"Country\", \"CountryCode\", \"sub-region\"]], how=\"left\", on=\"Country\")\n",
    "#df_suicide2"
   ],
   "metadata": {
    "collapsed": false,
    "pycharm": {
     "name": "#%%\n"
    }
   }
  },
  {
   "cell_type": "markdown",
   "source": [
    "Countries with null in regional indicator"
   ],
   "metadata": {
    "collapsed": false,
    "pycharm": {
     "name": "#%% md\n"
    }
   }
  },
  {
   "cell_type": "code",
   "execution_count": 32,
   "outputs": [],
   "source": [
    "#len(df_suicide2.loc[df_suicide2[\"sub-region\"].isnull()][\"Country\"].unique())"
   ],
   "metadata": {
    "collapsed": false,
    "pycharm": {
     "name": "#%%\n"
    }
   }
  },
  {
   "cell_type": "code",
   "execution_count": 31,
   "outputs": [],
   "source": [
    "df_suicide2.to_csv(\"cleaned_data/suicide.csv\", index=False)"
   ],
   "metadata": {
    "collapsed": false,
    "pycharm": {
     "name": "#%%\n"
    }
   }
  },
  {
   "cell_type": "markdown",
   "source": [
    "## Suicide Rates dataset (2000 - 2019)\n",
    "#### Age-standardized suicide rate (per 100,000 population)"
   ],
   "metadata": {
    "collapsed": false,
    "pycharm": {
     "name": "#%% md\n"
    }
   }
  },
  {
   "cell_type": "code",
   "execution_count": 33,
   "outputs": [
    {
     "data": {
      "text/plain": "     IndicatorCode                                     Indicator ValueType  \\\n0       SDGSUICIDE  Crude suicide rates (per 100 000 population)      text   \n1       SDGSUICIDE  Crude suicide rates (per 100 000 population)      text   \n2       SDGSUICIDE  Crude suicide rates (per 100 000 population)      text   \n3       SDGSUICIDE  Crude suicide rates (per 100 000 population)      text   \n4       SDGSUICIDE  Crude suicide rates (per 100 000 population)      text   \n...            ...                                           ...       ...   \n4387    SDGSUICIDE  Crude suicide rates (per 100 000 population)      text   \n4388    SDGSUICIDE  Crude suicide rates (per 100 000 population)      text   \n4389    SDGSUICIDE  Crude suicide rates (per 100 000 population)      text   \n4390    SDGSUICIDE  Crude suicide rates (per 100 000 population)      text   \n4391    SDGSUICIDE  Crude suicide rates (per 100 000 population)      text   \n\n     ParentLocationCode ParentLocation Location type SpatialDimValueCode  \\\n0                   AMR       Americas       Country                 ATG   \n1                   AMR       Americas       Country                 ATG   \n2                   AMR       Americas       Country                 ATG   \n3                   AMR       Americas       Country                 ATG   \n4                   AMR       Americas       Country                 ATG   \n...                 ...            ...           ...                 ...   \n4387                AFR         Africa       Country                 BDI   \n4388                EUR         Europe       Country                 MKD   \n4389                EUR         Europe       Country                 LTU   \n4390                AFR         Africa       Country                 ETH   \n4391                AFR         Africa       Country                 TGO   \n\n                                       Location Period type  Period  ...  \\\n0                           Antigua and Barbuda        Year    2019  ...   \n1                           Antigua and Barbuda        Year    2019  ...   \n2                           Antigua and Barbuda        Year    2019  ...   \n3                           Antigua and Barbuda        Year    2019  ...   \n4                           Antigua and Barbuda        Year    2019  ...   \n...                                         ...         ...     ...  ...   \n4387                                    Burundi        Year    2019  ...   \n4388  The former Yugoslav Republic of Macedonia        Year    2019  ...   \n4389                                  Lithuania        Year    2019  ...   \n4390                                   Ethiopia        Year    2019  ...   \n4391                                       Togo        Year    2019  ...   \n\n      FactValueUoM FactValueNumericLowPrefix FactValueNumericLow  \\\n0              NaN                       NaN                 NaN   \n1              NaN                       NaN                 NaN   \n2              NaN                       NaN                 NaN   \n3              NaN                       NaN                 NaN   \n4              NaN                       NaN                 NaN   \n...            ...                       ...                 ...   \n4387           NaN                       NaN                 NaN   \n4388           NaN                       NaN                 NaN   \n4389           NaN                       NaN                 NaN   \n4390           NaN                       NaN                 NaN   \n4391           NaN                       NaN                 NaN   \n\n     FactValueNumericHighPrefix FactValueNumericHigh  Value  \\\n0                           NaN                  NaN   0.00   \n1                           NaN                  NaN   0.00   \n2                           NaN                  NaN   0.00   \n3                           NaN                  NaN   0.00   \n4                           NaN                  NaN   0.00   \n...                         ...                  ...    ...   \n4387                        NaN                  NaN  97.84   \n4388                        NaN                  NaN  98.13   \n4389                        NaN                  NaN  98.72   \n4390                        NaN                  NaN  99.05   \n4391                        NaN                  NaN  99.69   \n\n     FactValueTranslationID  FactComments  Language              DateModified  \n0                       NaN           NaN        EN  2021-07-06T07:00:00.000Z  \n1                       NaN           NaN        EN  2021-07-06T07:00:00.000Z  \n2                       NaN           NaN        EN  2021-07-06T07:00:00.000Z  \n3                       NaN           NaN        EN  2021-07-06T07:00:00.000Z  \n4                       NaN           NaN        EN  2021-07-06T07:00:00.000Z  \n...                     ...           ...       ...                       ...  \n4387                    NaN           NaN        EN  2021-07-06T07:00:00.000Z  \n4388                    NaN           NaN        EN  2021-07-06T07:00:00.000Z  \n4389                    NaN           NaN        EN  2021-07-06T07:00:00.000Z  \n4390                    NaN           NaN        EN  2021-07-06T07:00:00.000Z  \n4391                    NaN           NaN        EN  2021-07-06T07:00:00.000Z  \n\n[4392 rows x 34 columns]",
      "text/html": "<div>\n<style scoped>\n    .dataframe tbody tr th:only-of-type {\n        vertical-align: middle;\n    }\n\n    .dataframe tbody tr th {\n        vertical-align: top;\n    }\n\n    .dataframe thead th {\n        text-align: right;\n    }\n</style>\n<table border=\"1\" class=\"dataframe\">\n  <thead>\n    <tr style=\"text-align: right;\">\n      <th></th>\n      <th>IndicatorCode</th>\n      <th>Indicator</th>\n      <th>ValueType</th>\n      <th>ParentLocationCode</th>\n      <th>ParentLocation</th>\n      <th>Location type</th>\n      <th>SpatialDimValueCode</th>\n      <th>Location</th>\n      <th>Period type</th>\n      <th>Period</th>\n      <th>...</th>\n      <th>FactValueUoM</th>\n      <th>FactValueNumericLowPrefix</th>\n      <th>FactValueNumericLow</th>\n      <th>FactValueNumericHighPrefix</th>\n      <th>FactValueNumericHigh</th>\n      <th>Value</th>\n      <th>FactValueTranslationID</th>\n      <th>FactComments</th>\n      <th>Language</th>\n      <th>DateModified</th>\n    </tr>\n  </thead>\n  <tbody>\n    <tr>\n      <th>0</th>\n      <td>SDGSUICIDE</td>\n      <td>Crude suicide rates (per 100 000 population)</td>\n      <td>text</td>\n      <td>AMR</td>\n      <td>Americas</td>\n      <td>Country</td>\n      <td>ATG</td>\n      <td>Antigua and Barbuda</td>\n      <td>Year</td>\n      <td>2019</td>\n      <td>...</td>\n      <td>NaN</td>\n      <td>NaN</td>\n      <td>NaN</td>\n      <td>NaN</td>\n      <td>NaN</td>\n      <td>0.00</td>\n      <td>NaN</td>\n      <td>NaN</td>\n      <td>EN</td>\n      <td>2021-07-06T07:00:00.000Z</td>\n    </tr>\n    <tr>\n      <th>1</th>\n      <td>SDGSUICIDE</td>\n      <td>Crude suicide rates (per 100 000 population)</td>\n      <td>text</td>\n      <td>AMR</td>\n      <td>Americas</td>\n      <td>Country</td>\n      <td>ATG</td>\n      <td>Antigua and Barbuda</td>\n      <td>Year</td>\n      <td>2019</td>\n      <td>...</td>\n      <td>NaN</td>\n      <td>NaN</td>\n      <td>NaN</td>\n      <td>NaN</td>\n      <td>NaN</td>\n      <td>0.00</td>\n      <td>NaN</td>\n      <td>NaN</td>\n      <td>EN</td>\n      <td>2021-07-06T07:00:00.000Z</td>\n    </tr>\n    <tr>\n      <th>2</th>\n      <td>SDGSUICIDE</td>\n      <td>Crude suicide rates (per 100 000 population)</td>\n      <td>text</td>\n      <td>AMR</td>\n      <td>Americas</td>\n      <td>Country</td>\n      <td>ATG</td>\n      <td>Antigua and Barbuda</td>\n      <td>Year</td>\n      <td>2019</td>\n      <td>...</td>\n      <td>NaN</td>\n      <td>NaN</td>\n      <td>NaN</td>\n      <td>NaN</td>\n      <td>NaN</td>\n      <td>0.00</td>\n      <td>NaN</td>\n      <td>NaN</td>\n      <td>EN</td>\n      <td>2021-07-06T07:00:00.000Z</td>\n    </tr>\n    <tr>\n      <th>3</th>\n      <td>SDGSUICIDE</td>\n      <td>Crude suicide rates (per 100 000 population)</td>\n      <td>text</td>\n      <td>AMR</td>\n      <td>Americas</td>\n      <td>Country</td>\n      <td>ATG</td>\n      <td>Antigua and Barbuda</td>\n      <td>Year</td>\n      <td>2019</td>\n      <td>...</td>\n      <td>NaN</td>\n      <td>NaN</td>\n      <td>NaN</td>\n      <td>NaN</td>\n      <td>NaN</td>\n      <td>0.00</td>\n      <td>NaN</td>\n      <td>NaN</td>\n      <td>EN</td>\n      <td>2021-07-06T07:00:00.000Z</td>\n    </tr>\n    <tr>\n      <th>4</th>\n      <td>SDGSUICIDE</td>\n      <td>Crude suicide rates (per 100 000 population)</td>\n      <td>text</td>\n      <td>AMR</td>\n      <td>Americas</td>\n      <td>Country</td>\n      <td>ATG</td>\n      <td>Antigua and Barbuda</td>\n      <td>Year</td>\n      <td>2019</td>\n      <td>...</td>\n      <td>NaN</td>\n      <td>NaN</td>\n      <td>NaN</td>\n      <td>NaN</td>\n      <td>NaN</td>\n      <td>0.00</td>\n      <td>NaN</td>\n      <td>NaN</td>\n      <td>EN</td>\n      <td>2021-07-06T07:00:00.000Z</td>\n    </tr>\n    <tr>\n      <th>...</th>\n      <td>...</td>\n      <td>...</td>\n      <td>...</td>\n      <td>...</td>\n      <td>...</td>\n      <td>...</td>\n      <td>...</td>\n      <td>...</td>\n      <td>...</td>\n      <td>...</td>\n      <td>...</td>\n      <td>...</td>\n      <td>...</td>\n      <td>...</td>\n      <td>...</td>\n      <td>...</td>\n      <td>...</td>\n      <td>...</td>\n      <td>...</td>\n      <td>...</td>\n      <td>...</td>\n    </tr>\n    <tr>\n      <th>4387</th>\n      <td>SDGSUICIDE</td>\n      <td>Crude suicide rates (per 100 000 population)</td>\n      <td>text</td>\n      <td>AFR</td>\n      <td>Africa</td>\n      <td>Country</td>\n      <td>BDI</td>\n      <td>Burundi</td>\n      <td>Year</td>\n      <td>2019</td>\n      <td>...</td>\n      <td>NaN</td>\n      <td>NaN</td>\n      <td>NaN</td>\n      <td>NaN</td>\n      <td>NaN</td>\n      <td>97.84</td>\n      <td>NaN</td>\n      <td>NaN</td>\n      <td>EN</td>\n      <td>2021-07-06T07:00:00.000Z</td>\n    </tr>\n    <tr>\n      <th>4388</th>\n      <td>SDGSUICIDE</td>\n      <td>Crude suicide rates (per 100 000 population)</td>\n      <td>text</td>\n      <td>EUR</td>\n      <td>Europe</td>\n      <td>Country</td>\n      <td>MKD</td>\n      <td>The former Yugoslav Republic of Macedonia</td>\n      <td>Year</td>\n      <td>2019</td>\n      <td>...</td>\n      <td>NaN</td>\n      <td>NaN</td>\n      <td>NaN</td>\n      <td>NaN</td>\n      <td>NaN</td>\n      <td>98.13</td>\n      <td>NaN</td>\n      <td>NaN</td>\n      <td>EN</td>\n      <td>2021-07-06T07:00:00.000Z</td>\n    </tr>\n    <tr>\n      <th>4389</th>\n      <td>SDGSUICIDE</td>\n      <td>Crude suicide rates (per 100 000 population)</td>\n      <td>text</td>\n      <td>EUR</td>\n      <td>Europe</td>\n      <td>Country</td>\n      <td>LTU</td>\n      <td>Lithuania</td>\n      <td>Year</td>\n      <td>2019</td>\n      <td>...</td>\n      <td>NaN</td>\n      <td>NaN</td>\n      <td>NaN</td>\n      <td>NaN</td>\n      <td>NaN</td>\n      <td>98.72</td>\n      <td>NaN</td>\n      <td>NaN</td>\n      <td>EN</td>\n      <td>2021-07-06T07:00:00.000Z</td>\n    </tr>\n    <tr>\n      <th>4390</th>\n      <td>SDGSUICIDE</td>\n      <td>Crude suicide rates (per 100 000 population)</td>\n      <td>text</td>\n      <td>AFR</td>\n      <td>Africa</td>\n      <td>Country</td>\n      <td>ETH</td>\n      <td>Ethiopia</td>\n      <td>Year</td>\n      <td>2019</td>\n      <td>...</td>\n      <td>NaN</td>\n      <td>NaN</td>\n      <td>NaN</td>\n      <td>NaN</td>\n      <td>NaN</td>\n      <td>99.05</td>\n      <td>NaN</td>\n      <td>NaN</td>\n      <td>EN</td>\n      <td>2021-07-06T07:00:00.000Z</td>\n    </tr>\n    <tr>\n      <th>4391</th>\n      <td>SDGSUICIDE</td>\n      <td>Crude suicide rates (per 100 000 population)</td>\n      <td>text</td>\n      <td>AFR</td>\n      <td>Africa</td>\n      <td>Country</td>\n      <td>TGO</td>\n      <td>Togo</td>\n      <td>Year</td>\n      <td>2019</td>\n      <td>...</td>\n      <td>NaN</td>\n      <td>NaN</td>\n      <td>NaN</td>\n      <td>NaN</td>\n      <td>NaN</td>\n      <td>99.69</td>\n      <td>NaN</td>\n      <td>NaN</td>\n      <td>EN</td>\n      <td>2021-07-06T07:00:00.000Z</td>\n    </tr>\n  </tbody>\n</table>\n<p>4392 rows × 34 columns</p>\n</div>"
     },
     "execution_count": 33,
     "metadata": {},
     "output_type": "execute_result"
    }
   ],
   "source": [
    "df_csuicide = pd.read_csv('Crude Suuicide rates WHO.csv')\n",
    "df_csuicide"
   ],
   "metadata": {
    "collapsed": false,
    "pycharm": {
     "name": "#%%\n"
    }
   }
  },
  {
   "cell_type": "code",
   "execution_count": 34,
   "outputs": [
    {
     "name": "stderr",
     "output_type": "stream",
     "text": [
      "<ipython-input-34-8345bdc70238>:9: SettingWithCopyWarning: \n",
      "A value is trying to be set on a copy of a slice from a DataFrame.\n",
      "Try using .loc[row_indexer,col_indexer] = value instead\n",
      "\n",
      "See the caveats in the documentation: https://pandas.pydata.org/pandas-docs/stable/user_guide/indexing.html#returning-a-view-versus-a-copy\n",
      "  df_csuicide[\"Country\"] = coco.convert(names = df_csuicide[\"Country\"], to=\"name_short\")\n"
     ]
    },
    {
     "data": {
      "text/plain": "      Year              Country CountryCode ParentCountry ParentCountryCode  \\\n0     2019  Antigua and Barbuda         ATG      Americas               AMR   \n1     2019  Antigua and Barbuda         ATG      Americas               AMR   \n2     2019  Antigua and Barbuda         ATG      Americas               AMR   \n3     2019  Antigua and Barbuda         ATG      Americas               AMR   \n4     2019  Antigua and Barbuda         ATG      Americas               AMR   \n...    ...                  ...         ...           ...               ...   \n4387  2019              Burundi         BDI        Africa               AFR   \n4388  2019            Macedonia         MKD        Europe               EUR   \n4389  2019            Lithuania         LTU        Europe               EUR   \n4390  2019             Ethiopia         ETH        Africa               AFR   \n4391  2019                 Togo         TGO        Africa               AFR   \n\n             Sex SexCode     AgeGroup AgeGroupCode  SuicideRate  \n0     Both sexes    BTSX  15-24 years   YEARS15-24         0.00  \n1     Both sexes    BTSX  25-34 years   YEARS25-34         0.00  \n2     Both sexes    BTSX  35-44 years   YEARS35-44         0.00  \n3     Both sexes    BTSX  45-54 years   YEARS45-54         0.00  \n4     Both sexes    BTSX  65-74 years   YEARS65-74         0.00  \n...          ...     ...          ...          ...          ...  \n4387        Male     MLE  75-84 years   YEARS75-84        97.84  \n4388        Male     MLE    85+ years  YEARS85PLUS        98.13  \n4389        Male     MLE    85+ years  YEARS85PLUS        98.72  \n4390        Male     MLE  75-84 years   YEARS75-84        99.05  \n4391      Female    FMLE    85+ years  YEARS85PLUS        99.69  \n\n[4392 rows x 10 columns]",
      "text/html": "<div>\n<style scoped>\n    .dataframe tbody tr th:only-of-type {\n        vertical-align: middle;\n    }\n\n    .dataframe tbody tr th {\n        vertical-align: top;\n    }\n\n    .dataframe thead th {\n        text-align: right;\n    }\n</style>\n<table border=\"1\" class=\"dataframe\">\n  <thead>\n    <tr style=\"text-align: right;\">\n      <th></th>\n      <th>Year</th>\n      <th>Country</th>\n      <th>CountryCode</th>\n      <th>ParentCountry</th>\n      <th>ParentCountryCode</th>\n      <th>Sex</th>\n      <th>SexCode</th>\n      <th>AgeGroup</th>\n      <th>AgeGroupCode</th>\n      <th>SuicideRate</th>\n    </tr>\n  </thead>\n  <tbody>\n    <tr>\n      <th>0</th>\n      <td>2019</td>\n      <td>Antigua and Barbuda</td>\n      <td>ATG</td>\n      <td>Americas</td>\n      <td>AMR</td>\n      <td>Both sexes</td>\n      <td>BTSX</td>\n      <td>15-24 years</td>\n      <td>YEARS15-24</td>\n      <td>0.00</td>\n    </tr>\n    <tr>\n      <th>1</th>\n      <td>2019</td>\n      <td>Antigua and Barbuda</td>\n      <td>ATG</td>\n      <td>Americas</td>\n      <td>AMR</td>\n      <td>Both sexes</td>\n      <td>BTSX</td>\n      <td>25-34 years</td>\n      <td>YEARS25-34</td>\n      <td>0.00</td>\n    </tr>\n    <tr>\n      <th>2</th>\n      <td>2019</td>\n      <td>Antigua and Barbuda</td>\n      <td>ATG</td>\n      <td>Americas</td>\n      <td>AMR</td>\n      <td>Both sexes</td>\n      <td>BTSX</td>\n      <td>35-44 years</td>\n      <td>YEARS35-44</td>\n      <td>0.00</td>\n    </tr>\n    <tr>\n      <th>3</th>\n      <td>2019</td>\n      <td>Antigua and Barbuda</td>\n      <td>ATG</td>\n      <td>Americas</td>\n      <td>AMR</td>\n      <td>Both sexes</td>\n      <td>BTSX</td>\n      <td>45-54 years</td>\n      <td>YEARS45-54</td>\n      <td>0.00</td>\n    </tr>\n    <tr>\n      <th>4</th>\n      <td>2019</td>\n      <td>Antigua and Barbuda</td>\n      <td>ATG</td>\n      <td>Americas</td>\n      <td>AMR</td>\n      <td>Both sexes</td>\n      <td>BTSX</td>\n      <td>65-74 years</td>\n      <td>YEARS65-74</td>\n      <td>0.00</td>\n    </tr>\n    <tr>\n      <th>...</th>\n      <td>...</td>\n      <td>...</td>\n      <td>...</td>\n      <td>...</td>\n      <td>...</td>\n      <td>...</td>\n      <td>...</td>\n      <td>...</td>\n      <td>...</td>\n      <td>...</td>\n    </tr>\n    <tr>\n      <th>4387</th>\n      <td>2019</td>\n      <td>Burundi</td>\n      <td>BDI</td>\n      <td>Africa</td>\n      <td>AFR</td>\n      <td>Male</td>\n      <td>MLE</td>\n      <td>75-84 years</td>\n      <td>YEARS75-84</td>\n      <td>97.84</td>\n    </tr>\n    <tr>\n      <th>4388</th>\n      <td>2019</td>\n      <td>Macedonia</td>\n      <td>MKD</td>\n      <td>Europe</td>\n      <td>EUR</td>\n      <td>Male</td>\n      <td>MLE</td>\n      <td>85+ years</td>\n      <td>YEARS85PLUS</td>\n      <td>98.13</td>\n    </tr>\n    <tr>\n      <th>4389</th>\n      <td>2019</td>\n      <td>Lithuania</td>\n      <td>LTU</td>\n      <td>Europe</td>\n      <td>EUR</td>\n      <td>Male</td>\n      <td>MLE</td>\n      <td>85+ years</td>\n      <td>YEARS85PLUS</td>\n      <td>98.72</td>\n    </tr>\n    <tr>\n      <th>4390</th>\n      <td>2019</td>\n      <td>Ethiopia</td>\n      <td>ETH</td>\n      <td>Africa</td>\n      <td>AFR</td>\n      <td>Male</td>\n      <td>MLE</td>\n      <td>75-84 years</td>\n      <td>YEARS75-84</td>\n      <td>99.05</td>\n    </tr>\n    <tr>\n      <th>4391</th>\n      <td>2019</td>\n      <td>Togo</td>\n      <td>TGO</td>\n      <td>Africa</td>\n      <td>AFR</td>\n      <td>Female</td>\n      <td>FMLE</td>\n      <td>85+ years</td>\n      <td>YEARS85PLUS</td>\n      <td>99.69</td>\n    </tr>\n  </tbody>\n</table>\n<p>4392 rows × 10 columns</p>\n</div>"
     },
     "execution_count": 34,
     "metadata": {},
     "output_type": "execute_result"
    }
   ],
   "source": [
    "df_csuicide = df_csuicide[[\"Period\", \"Location\", \"SpatialDimValueCode\", \"ParentLocation\", \"ParentLocationCode\",\n",
    "                          \"Dim1\", \"Dim1ValueCode\", \"Dim2\", \"Dim2ValueCode\", \"FactValueNumeric\"]]\n",
    "\n",
    "df_csuicide.columns = [\"Year\", \"Country\", \"CountryCode\", \"ParentCountry\", \"ParentCountryCode\",\n",
    "                       \"Sex\", \"SexCode\", \"AgeGroup\", \"AgeGroupCode\", \"SuicideRate\"]\n",
    "\n",
    "df_csuicide.apply(lambda x: x.str.strip() if x.dtype == \"object\" else x)\n",
    "\n",
    "df_csuicide[\"Country\"] = coco.convert(names = df_csuicide[\"Country\"], to=\"name_short\")\n",
    "df_csuicide"
   ],
   "metadata": {
    "collapsed": false,
    "pycharm": {
     "name": "#%%\n"
    }
   }
  },
  {
   "cell_type": "code",
   "execution_count": 35,
   "outputs": [
    {
     "data": {
      "text/plain": "Year                 0\nCountry              0\nCountryCode          0\nParentCountry        0\nParentCountryCode    0\nSex                  0\nSexCode              0\nAgeGroup             0\nAgeGroupCode         0\nSuicideRate          0\ndtype: int64"
     },
     "execution_count": 35,
     "metadata": {},
     "output_type": "execute_result"
    }
   ],
   "source": [
    "df_csuicide.isnull().sum()"
   ],
   "metadata": {
    "collapsed": false,
    "pycharm": {
     "name": "#%%\n"
    }
   }
  },
  {
   "cell_type": "code",
   "execution_count": 52,
   "outputs": [],
   "source": [
    "df_csuicide.to_csv(\"cleaned_data/crude_suicide.csv\", index=False)"
   ],
   "metadata": {
    "collapsed": false,
    "pycharm": {
     "name": "#%%\n"
    }
   }
  },
  {
   "cell_type": "markdown",
   "source": [
    "## Mortality data\n",
    "### File name: 'MortalityDataWHR2021C2CSV.csv'\n",
    "link: https://worldhappiness.report/ed/2021/#appendices-and-data\n",
    "\n",
    "- Population data (2019-2020)\n",
    "- All-cause of death (2017-2020)"
   ],
   "metadata": {
    "collapsed": false,
    "pycharm": {
     "name": "#%% md\n"
    }
   }
  },
  {
   "cell_type": "code",
   "execution_count": 36,
   "outputs": [],
   "source": [
    "df_morta = pd.read_csv(\"MortalityDataWHR2021C2CSV.csv\")\n",
    "df_morta[\"Country name\"] = df_morta[\"Country name\"].str.strip()\n",
    "df_morta = df_morta.rename(columns={\"Country name\":\"Country\"})\n",
    "df_morta[\"Country\"] = coco.convert(names = df_morta[\"Country\"], to=\"name_short\")"
   ],
   "metadata": {
    "collapsed": false,
    "pycharm": {
     "name": "#%%\n"
    }
   }
  },
  {
   "cell_type": "markdown",
   "source": [
    "### Population dataset"
   ],
   "metadata": {
    "collapsed": false,
    "pycharm": {
     "name": "#%% md\n"
    }
   }
  },
  {
   "cell_type": "code",
   "execution_count": 44,
   "outputs": [
    {
     "data": {
      "text/plain": "Country       0\nYear          0\nPopulation    4\ndtype: int64"
     },
     "execution_count": 44,
     "metadata": {},
     "output_type": "execute_result"
    }
   ],
   "source": [
    "population = df_morta[['Country', 'Population 2020', 'Population 2019']]\n",
    "population_t = pd.melt(population[:-1],\n",
    "        id_vars=\"Country\",\n",
    "        value_vars = list(population.columns[1:]),\n",
    "        var_name='Year',\n",
    "        value_name='Population')\n",
    "\n",
    "#population_t = population_t.apply(lambda x: x.str.strip() if x.dtype == \"object\" else x)\n",
    "\n",
    "population_t[\"Year\"] = population_t[\"Year\"].apply(lambda x: x.strip().replace(\"Population \", \"\")).astype(\"int64\")\n",
    "\n",
    "#population_t = population_t.merge(country_region[[\"Country\", \"CountryCode\", \"sub-region\"]], how=\"left\", on=\"Country\")\n",
    "population_t.isnull().sum()"
   ],
   "metadata": {
    "collapsed": false,
    "pycharm": {
     "name": "#%%\n"
    }
   }
  },
  {
   "cell_type": "code",
   "execution_count": 45,
   "outputs": [],
   "source": [
    "population_t.to_csv(\"cleaned_data/population.csv\", index=False)"
   ],
   "metadata": {
    "collapsed": false,
    "pycharm": {
     "name": "#%%\n"
    }
   }
  },
  {
   "cell_type": "markdown",
   "source": [
    "### All cause of death dataset"
   ],
   "metadata": {
    "collapsed": false,
    "pycharm": {
     "name": "#%% md\n"
    }
   }
  },
  {
   "cell_type": "code",
   "execution_count": 46,
   "outputs": [
    {
     "data": {
      "text/plain": "Country      0\nYear         0\ncount      404\ndtype: int64"
     },
     "execution_count": 46,
     "metadata": {},
     "output_type": "execute_result"
    }
   ],
   "source": [
    "all_cause_death = df_morta[[\"Country\", \"All-cause death count, 2017\", \"All-cause death count, 2018\",\n",
    "                         \"All-cause death count, 2019\", \"All-cause death count, 2020\"]]\n",
    "all_cause_death_t = pd.melt(all_cause_death[:-1],\n",
    "                        id_vars=\"Country\",\n",
    "                        value_vars = list(all_cause_death.columns[1:]),\n",
    "                        var_name='Year',\n",
    "                        value_name='count')\n",
    "\n",
    "all_cause_death_t[\"Year\"] = all_cause_death_t[\"Year\"].apply(lambda x: x.strip().replace(\"All-cause death count, \", \"\")).astype(\"int64\")\n",
    "all_cause_death_t"
   ],
   "metadata": {
    "collapsed": false,
    "pycharm": {
     "name": "#%%\n"
    }
   }
  },
  {
   "cell_type": "code",
   "execution_count": null,
   "outputs": [],
   "source": [
    "all_cause_death_t.isnull().sum()"
   ],
   "metadata": {
    "collapsed": false,
    "pycharm": {
     "name": "#%%\n"
    }
   }
  },
  {
   "cell_type": "code",
   "execution_count": 47,
   "outputs": [],
   "source": [
    "all_cause_death_t.to_csv(\"cleaned_data/all_cause_death.csv\", index=False)"
   ],
   "metadata": {
    "collapsed": false,
    "pycharm": {
     "name": "#%%\n"
    }
   }
  },
  {
   "cell_type": "markdown",
   "source": [
    "### Other features from the mortality dataset"
   ],
   "metadata": {
    "collapsed": false,
    "pycharm": {
     "name": "#%% md\n"
    }
   }
  },
  {
   "cell_type": "code",
   "execution_count": 48,
   "outputs": [
    {
     "data": {
      "text/plain": "           Country  Median age  Island  Female head of government  \\\n0    United States        38.3       0                          0   \n1            Egypt        25.3       0                          0   \n2          Morocco        29.6       0                          0   \n3          Lebanon        31.1       0                          0   \n4     Saudi Arabia        31.9       0                          0   \n..             ...         ...     ...                        ...   \n161          Yemen        20.3       0                          0   \n162         Kosovo        35.0       0                          1   \n163        Somalia         NaN       0                          0   \n164         Cyprus         NaN       0                          0   \n165    South Sudan        19.2       0                          0   \n\n     Index of institutional trust  Gini coefficient of income  \\\n0                           0.250                       47.51   \n1                           0.446                       31.56   \n2                           0.397                       39.55   \n3                           0.107                       31.83   \n4                           0.651                       45.90   \n..                            ...                         ...   \n161                         0.267                       36.71   \n162                         0.169                       29.01   \n163                           NaN                         NaN   \n164                         0.305                         NaN   \n165                         0.179                       46.34   \n\n     Index of exposure to COVID-19  infections in other countries as of March 31  \\\n0                                                1.688                             \n1                                                1.627                             \n2                                                2.336                             \n3                                                1.891                             \n4                                                1.250                             \n..                                                 ...                             \n161                                              1.005                             \n162                                              3.134                             \n163                                                NaN                             \n164                                                NaN                             \n165                                              1.076                             \n\n     COVID-19 deaths per 100,000 population in 2020  \n0                                           104.451  \n1                                             7.457  \n2                                            20.016  \n3                                            21.508  \n4                                            17.875  \n..                                              ...  \n161                                           2.045  \n162                                          68.916  \n163                                             NaN  \n164                                             NaN  \n165                                           0.563  \n\n[166 rows x 8 columns]",
      "text/html": "<div>\n<style scoped>\n    .dataframe tbody tr th:only-of-type {\n        vertical-align: middle;\n    }\n\n    .dataframe tbody tr th {\n        vertical-align: top;\n    }\n\n    .dataframe thead th {\n        text-align: right;\n    }\n</style>\n<table border=\"1\" class=\"dataframe\">\n  <thead>\n    <tr style=\"text-align: right;\">\n      <th></th>\n      <th>Country</th>\n      <th>Median age</th>\n      <th>Island</th>\n      <th>Female head of government</th>\n      <th>Index of institutional trust</th>\n      <th>Gini coefficient of income</th>\n      <th>Index of exposure to COVID-19  infections in other countries as of March 31</th>\n      <th>COVID-19 deaths per 100,000 population in 2020</th>\n    </tr>\n  </thead>\n  <tbody>\n    <tr>\n      <th>0</th>\n      <td>United States</td>\n      <td>38.3</td>\n      <td>0</td>\n      <td>0</td>\n      <td>0.250</td>\n      <td>47.51</td>\n      <td>1.688</td>\n      <td>104.451</td>\n    </tr>\n    <tr>\n      <th>1</th>\n      <td>Egypt</td>\n      <td>25.3</td>\n      <td>0</td>\n      <td>0</td>\n      <td>0.446</td>\n      <td>31.56</td>\n      <td>1.627</td>\n      <td>7.457</td>\n    </tr>\n    <tr>\n      <th>2</th>\n      <td>Morocco</td>\n      <td>29.6</td>\n      <td>0</td>\n      <td>0</td>\n      <td>0.397</td>\n      <td>39.55</td>\n      <td>2.336</td>\n      <td>20.016</td>\n    </tr>\n    <tr>\n      <th>3</th>\n      <td>Lebanon</td>\n      <td>31.1</td>\n      <td>0</td>\n      <td>0</td>\n      <td>0.107</td>\n      <td>31.83</td>\n      <td>1.891</td>\n      <td>21.508</td>\n    </tr>\n    <tr>\n      <th>4</th>\n      <td>Saudi Arabia</td>\n      <td>31.9</td>\n      <td>0</td>\n      <td>0</td>\n      <td>0.651</td>\n      <td>45.90</td>\n      <td>1.250</td>\n      <td>17.875</td>\n    </tr>\n    <tr>\n      <th>...</th>\n      <td>...</td>\n      <td>...</td>\n      <td>...</td>\n      <td>...</td>\n      <td>...</td>\n      <td>...</td>\n      <td>...</td>\n      <td>...</td>\n    </tr>\n    <tr>\n      <th>161</th>\n      <td>Yemen</td>\n      <td>20.3</td>\n      <td>0</td>\n      <td>0</td>\n      <td>0.267</td>\n      <td>36.71</td>\n      <td>1.005</td>\n      <td>2.045</td>\n    </tr>\n    <tr>\n      <th>162</th>\n      <td>Kosovo</td>\n      <td>35.0</td>\n      <td>0</td>\n      <td>1</td>\n      <td>0.169</td>\n      <td>29.01</td>\n      <td>3.134</td>\n      <td>68.916</td>\n    </tr>\n    <tr>\n      <th>163</th>\n      <td>Somalia</td>\n      <td>NaN</td>\n      <td>0</td>\n      <td>0</td>\n      <td>NaN</td>\n      <td>NaN</td>\n      <td>NaN</td>\n      <td>NaN</td>\n    </tr>\n    <tr>\n      <th>164</th>\n      <td>Cyprus</td>\n      <td>NaN</td>\n      <td>0</td>\n      <td>0</td>\n      <td>0.305</td>\n      <td>NaN</td>\n      <td>NaN</td>\n      <td>NaN</td>\n    </tr>\n    <tr>\n      <th>165</th>\n      <td>South Sudan</td>\n      <td>19.2</td>\n      <td>0</td>\n      <td>0</td>\n      <td>0.179</td>\n      <td>46.34</td>\n      <td>1.076</td>\n      <td>0.563</td>\n    </tr>\n  </tbody>\n</table>\n<p>166 rows × 8 columns</p>\n</div>"
     },
     "execution_count": 48,
     "metadata": {},
     "output_type": "execute_result"
    }
   ],
   "source": [
    "morta_other_features = df_morta[[\"Country\", \"Median age\", \"Island\", \"Female head of government\",\n",
    "                        \"Index of institutional trust\", \"Gini coefficient of income\",\n",
    "                        \"Index of exposure to COVID-19  infections in other countries as of March 31\",\n",
    "                        \"COVID-19 deaths per 100,000 population in 2020\"]]\n",
    "morta_other_features"
   ],
   "metadata": {
    "collapsed": false,
    "pycharm": {
     "name": "#%%\n"
    }
   }
  },
  {
   "cell_type": "code",
   "execution_count": 50,
   "outputs": [
    {
     "data": {
      "text/plain": "Country                                                                        0\nMedian age                                                                     3\nIsland                                                                         0\nFemale head of government                                                      0\nIndex of institutional trust                                                   1\nGini coefficient of income                                                     2\nIndex of exposure to COVID-19  infections in other countries as of March 31    2\nCOVID-19 deaths per 100,000 population in 2020                                 3\ndtype: int64"
     },
     "execution_count": 50,
     "metadata": {},
     "output_type": "execute_result"
    }
   ],
   "source": [
    "morta_other_features.isnull().sum()"
   ],
   "metadata": {
    "collapsed": false,
    "pycharm": {
     "name": "#%%\n"
    }
   }
  },
  {
   "cell_type": "code",
   "execution_count": 51,
   "outputs": [],
   "source": [
    "morta_other_features.to_csv(\"cleaned_data/mortality_other.csv\", index=False)\n"
   ],
   "metadata": {
    "collapsed": false,
    "pycharm": {
     "name": "#%%\n"
    }
   }
  },
  {
   "cell_type": "code",
   "execution_count": null,
   "outputs": [],
   "source": [],
   "metadata": {
    "collapsed": false,
    "pycharm": {
     "name": "#%%\n"
    }
   }
  }
 ],
 "metadata": {
  "kernelspec": {
   "display_name": "Python 3",
   "language": "python",
   "name": "python3"
  },
  "language_info": {
   "codemirror_mode": {
    "name": "ipython",
    "version": 2
   },
   "file_extension": ".py",
   "mimetype": "text/x-python",
   "name": "python",
   "nbconvert_exporter": "python",
   "pygments_lexer": "ipython2",
   "version": "2.7.6"
  }
 },
 "nbformat": 4,
 "nbformat_minor": 0
}