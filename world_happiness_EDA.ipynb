{
 "cells": [
  {
   "cell_type": "code",
   "execution_count": 48,
   "outputs": [],
   "source": [
    "import pandas as pd\n"
   ],
   "metadata": {
    "collapsed": false,
    "pycharm": {
     "name": "#%%\n"
    }
   }
  },
  {
   "cell_type": "markdown",
   "source": [
    "## Happiness dataset (2008 - 2020)\n",
    "### File name: 'HappinessDataPanelWHR2021C2.csv'\n",
    "link: https://worldhappiness.report/ed/2021/#appendices-and-data"
   ],
   "metadata": {
    "collapsed": false,
    "pycharm": {
     "name": "#%% md\n"
    }
   }
  },
  {
   "cell_type": "code",
   "source": [
    "df_happiness = pd.read_csv(\"HappinessDataPanelWHR2021C2.csv\")\n",
    "df_happiness"
   ],
   "metadata": {
    "collapsed": false,
    "pycharm": {
     "name": "#%%\n"
    }
   },
   "execution_count": 49,
   "outputs": [
    {
     "data": {
      "text/plain": "     Country name  year  Life Ladder  Log GDP per capita  Social support  \\\n0     Afghanistan  2008        3.724               7.370           0.451   \n1     Afghanistan  2009        4.402               7.540           0.552   \n2     Afghanistan  2010        4.758               7.647           0.539   \n3     Afghanistan  2011        3.832               7.620           0.521   \n4     Afghanistan  2012        3.783               7.705           0.521   \n...           ...   ...          ...                 ...             ...   \n1944     Zimbabwe  2016        3.735               7.984           0.768   \n1945     Zimbabwe  2017        3.638               8.016           0.754   \n1946     Zimbabwe  2018        3.616               8.049           0.775   \n1947     Zimbabwe  2019        2.694               7.950           0.759   \n1948     Zimbabwe  2020        3.160               7.829           0.717   \n\n      Healthy life expectancy at birth  Freedom to make life choices  \\\n0                                50.80                         0.718   \n1                                51.20                         0.679   \n2                                51.60                         0.600   \n3                                51.92                         0.496   \n4                                52.24                         0.531   \n...                                ...                           ...   \n1944                             54.40                         0.733   \n1945                             55.00                         0.753   \n1946                             55.60                         0.763   \n1947                             56.20                         0.632   \n1948                             56.80                         0.643   \n\n      Generosity  Perceptions of corruption  Positive affect  Negative affect  \n0          0.168                      0.882            0.518            0.258  \n1          0.190                      0.850            0.584            0.237  \n2          0.121                      0.707            0.618            0.275  \n3          0.162                      0.731            0.611            0.267  \n4          0.236                      0.776            0.710            0.268  \n...          ...                        ...              ...              ...  \n1944      -0.095                      0.724            0.738            0.209  \n1945      -0.098                      0.751            0.806            0.224  \n1946      -0.068                      0.844            0.710            0.212  \n1947      -0.064                      0.831            0.716            0.235  \n1948      -0.009                      0.789            0.703            0.346  \n\n[1949 rows x 11 columns]",
      "text/html": "<div>\n<style scoped>\n    .dataframe tbody tr th:only-of-type {\n        vertical-align: middle;\n    }\n\n    .dataframe tbody tr th {\n        vertical-align: top;\n    }\n\n    .dataframe thead th {\n        text-align: right;\n    }\n</style>\n<table border=\"1\" class=\"dataframe\">\n  <thead>\n    <tr style=\"text-align: right;\">\n      <th></th>\n      <th>Country name</th>\n      <th>year</th>\n      <th>Life Ladder</th>\n      <th>Log GDP per capita</th>\n      <th>Social support</th>\n      <th>Healthy life expectancy at birth</th>\n      <th>Freedom to make life choices</th>\n      <th>Generosity</th>\n      <th>Perceptions of corruption</th>\n      <th>Positive affect</th>\n      <th>Negative affect</th>\n    </tr>\n  </thead>\n  <tbody>\n    <tr>\n      <th>0</th>\n      <td>Afghanistan</td>\n      <td>2008</td>\n      <td>3.724</td>\n      <td>7.370</td>\n      <td>0.451</td>\n      <td>50.80</td>\n      <td>0.718</td>\n      <td>0.168</td>\n      <td>0.882</td>\n      <td>0.518</td>\n      <td>0.258</td>\n    </tr>\n    <tr>\n      <th>1</th>\n      <td>Afghanistan</td>\n      <td>2009</td>\n      <td>4.402</td>\n      <td>7.540</td>\n      <td>0.552</td>\n      <td>51.20</td>\n      <td>0.679</td>\n      <td>0.190</td>\n      <td>0.850</td>\n      <td>0.584</td>\n      <td>0.237</td>\n    </tr>\n    <tr>\n      <th>2</th>\n      <td>Afghanistan</td>\n      <td>2010</td>\n      <td>4.758</td>\n      <td>7.647</td>\n      <td>0.539</td>\n      <td>51.60</td>\n      <td>0.600</td>\n      <td>0.121</td>\n      <td>0.707</td>\n      <td>0.618</td>\n      <td>0.275</td>\n    </tr>\n    <tr>\n      <th>3</th>\n      <td>Afghanistan</td>\n      <td>2011</td>\n      <td>3.832</td>\n      <td>7.620</td>\n      <td>0.521</td>\n      <td>51.92</td>\n      <td>0.496</td>\n      <td>0.162</td>\n      <td>0.731</td>\n      <td>0.611</td>\n      <td>0.267</td>\n    </tr>\n    <tr>\n      <th>4</th>\n      <td>Afghanistan</td>\n      <td>2012</td>\n      <td>3.783</td>\n      <td>7.705</td>\n      <td>0.521</td>\n      <td>52.24</td>\n      <td>0.531</td>\n      <td>0.236</td>\n      <td>0.776</td>\n      <td>0.710</td>\n      <td>0.268</td>\n    </tr>\n    <tr>\n      <th>...</th>\n      <td>...</td>\n      <td>...</td>\n      <td>...</td>\n      <td>...</td>\n      <td>...</td>\n      <td>...</td>\n      <td>...</td>\n      <td>...</td>\n      <td>...</td>\n      <td>...</td>\n      <td>...</td>\n    </tr>\n    <tr>\n      <th>1944</th>\n      <td>Zimbabwe</td>\n      <td>2016</td>\n      <td>3.735</td>\n      <td>7.984</td>\n      <td>0.768</td>\n      <td>54.40</td>\n      <td>0.733</td>\n      <td>-0.095</td>\n      <td>0.724</td>\n      <td>0.738</td>\n      <td>0.209</td>\n    </tr>\n    <tr>\n      <th>1945</th>\n      <td>Zimbabwe</td>\n      <td>2017</td>\n      <td>3.638</td>\n      <td>8.016</td>\n      <td>0.754</td>\n      <td>55.00</td>\n      <td>0.753</td>\n      <td>-0.098</td>\n      <td>0.751</td>\n      <td>0.806</td>\n      <td>0.224</td>\n    </tr>\n    <tr>\n      <th>1946</th>\n      <td>Zimbabwe</td>\n      <td>2018</td>\n      <td>3.616</td>\n      <td>8.049</td>\n      <td>0.775</td>\n      <td>55.60</td>\n      <td>0.763</td>\n      <td>-0.068</td>\n      <td>0.844</td>\n      <td>0.710</td>\n      <td>0.212</td>\n    </tr>\n    <tr>\n      <th>1947</th>\n      <td>Zimbabwe</td>\n      <td>2019</td>\n      <td>2.694</td>\n      <td>7.950</td>\n      <td>0.759</td>\n      <td>56.20</td>\n      <td>0.632</td>\n      <td>-0.064</td>\n      <td>0.831</td>\n      <td>0.716</td>\n      <td>0.235</td>\n    </tr>\n    <tr>\n      <th>1948</th>\n      <td>Zimbabwe</td>\n      <td>2020</td>\n      <td>3.160</td>\n      <td>7.829</td>\n      <td>0.717</td>\n      <td>56.80</td>\n      <td>0.643</td>\n      <td>-0.009</td>\n      <td>0.789</td>\n      <td>0.703</td>\n      <td>0.346</td>\n    </tr>\n  </tbody>\n</table>\n<p>1949 rows × 11 columns</p>\n</div>"
     },
     "execution_count": 49,
     "metadata": {},
     "output_type": "execute_result"
    }
   ]
  },
  {
   "cell_type": "markdown",
   "source": [
    "## Suicide Rates dataset (2000 - 2019)\n",
    "### File name: 'Suicide rates WHO.csv', 'Crude Suuicide Rates WHO.csv'\n",
    "link: https://www.who.int/data/gho/data/themes/mental-health/suicide-rates"
   ],
   "metadata": {
    "collapsed": false,
    "pycharm": {
     "name": "#%% md\n"
    }
   }
  },
  {
   "cell_type": "code",
   "execution_count": 42,
   "outputs": [
    {
     "data": {
      "text/plain": "                  Location  Period        Dim1  FactValueNumeric\n0      Antigua and Barbuda    2019        Male              0.00\n1                 Barbados    2019      Female              0.16\n2                 Barbados    2019  Both sexes              0.31\n3      Antigua and Barbuda    2019  Both sexes              0.32\n4                 Barbados    2019        Male              0.49\n...                    ...     ...         ...               ...\n10975               Guinea    2000  Both sexes              9.73\n10976                Ghana    2000  Both sexes              9.75\n10977                Malta    2000        Male              9.75\n10978           Seychelles    2000  Both sexes              9.76\n10979           Montenegro    2000      Female              9.82\n\n[10980 rows x 4 columns]",
      "text/html": "<div>\n<style scoped>\n    .dataframe tbody tr th:only-of-type {\n        vertical-align: middle;\n    }\n\n    .dataframe tbody tr th {\n        vertical-align: top;\n    }\n\n    .dataframe thead th {\n        text-align: right;\n    }\n</style>\n<table border=\"1\" class=\"dataframe\">\n  <thead>\n    <tr style=\"text-align: right;\">\n      <th></th>\n      <th>Location</th>\n      <th>Period</th>\n      <th>Dim1</th>\n      <th>FactValueNumeric</th>\n    </tr>\n  </thead>\n  <tbody>\n    <tr>\n      <th>0</th>\n      <td>Antigua and Barbuda</td>\n      <td>2019</td>\n      <td>Male</td>\n      <td>0.00</td>\n    </tr>\n    <tr>\n      <th>1</th>\n      <td>Barbados</td>\n      <td>2019</td>\n      <td>Female</td>\n      <td>0.16</td>\n    </tr>\n    <tr>\n      <th>2</th>\n      <td>Barbados</td>\n      <td>2019</td>\n      <td>Both sexes</td>\n      <td>0.31</td>\n    </tr>\n    <tr>\n      <th>3</th>\n      <td>Antigua and Barbuda</td>\n      <td>2019</td>\n      <td>Both sexes</td>\n      <td>0.32</td>\n    </tr>\n    <tr>\n      <th>4</th>\n      <td>Barbados</td>\n      <td>2019</td>\n      <td>Male</td>\n      <td>0.49</td>\n    </tr>\n    <tr>\n      <th>...</th>\n      <td>...</td>\n      <td>...</td>\n      <td>...</td>\n      <td>...</td>\n    </tr>\n    <tr>\n      <th>10975</th>\n      <td>Guinea</td>\n      <td>2000</td>\n      <td>Both sexes</td>\n      <td>9.73</td>\n    </tr>\n    <tr>\n      <th>10976</th>\n      <td>Ghana</td>\n      <td>2000</td>\n      <td>Both sexes</td>\n      <td>9.75</td>\n    </tr>\n    <tr>\n      <th>10977</th>\n      <td>Malta</td>\n      <td>2000</td>\n      <td>Male</td>\n      <td>9.75</td>\n    </tr>\n    <tr>\n      <th>10978</th>\n      <td>Seychelles</td>\n      <td>2000</td>\n      <td>Both sexes</td>\n      <td>9.76</td>\n    </tr>\n    <tr>\n      <th>10979</th>\n      <td>Montenegro</td>\n      <td>2000</td>\n      <td>Female</td>\n      <td>9.82</td>\n    </tr>\n  </tbody>\n</table>\n<p>10980 rows × 4 columns</p>\n</div>"
     },
     "execution_count": 42,
     "metadata": {},
     "output_type": "execute_result"
    }
   ],
   "source": [
    "df_suicide = pd.read_csv('Suicide rates WHO.csv')\n",
    "df_suicide[[\"Location\", \"Period\", \"Dim1\", \"FactValueNumeric\"]]\n"
   ],
   "metadata": {
    "collapsed": false,
    "pycharm": {
     "name": "#%%\n"
    }
   }
  },
  {
   "cell_type": "code",
   "execution_count": 43,
   "outputs": [
    {
     "data": {
      "text/plain": "                                       Location  Period        Dim1  \\\n0                           Antigua and Barbuda    2019  Both sexes   \n1                           Antigua and Barbuda    2019  Both sexes   \n2                           Antigua and Barbuda    2019  Both sexes   \n3                           Antigua and Barbuda    2019  Both sexes   \n4                           Antigua and Barbuda    2019  Both sexes   \n...                                         ...     ...         ...   \n4387                                    Burundi    2019        Male   \n4388  The former Yugoslav Republic of Macedonia    2019        Male   \n4389                                  Lithuania    2019        Male   \n4390                                   Ethiopia    2019        Male   \n4391                                       Togo    2019      Female   \n\n             Dim2  FactValueNumeric  \n0     15-24 years              0.00  \n1     25-34 years              0.00  \n2     35-44 years              0.00  \n3     45-54 years              0.00  \n4     65-74 years              0.00  \n...           ...               ...  \n4387  75-84 years             97.84  \n4388    85+ years             98.13  \n4389    85+ years             98.72  \n4390  75-84 years             99.05  \n4391    85+ years             99.69  \n\n[4392 rows x 5 columns]",
      "text/html": "<div>\n<style scoped>\n    .dataframe tbody tr th:only-of-type {\n        vertical-align: middle;\n    }\n\n    .dataframe tbody tr th {\n        vertical-align: top;\n    }\n\n    .dataframe thead th {\n        text-align: right;\n    }\n</style>\n<table border=\"1\" class=\"dataframe\">\n  <thead>\n    <tr style=\"text-align: right;\">\n      <th></th>\n      <th>Location</th>\n      <th>Period</th>\n      <th>Dim1</th>\n      <th>Dim2</th>\n      <th>FactValueNumeric</th>\n    </tr>\n  </thead>\n  <tbody>\n    <tr>\n      <th>0</th>\n      <td>Antigua and Barbuda</td>\n      <td>2019</td>\n      <td>Both sexes</td>\n      <td>15-24 years</td>\n      <td>0.00</td>\n    </tr>\n    <tr>\n      <th>1</th>\n      <td>Antigua and Barbuda</td>\n      <td>2019</td>\n      <td>Both sexes</td>\n      <td>25-34 years</td>\n      <td>0.00</td>\n    </tr>\n    <tr>\n      <th>2</th>\n      <td>Antigua and Barbuda</td>\n      <td>2019</td>\n      <td>Both sexes</td>\n      <td>35-44 years</td>\n      <td>0.00</td>\n    </tr>\n    <tr>\n      <th>3</th>\n      <td>Antigua and Barbuda</td>\n      <td>2019</td>\n      <td>Both sexes</td>\n      <td>45-54 years</td>\n      <td>0.00</td>\n    </tr>\n    <tr>\n      <th>4</th>\n      <td>Antigua and Barbuda</td>\n      <td>2019</td>\n      <td>Both sexes</td>\n      <td>65-74 years</td>\n      <td>0.00</td>\n    </tr>\n    <tr>\n      <th>...</th>\n      <td>...</td>\n      <td>...</td>\n      <td>...</td>\n      <td>...</td>\n      <td>...</td>\n    </tr>\n    <tr>\n      <th>4387</th>\n      <td>Burundi</td>\n      <td>2019</td>\n      <td>Male</td>\n      <td>75-84 years</td>\n      <td>97.84</td>\n    </tr>\n    <tr>\n      <th>4388</th>\n      <td>The former Yugoslav Republic of Macedonia</td>\n      <td>2019</td>\n      <td>Male</td>\n      <td>85+ years</td>\n      <td>98.13</td>\n    </tr>\n    <tr>\n      <th>4389</th>\n      <td>Lithuania</td>\n      <td>2019</td>\n      <td>Male</td>\n      <td>85+ years</td>\n      <td>98.72</td>\n    </tr>\n    <tr>\n      <th>4390</th>\n      <td>Ethiopia</td>\n      <td>2019</td>\n      <td>Male</td>\n      <td>75-84 years</td>\n      <td>99.05</td>\n    </tr>\n    <tr>\n      <th>4391</th>\n      <td>Togo</td>\n      <td>2019</td>\n      <td>Female</td>\n      <td>85+ years</td>\n      <td>99.69</td>\n    </tr>\n  </tbody>\n</table>\n<p>4392 rows × 5 columns</p>\n</div>"
     },
     "execution_count": 43,
     "metadata": {},
     "output_type": "execute_result"
    }
   ],
   "source": [
    "df_suicide_sex_age = pd.read_csv('Crude Suuicide Rates WHO.csv')\n",
    "df_suicide_sex_age[[\"Location\", \"Period\", \"Dim1\", \"Dim2\", \"FactValueNumeric\"]]"
   ],
   "metadata": {
    "collapsed": false,
    "pycharm": {
     "name": "#%%\n"
    }
   }
  },
  {
   "cell_type": "markdown",
   "source": [
    "## Mortality data\n",
    "### File name: 'MortalityDataWHR2021C2CSV.csv'\n",
    "link: https://worldhappiness.report/ed/2021/#appendices-and-data\n",
    "\n",
    "- Population data (2019-2020)\n",
    "- All-cause of death (2017-2020)"
   ],
   "metadata": {
    "collapsed": false
   }
  },
  {
   "cell_type": "code",
   "execution_count": 44,
   "outputs": [],
   "source": [
    "df = pd.read_csv(\"MortalityDataWHR2021C2CSV.csv\")"
   ],
   "metadata": {
    "collapsed": false,
    "pycharm": {
     "name": "#%%\n"
    }
   }
  },
  {
   "cell_type": "code",
   "execution_count": 45,
   "outputs": [
    {
     "data": {
      "text/plain": "          Country name             Year   Population\n0        United States  Population 2020  331002647.0\n1                Egypt  Population 2020  102334403.0\n2              Morocco  Population 2020   36910558.0\n3              Lebanon  Population 2020    6825442.0\n4         Saudi Arabia  Population 2020   34813867.0\n..                 ...              ...          ...\n325         Uzbekistan  Population 2019   33580650.0\n326              Yemen  Population 2019   29161922.0\n327             Kosovo  Population 2019    1794248.0\n328  Somaliland region  Population 2019          NaN\n329       North Cyprus  Population 2019          NaN\n\n[330 rows x 3 columns]",
      "text/html": "<div>\n<style scoped>\n    .dataframe tbody tr th:only-of-type {\n        vertical-align: middle;\n    }\n\n    .dataframe tbody tr th {\n        vertical-align: top;\n    }\n\n    .dataframe thead th {\n        text-align: right;\n    }\n</style>\n<table border=\"1\" class=\"dataframe\">\n  <thead>\n    <tr style=\"text-align: right;\">\n      <th></th>\n      <th>Country name</th>\n      <th>Year</th>\n      <th>Population</th>\n    </tr>\n  </thead>\n  <tbody>\n    <tr>\n      <th>0</th>\n      <td>United States</td>\n      <td>Population 2020</td>\n      <td>331002647.0</td>\n    </tr>\n    <tr>\n      <th>1</th>\n      <td>Egypt</td>\n      <td>Population 2020</td>\n      <td>102334403.0</td>\n    </tr>\n    <tr>\n      <th>2</th>\n      <td>Morocco</td>\n      <td>Population 2020</td>\n      <td>36910558.0</td>\n    </tr>\n    <tr>\n      <th>3</th>\n      <td>Lebanon</td>\n      <td>Population 2020</td>\n      <td>6825442.0</td>\n    </tr>\n    <tr>\n      <th>4</th>\n      <td>Saudi Arabia</td>\n      <td>Population 2020</td>\n      <td>34813867.0</td>\n    </tr>\n    <tr>\n      <th>...</th>\n      <td>...</td>\n      <td>...</td>\n      <td>...</td>\n    </tr>\n    <tr>\n      <th>325</th>\n      <td>Uzbekistan</td>\n      <td>Population 2019</td>\n      <td>33580650.0</td>\n    </tr>\n    <tr>\n      <th>326</th>\n      <td>Yemen</td>\n      <td>Population 2019</td>\n      <td>29161922.0</td>\n    </tr>\n    <tr>\n      <th>327</th>\n      <td>Kosovo</td>\n      <td>Population 2019</td>\n      <td>1794248.0</td>\n    </tr>\n    <tr>\n      <th>328</th>\n      <td>Somaliland region</td>\n      <td>Population 2019</td>\n      <td>NaN</td>\n    </tr>\n    <tr>\n      <th>329</th>\n      <td>North Cyprus</td>\n      <td>Population 2019</td>\n      <td>NaN</td>\n    </tr>\n  </tbody>\n</table>\n<p>330 rows × 3 columns</p>\n</div>"
     },
     "execution_count": 45,
     "metadata": {},
     "output_type": "execute_result"
    }
   ],
   "source": [
    "df_population = df[['Country name', 'Population 2020', 'Population 2019']]\n",
    "df_population_t = pd.melt(df_population[:-1],\n",
    "        id_vars=\"Country name\",\n",
    "        value_vars = list(df_population.columns[1:]),\n",
    "        var_name='Year',\n",
    "        value_name='Population')\n",
    "df_population_t"
   ],
   "metadata": {
    "collapsed": false,
    "pycharm": {
     "name": "#%%\n"
    }
   }
  },
  {
   "cell_type": "code",
   "execution_count": 46,
   "outputs": [
    {
     "data": {
      "text/plain": "          Country name                         Year      count\n0        United States  All-cause death count, 2017  2810927.0\n1                Egypt  All-cause death count, 2017        NaN\n2              Morocco  All-cause death count, 2017        NaN\n3              Lebanon  All-cause death count, 2017        NaN\n4         Saudi Arabia  All-cause death count, 2017        NaN\n..                 ...                          ...        ...\n655         Uzbekistan  All-cause death count, 2020   175637.0\n656              Yemen  All-cause death count, 2020        NaN\n657             Kosovo  All-cause death count, 2020    11108.0\n658  Somaliland region  All-cause death count, 2020        NaN\n659       North Cyprus  All-cause death count, 2020        NaN\n\n[660 rows x 3 columns]",
      "text/html": "<div>\n<style scoped>\n    .dataframe tbody tr th:only-of-type {\n        vertical-align: middle;\n    }\n\n    .dataframe tbody tr th {\n        vertical-align: top;\n    }\n\n    .dataframe thead th {\n        text-align: right;\n    }\n</style>\n<table border=\"1\" class=\"dataframe\">\n  <thead>\n    <tr style=\"text-align: right;\">\n      <th></th>\n      <th>Country name</th>\n      <th>Year</th>\n      <th>count</th>\n    </tr>\n  </thead>\n  <tbody>\n    <tr>\n      <th>0</th>\n      <td>United States</td>\n      <td>All-cause death count, 2017</td>\n      <td>2810927.0</td>\n    </tr>\n    <tr>\n      <th>1</th>\n      <td>Egypt</td>\n      <td>All-cause death count, 2017</td>\n      <td>NaN</td>\n    </tr>\n    <tr>\n      <th>2</th>\n      <td>Morocco</td>\n      <td>All-cause death count, 2017</td>\n      <td>NaN</td>\n    </tr>\n    <tr>\n      <th>3</th>\n      <td>Lebanon</td>\n      <td>All-cause death count, 2017</td>\n      <td>NaN</td>\n    </tr>\n    <tr>\n      <th>4</th>\n      <td>Saudi Arabia</td>\n      <td>All-cause death count, 2017</td>\n      <td>NaN</td>\n    </tr>\n    <tr>\n      <th>...</th>\n      <td>...</td>\n      <td>...</td>\n      <td>...</td>\n    </tr>\n    <tr>\n      <th>655</th>\n      <td>Uzbekistan</td>\n      <td>All-cause death count, 2020</td>\n      <td>175637.0</td>\n    </tr>\n    <tr>\n      <th>656</th>\n      <td>Yemen</td>\n      <td>All-cause death count, 2020</td>\n      <td>NaN</td>\n    </tr>\n    <tr>\n      <th>657</th>\n      <td>Kosovo</td>\n      <td>All-cause death count, 2020</td>\n      <td>11108.0</td>\n    </tr>\n    <tr>\n      <th>658</th>\n      <td>Somaliland region</td>\n      <td>All-cause death count, 2020</td>\n      <td>NaN</td>\n    </tr>\n    <tr>\n      <th>659</th>\n      <td>North Cyprus</td>\n      <td>All-cause death count, 2020</td>\n      <td>NaN</td>\n    </tr>\n  </tbody>\n</table>\n<p>660 rows × 3 columns</p>\n</div>"
     },
     "execution_count": 46,
     "metadata": {},
     "output_type": "execute_result"
    }
   ],
   "source": [
    "df_all_cause_death = df[[\"Country name\", \"All-cause death count, 2017\", \"All-cause death count, 2018\",\n",
    "                         \"All-cause death count, 2019\", \"All-cause death count, 2020\"]]\n",
    "df_all_cause_death_t = pd.melt(df_all_cause_death[:-1],\n",
    "                        id_vars=\"Country name\",\n",
    "                        value_vars = list(df_all_cause_death.columns[1:]),\n",
    "                        var_name='Year',\n",
    "                        value_name='count')\n",
    "df_all_cause_death_t"
   ],
   "metadata": {
    "collapsed": false,
    "pycharm": {
     "name": "#%%\n"
    }
   }
  },
  {
   "cell_type": "code",
   "execution_count": 47,
   "outputs": [
    {
     "data": {
      "text/plain": "     Median age  Island  Female head of government  \\\n0          38.3       0                          0   \n1          25.3       0                          0   \n2          29.6       0                          0   \n3          31.1       0                          0   \n4          31.9       0                          0   \n..          ...     ...                        ...   \n161        20.3       0                          0   \n162        35.0       0                          1   \n163         NaN       0                          0   \n164         NaN       0                          0   \n165        19.2       0                          0   \n\n     Index of institutional trust  Gini coefficient of income  \\\n0                           0.250                       47.51   \n1                           0.446                       31.56   \n2                           0.397                       39.55   \n3                           0.107                       31.83   \n4                           0.651                       45.90   \n..                            ...                         ...   \n161                         0.267                       36.71   \n162                         0.169                       29.01   \n163                           NaN                         NaN   \n164                         0.305                         NaN   \n165                         0.179                       46.34   \n\n     Index of exposure to COVID-19  infections in other countries as of March 31  \\\n0                                                1.688                             \n1                                                1.627                             \n2                                                2.336                             \n3                                                1.891                             \n4                                                1.250                             \n..                                                 ...                             \n161                                              1.005                             \n162                                              3.134                             \n163                                                NaN                             \n164                                                NaN                             \n165                                              1.076                             \n\n     COVID-19 deaths per 100,000 population in 2020  \n0                                           104.451  \n1                                             7.457  \n2                                            20.016  \n3                                            21.508  \n4                                            17.875  \n..                                              ...  \n161                                           2.045  \n162                                          68.916  \n163                                             NaN  \n164                                             NaN  \n165                                           0.563  \n\n[166 rows x 7 columns]",
      "text/html": "<div>\n<style scoped>\n    .dataframe tbody tr th:only-of-type {\n        vertical-align: middle;\n    }\n\n    .dataframe tbody tr th {\n        vertical-align: top;\n    }\n\n    .dataframe thead th {\n        text-align: right;\n    }\n</style>\n<table border=\"1\" class=\"dataframe\">\n  <thead>\n    <tr style=\"text-align: right;\">\n      <th></th>\n      <th>Median age</th>\n      <th>Island</th>\n      <th>Female head of government</th>\n      <th>Index of institutional trust</th>\n      <th>Gini coefficient of income</th>\n      <th>Index of exposure to COVID-19  infections in other countries as of March 31</th>\n      <th>COVID-19 deaths per 100,000 population in 2020</th>\n    </tr>\n  </thead>\n  <tbody>\n    <tr>\n      <th>0</th>\n      <td>38.3</td>\n      <td>0</td>\n      <td>0</td>\n      <td>0.250</td>\n      <td>47.51</td>\n      <td>1.688</td>\n      <td>104.451</td>\n    </tr>\n    <tr>\n      <th>1</th>\n      <td>25.3</td>\n      <td>0</td>\n      <td>0</td>\n      <td>0.446</td>\n      <td>31.56</td>\n      <td>1.627</td>\n      <td>7.457</td>\n    </tr>\n    <tr>\n      <th>2</th>\n      <td>29.6</td>\n      <td>0</td>\n      <td>0</td>\n      <td>0.397</td>\n      <td>39.55</td>\n      <td>2.336</td>\n      <td>20.016</td>\n    </tr>\n    <tr>\n      <th>3</th>\n      <td>31.1</td>\n      <td>0</td>\n      <td>0</td>\n      <td>0.107</td>\n      <td>31.83</td>\n      <td>1.891</td>\n      <td>21.508</td>\n    </tr>\n    <tr>\n      <th>4</th>\n      <td>31.9</td>\n      <td>0</td>\n      <td>0</td>\n      <td>0.651</td>\n      <td>45.90</td>\n      <td>1.250</td>\n      <td>17.875</td>\n    </tr>\n    <tr>\n      <th>...</th>\n      <td>...</td>\n      <td>...</td>\n      <td>...</td>\n      <td>...</td>\n      <td>...</td>\n      <td>...</td>\n      <td>...</td>\n    </tr>\n    <tr>\n      <th>161</th>\n      <td>20.3</td>\n      <td>0</td>\n      <td>0</td>\n      <td>0.267</td>\n      <td>36.71</td>\n      <td>1.005</td>\n      <td>2.045</td>\n    </tr>\n    <tr>\n      <th>162</th>\n      <td>35.0</td>\n      <td>0</td>\n      <td>1</td>\n      <td>0.169</td>\n      <td>29.01</td>\n      <td>3.134</td>\n      <td>68.916</td>\n    </tr>\n    <tr>\n      <th>163</th>\n      <td>NaN</td>\n      <td>0</td>\n      <td>0</td>\n      <td>NaN</td>\n      <td>NaN</td>\n      <td>NaN</td>\n      <td>NaN</td>\n    </tr>\n    <tr>\n      <th>164</th>\n      <td>NaN</td>\n      <td>0</td>\n      <td>0</td>\n      <td>0.305</td>\n      <td>NaN</td>\n      <td>NaN</td>\n      <td>NaN</td>\n    </tr>\n    <tr>\n      <th>165</th>\n      <td>19.2</td>\n      <td>0</td>\n      <td>0</td>\n      <td>0.179</td>\n      <td>46.34</td>\n      <td>1.076</td>\n      <td>0.563</td>\n    </tr>\n  </tbody>\n</table>\n<p>166 rows × 7 columns</p>\n</div>"
     },
     "execution_count": 47,
     "metadata": {},
     "output_type": "execute_result"
    }
   ],
   "source": [
    "df_other_features = df[[\"Median age\", \"Island\", \"Female head of government\",\n",
    "                        \"Index of institutional trust\", \"Gini coefficient of income\",\n",
    "                        \"Index of exposure to COVID-19  infections in other countries as of March 31\",\n",
    "                        \"COVID-19 deaths per 100,000 population in 2020\"]]\n",
    "df_other_features"
   ],
   "metadata": {
    "collapsed": false,
    "pycharm": {
     "name": "#%%\n"
    }
   }
  },
  {
   "cell_type": "code",
   "execution_count": null,
   "outputs": [],
   "source": [],
   "metadata": {
    "collapsed": false,
    "pycharm": {
     "name": "#%%\n"
    }
   }
  }
 ],
 "metadata": {
  "kernelspec": {
   "display_name": "Python 3",
   "language": "python",
   "name": "python3"
  },
  "language_info": {
   "codemirror_mode": {
    "name": "ipython",
    "version": 2
   },
   "file_extension": ".py",
   "mimetype": "text/x-python",
   "name": "python",
   "nbconvert_exporter": "python",
   "pygments_lexer": "ipython2",
   "version": "2.7.6"
  }
 },
 "nbformat": 4,
 "nbformat_minor": 0
}